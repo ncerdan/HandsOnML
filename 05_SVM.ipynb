{
  "nbformat": 4,
  "nbformat_minor": 0,
  "metadata": {
    "colab": {
      "name": "05_SVM.ipynb",
      "provenance": [],
      "authorship_tag": "ABX9TyOvnS9Tt0eGajXPffKlBWli"
    },
    "kernelspec": {
      "name": "python3",
      "display_name": "Python 3"
    }
  },
  "cells": [
    {
      "cell_type": "markdown",
      "metadata": {
        "id": "Q_OacF1VcV30",
        "colab_type": "text"
      },
      "source": [
        "[![Open In Colab](https://colab.research.google.com/assets/colab-badge.svg)](https://colab.research.google.com/github/ncerdan/HandsOnML/blob/master/05_SVM.ipynb)"
      ]
    },
    {
      "cell_type": "markdown",
      "metadata": {
        "id": "dmsoBfwZcCbN",
        "colab_type": "text"
      },
      "source": [
        "# Linear SVM Classification"
      ]
    },
    {
      "cell_type": "code",
      "metadata": {
        "id": "p6qBYTeEcJLY",
        "colab_type": "code",
        "colab": {}
      },
      "source": [
        ""
      ],
      "execution_count": null,
      "outputs": []
    }
  ]
}