{
  "nbformat": 4,
  "nbformat_minor": 0,
  "metadata": {
    "colab": {
      "name": "Ch_08_Dimensionality_Reduction.ipynb",
      "provenance": [],
      "toc_visible": true,
      "authorship_tag": "ABX9TyM78iDPOndcjld9NjzVZtL4"
    },
    "kernelspec": {
      "name": "python3",
      "display_name": "Python 3"
    }
  },
  "cells": [
    {
      "cell_type": "markdown",
      "metadata": {
        "id": "eNLBB_N4l39E",
        "colab_type": "text"
      },
      "source": [
        "[![Open In Colab](https://colab.research.google.com/assets/colab-badge.svg)](https://colab.research.google.com/github/ncerdan/HandsOnML/blob/master/Ch_08_Dimensionality_Reduction.ipynb)"
      ]
    },
    {
      "cell_type": "markdown",
      "metadata": {
        "id": "cHVDkivdmX58",
        "colab_type": "text"
      },
      "source": [
        "# PCA"
      ]
    },
    {
      "cell_type": "markdown",
      "metadata": {
        "id": "OUk2uVGPmaZZ",
        "colab_type": "text"
      },
      "source": [
        "## Principal Components"
      ]
    },
    {
      "cell_type": "code",
      "metadata": {
        "id": "MkUgWbWtm3Fj",
        "colab_type": "code",
        "colab": {}
      },
      "source": [
        "# make a 3D dataset\n",
        "import numpy as np\n",
        "\n",
        "np.random.seed(4)\n",
        "m = 60\n",
        "w1, w2 = 0.1, 0.3\n",
        "noise = 0.1\n",
        "\n",
        "angles = np.random.rand(m) * 3 * np.pi / 2 - 0.5\n",
        "X = np.empty((m, 3))\n",
        "X[:, 0] = np.cos(angles) + np.sin(angles)/2 + noise * np.random.randn(m) / 2\n",
        "X[:, 1] = np.sin(angles) * 0.7 + noise * np.random.randn(m) / 2\n",
        "X[:, 2] = X[:, 0] * w1 + X[:, 1] * w2 + noise * np.random.randn(m)"
      ],
      "execution_count": 2,
      "outputs": []
    },
    {
      "cell_type": "code",
      "metadata": {
        "id": "05aap6CBlwFw",
        "colab_type": "code",
        "colab": {}
      },
      "source": [
        "# you can compute them by hand using svd\n",
        "# if computing by hand, be sure to center the dataset!\n",
        "\n",
        "# compute svd\n",
        "X_centered = X - X.mean(axis=0)\n",
        "U, s, vT = np.linalg.svd(X_centered)\n",
        "\n",
        "# extract the first two PCs\n",
        "c1 = vT.T[:, 0]\n",
        "c2 = vT.T[:, 1]"
      ],
      "execution_count": 4,
      "outputs": []
    },
    {
      "cell_type": "markdown",
      "metadata": {
        "id": "zuLPjM3DnbbK",
        "colab_type": "text"
      },
      "source": [
        "## Projecting Down into d Dimensions"
      ]
    },
    {
      "cell_type": "code",
      "metadata": {
        "id": "QQTBeFQSnUgk",
        "colab_type": "code",
        "colab": {}
      },
      "source": [
        "# to project into d-dimensions, just use the first d PCs\n",
        "# here: w=2\n",
        "\n",
        "W_2 = vT.T[:, :2]\n",
        "X_2D = X_centered.dot(W_2)"
      ],
      "execution_count": 5,
      "outputs": []
    },
    {
      "cell_type": "markdown",
      "metadata": {
        "id": "i2YvV1nJoWbG",
        "colab_type": "text"
      },
      "source": [
        "## Using Sklearn"
      ]
    },
    {
      "cell_type": "code",
      "metadata": {
        "id": "LHrq2oaEoTY_",
        "colab_type": "code",
        "colab": {
          "base_uri": "https://localhost:8080/",
          "height": 68
        },
        "outputId": "93b195f3-14db-404a-b9f3-117337647964"
      },
      "source": [
        "from sklearn.decomposition import PCA\n",
        "\n",
        "pca = PCA(n_components=2)   # projects to 2-D\n",
        "X_2D = pca.fit_transform(X)\n",
        "\n",
        "# the components_ attr holds the W_d matrix used\n",
        "print('Components:', pca.components_)\n",
        "\n",
        "# this would be the first PC\n",
        "print('First PC:', pca.components_.T[:, 0])"
      ],
      "execution_count": 7,
      "outputs": [
        {
          "output_type": "stream",
          "text": [
            "Components: [[-0.93636116 -0.29854881 -0.18465208]\n",
            " [ 0.34027485 -0.90119108 -0.2684542 ]]\n",
            "First PC: [-0.93636116 -0.29854881 -0.18465208]\n"
          ],
          "name": "stdout"
        }
      ]
    },
    {
      "cell_type": "markdown",
      "metadata": {
        "id": "1x0yFRfupOMp",
        "colab_type": "text"
      },
      "source": [
        "## Explained Variance Ratio"
      ]
    },
    {
      "cell_type": "code",
      "metadata": {
        "id": "di2KhNNvpGFu",
        "colab_type": "code",
        "colab": {
          "base_uri": "https://localhost:8080/",
          "height": 34
        },
        "outputId": "920c3bce-7a40-42c5-b3e2-4bdac5d99d02"
      },
      "source": [
        "# shows how much variance each PC contains\n",
        "pca.explained_variance_ratio_   # as you can see, the third PC only would have 2%"
      ],
      "execution_count": 9,
      "outputs": [
        {
          "output_type": "execute_result",
          "data": {
            "text/plain": [
              "array([0.84248607, 0.14631839])"
            ]
          },
          "metadata": {
            "tags": []
          },
          "execution_count": 9
        }
      ]
    },
    {
      "cell_type": "markdown",
      "metadata": {
        "id": "8_wHG8Awp0ty",
        "colab_type": "text"
      },
      "source": [
        "## Choosing the Right Number of Dimensions"
      ]
    },
    {
      "cell_type": "code",
      "metadata": {
        "id": "Bo4wfmw2qn6V",
        "colab_type": "code",
        "colab": {}
      },
      "source": [
        "# first lets load in MNIST\n",
        "from sklearn.datasets import fetch_openml\n",
        "mnist = fetch_openml('mnist_784', version=1)\n",
        "mnist_target = mnist.target.astype(np.uint8)"
      ],
      "execution_count": 10,
      "outputs": []
    },
    {
      "cell_type": "code",
      "metadata": {
        "id": "b8FRdLUlrDN2",
        "colab_type": "code",
        "colab": {}
      },
      "source": [
        "# and partition it\n",
        "from sklearn.model_selection import train_test_split\n",
        "\n",
        "X = mnist['data']\n",
        "y = mnist['target']\n",
        "\n",
        "X_train, X_test, y_train, y_test = train_test_split(X, y)"
      ],
      "execution_count": 12,
      "outputs": []
    },
    {
      "cell_type": "code",
      "metadata": {
        "id": "JuQ5rYmLprIq",
        "colab_type": "code",
        "colab": {
          "base_uri": "https://localhost:8080/",
          "height": 34
        },
        "outputId": "0cb13ede-50f9-493a-eca6-c224856da869"
      },
      "source": [
        "# here, we can use pca without reducing the data then pick the smallest\n",
        "# dimension that maintains at least 95% of the variance\n",
        "\n",
        "pca = PCA()\n",
        "pca.fit(X_train)\n",
        "cumulativeSum = np.cumsum(pca.explained_variance_ratio_)\n",
        "d = np.argmax(cumulativeSum >= 0.95) + 1\n",
        "print(d)"
      ],
      "execution_count": 14,
      "outputs": [
        {
          "output_type": "stream",
          "text": [
            "154\n"
          ],
          "name": "stdout"
        }
      ]
    },
    {
      "cell_type": "code",
      "metadata": {
        "id": "9sF20pSErlIU",
        "colab_type": "code",
        "colab": {}
      },
      "source": [
        "# then we could run\n",
        "pca = PCA(n_components=d)\n",
        "X_reduced = pca.fit_transform(X_train)"
      ],
      "execution_count": 16,
      "outputs": []
    },
    {
      "cell_type": "code",
      "metadata": {
        "id": "vRShbiWxsEUp",
        "colab_type": "code",
        "colab": {}
      },
      "source": [
        "# however, instead of this, this is built in to the PCA class\n",
        "# if you pass a float between 0 and 1 it will assume you are \n",
        "# setting the minimum variance retained:\n",
        "\n",
        "pca = PCA(n_components=0.95)\n",
        "X_reduced = pca.fit_transform(X_train)"
      ],
      "execution_count": 17,
      "outputs": []
    },
    {
      "cell_type": "markdown",
      "metadata": {
        "id": "X8cetrowsn-y",
        "colab_type": "text"
      },
      "source": [
        "## PCA for Compression"
      ]
    },
    {
      "cell_type": "code",
      "metadata": {
        "id": "Uwgzk1L3sad5",
        "colab_type": "code",
        "colab": {}
      },
      "source": [
        "TODO"
      ],
      "execution_count": null,
      "outputs": []
    }
  ]
}