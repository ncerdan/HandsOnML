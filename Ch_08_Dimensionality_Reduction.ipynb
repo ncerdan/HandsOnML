{
  "nbformat": 4,
  "nbformat_minor": 0,
  "metadata": {
    "colab": {
      "name": "Ch_08_Dimensionality_Reduction.ipynb",
      "provenance": [],
      "authorship_tag": "ABX9TyPCidT8WurS4Qq4g5LJZX8U"
    },
    "kernelspec": {
      "name": "python3",
      "display_name": "Python 3"
    }
  },
  "cells": [
    {
      "cell_type": "markdown",
      "metadata": {
        "id": "eNLBB_N4l39E",
        "colab_type": "text"
      },
      "source": [
        "[![Open In Colab](https://colab.research.google.com/assets/colab-badge.svg)](https://colab.research.google.com/github/ncerdan/HandsOnML/blob/master/Ch_08_Dimensionality_Reduction.ipynb)"
      ]
    },
    {
      "cell_type": "code",
      "metadata": {
        "id": "05aap6CBlwFw",
        "colab_type": "code",
        "colab": {}
      },
      "source": [
        ""
      ],
      "execution_count": null,
      "outputs": []
    }
  ]
}