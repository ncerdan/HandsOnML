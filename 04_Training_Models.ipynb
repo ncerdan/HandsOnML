{
  "nbformat": 4,
  "nbformat_minor": 0,
  "metadata": {
    "colab": {
      "name": "04_Training_Models.ipynb",
      "provenance": [],
      "authorship_tag": "ABX9TyMOsa1bKfhzFgy/0Xhtqhgz"
    },
    "kernelspec": {
      "name": "python3",
      "display_name": "Python 3"
    }
  },
  "cells": [
    {
      "cell_type": "markdown",
      "metadata": {
        "id": "B5bEERhegLnr",
        "colab_type": "text"
      },
      "source": [
        "[![Open In Colab](https://colab.research.google.com/assets/colab-badge.svg)](https://colab.research.google.com/github/ncerdan/HandsOnML/blob/master/04_Training_Models.ipynb)"
      ]
    },
    {
      "cell_type": "markdown",
      "metadata": {
        "id": "57bTfpXBf9Vq",
        "colab_type": "text"
      },
      "source": [
        "# The Normal Equation"
      ]
    },
    {
      "cell_type": "code",
      "metadata": {
        "id": "7tfaiUtngENp",
        "colab_type": "code",
        "colab": {}
      },
      "source": [
        ""
      ],
      "execution_count": null,
      "outputs": []
    }
  ]
}