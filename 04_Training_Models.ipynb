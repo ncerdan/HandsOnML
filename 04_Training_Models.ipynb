{
  "nbformat": 4,
  "nbformat_minor": 0,
  "metadata": {
    "colab": {
      "name": "04_Training_Models.ipynb",
      "provenance": [],
      "toc_visible": true,
      "authorship_tag": "ABX9TyMpoEv22qGBiT8cRbTvjGL0"
    },
    "kernelspec": {
      "name": "python3",
      "display_name": "Python 3"
    }
  },
  "cells": [
    {
      "cell_type": "markdown",
      "metadata": {
        "id": "B5bEERhegLnr",
        "colab_type": "text"
      },
      "source": [
        "[![Open In Colab](https://colab.research.google.com/assets/colab-badge.svg)](https://colab.research.google.com/github/ncerdan/HandsOnML/blob/master/04_Training_Models.ipynb)"
      ]
    },
    {
      "cell_type": "markdown",
      "metadata": {
        "id": "57bTfpXBf9Vq",
        "colab_type": "text"
      },
      "source": [
        "# Linear Regression"
      ]
    },
    {
      "cell_type": "markdown",
      "metadata": {
        "id": "0e-IX66Xh9aq",
        "colab_type": "text"
      },
      "source": [
        "## The Normal Equation"
      ]
    },
    {
      "cell_type": "code",
      "metadata": {
        "id": "Gw0jNGRVh_n-",
        "colab_type": "code",
        "colab": {
          "base_uri": "https://localhost:8080/",
          "height": 279
        },
        "outputId": "5ee409bd-dd7a-4917-d257-2e72a198e48d"
      },
      "source": [
        "# make the data set\n",
        "import numpy as np\n",
        "import matplotlib.pyplot as plt\n",
        "\n",
        "X = 2 * np.random.rand(100, 1);\n",
        "y = 4 + 3 * X + np.random.randn(100, 1)\n",
        "\n",
        "plt.scatter(X, y)\n",
        "plt.xlabel('X')\n",
        "plt.ylabel('y')\n",
        "plt.show()"
      ],
      "execution_count": 1,
      "outputs": [
        {
          "output_type": "display_data",
          "data": {
            "image/png": "[encoded data removed]",
            "text/plain": [
              "<Figure size 432x288 with 1 Axes>"
            ]
          },
          "metadata": {
            "tags": [],
            "needs_background": "light"
          }
        }
      ]
    },
    {
      "cell_type": "code",
      "metadata": {
        "id": "tQ_CiBceiXtg",
        "colab_type": "code",
        "colab": {
          "base_uri": "https://localhost:8080/",
          "height": 51
        },
        "outputId": "4f99ae46-1186-4284-a94e-700ece7d6a44"
      },
      "source": [
        "# now lets compute theta using the normal equation\n",
        "X_b = np.c_[np.ones((100, 1)), X]   # adds x0 = 1 in front of all x rows in X\n",
        "theta_best = np.linalg.inv(X_b.T.dot(X_b)).dot(X_b.T).dot(y)\n",
        "theta_best  # close to 4, 3 but noise of randomness made it adjust"
      ],
      "execution_count": 2,
      "outputs": [
        {
          "output_type": "execute_result",
          "data": {
            "text/plain": [
              "array([[3.65859083],\n",
              "       [3.23729117]])"
            ]
          },
          "metadata": {
            "tags": []
          },
          "execution_count": 2
        }
      ]
    },
    {
      "cell_type": "code",
      "metadata": {
        "id": "MRwVpQsGjKia",
        "colab_type": "code",
        "colab": {
          "base_uri": "https://localhost:8080/",
          "height": 51
        },
        "outputId": "b91f92bb-a19a-42cf-ad23-4733a37eece2"
      },
      "source": [
        "# now can make predictions with it\n",
        "X_new = np.array([[0], [2]])\n",
        "X_new_b = np.c_[np.ones((2, 1)), X_new]\n",
        "\n",
        "y_predict = X_new_b.dot(theta_best)\n",
        "y_predict"
      ],
      "execution_count": 3,
      "outputs": [
        {
          "output_type": "execute_result",
          "data": {
            "text/plain": [
              "array([[ 3.65859083],\n",
              "       [10.13317316]])"
            ]
          },
          "metadata": {
            "tags": []
          },
          "execution_count": 3
        }
      ]
    },
    {
      "cell_type": "code",
      "metadata": {
        "id": "m0NBVR41jZih",
        "colab_type": "code",
        "colab": {
          "base_uri": "https://localhost:8080/",
          "height": 265
        },
        "outputId": "8c9b0008-b24d-4a52-fe7b-2c8bafe2fcb8"
      },
      "source": [
        "# visualize predictions\n",
        "plt.plot(X_new, y_predict, 'r-')\n",
        "plt.plot(X, y, 'b.')\n",
        "plt.axis([0, 2, 0, 15])\n",
        "plt.show()"
      ],
      "execution_count": 4,
      "outputs": [
        {
          "output_type": "display_data",
          "data": {
            "image/png": "[encoded data removed]",
            "text/plain": [
              "<Figure size 432x288 with 1 Axes>"
            ]
          },
          "metadata": {
            "tags": [],
            "needs_background": "light"
          }
        }
      ]
    },
    {
      "cell_type": "code",
      "metadata": {
        "id": "AHoNdtn8kD67",
        "colab_type": "code",
        "colab": {
          "base_uri": "https://localhost:8080/",
          "height": 68
        },
        "outputId": "6fa1f983-46df-4326-a4c3-21b7f0b22133"
      },
      "source": [
        "# now do it using sklearn\n",
        "from sklearn.linear_model import LinearRegression\n",
        "lin_reg = LinearRegression()\n",
        "lin_reg.fit(X, y)\n",
        "print(lin_reg.intercept_, lin_reg.coef_)    # notice it splits bias term from others\n",
        "\n",
        "print(lin_reg.predict(X_new))"
      ],
      "execution_count": 5,
      "outputs": [
        {
          "output_type": "stream",
          "text": [
            "[3.65859083] [[3.23729117]]\n",
            "[[ 3.65859083]\n",
            " [10.13317316]]\n"
          ],
          "name": "stdout"
        }
      ]
    },
    {
      "cell_type": "code",
      "metadata": {
        "id": "LDCTAXW_kTZK",
        "colab_type": "code",
        "colab": {
          "base_uri": "https://localhost:8080/",
          "height": 51
        },
        "outputId": "542e7caa-611a-4d9c-9a5a-eb96e7c9160e"
      },
      "source": [
        "# this class is based on the scipy least squares function which you can use directly\n",
        "theta_best_svd, residuals, rank, s = np.linalg.lstsq(X_b, y, rcond=1e-6)\n",
        "theta_best_svd  #same as above\n",
        "\n",
        "# this function computes pseudoinverse of X"
      ],
      "execution_count": 6,
      "outputs": [
        {
          "output_type": "execute_result",
          "data": {
            "text/plain": [
              "array([[3.65859083],\n",
              "       [3.23729117]])"
            ]
          },
          "metadata": {
            "tags": []
          },
          "execution_count": 6
        }
      ]
    },
    {
      "cell_type": "code",
      "metadata": {
        "id": "yGY4fL3Bk3VX",
        "colab_type": "code",
        "colab": {
          "base_uri": "https://localhost:8080/",
          "height": 51
        },
        "outputId": "fe033e81-43cc-4478-92a5-15ae2c9d59a8"
      },
      "source": [
        "# can use pinv to compute pseudoinverse directly too\n",
        "np.linalg.pinv(X_b).dot(y)  # same too!\n",
        "\n",
        "# this method is more efficient and can handle situation where inversion not possible"
      ],
      "execution_count": 7,
      "outputs": [
        {
          "output_type": "execute_result",
          "data": {
            "text/plain": [
              "array([[3.65859083],\n",
              "       [3.23729117]])"
            ]
          },
          "metadata": {
            "tags": []
          },
          "execution_count": 7
        }
      ]
    },
    {
      "cell_type": "markdown",
      "metadata": {
        "id": "bX43TKkeli2h",
        "colab_type": "text"
      },
      "source": [
        "## Batch Gradient Descent"
      ]
    },
    {
      "cell_type": "code",
      "metadata": {
        "id": "-RmkFiVSlkx_",
        "colab_type": "code",
        "colab": {
          "base_uri": "https://localhost:8080/",
          "height": 51
        },
        "outputId": "810fac5b-cf91-4a6d-c29a-1807bf78d3de"
      },
      "source": [
        "# uses the whole batch of X at each iteration\n",
        "eta = 0.1   # learning rate\n",
        "n_iterations = 1000\n",
        "m = 100\n",
        "\n",
        "theta = np.random.randn(2, 1)   # random initialization\n",
        "\n",
        "for iteration in range(n_iterations):\n",
        "    gradients = 2 / m * X_b.T.dot(X_b.dot(theta) - y)   # from calculus\n",
        "    theta = theta - eta * gradients\n",
        "\n",
        "theta   # same as normal equation!"
      ],
      "execution_count": 8,
      "outputs": [
        {
          "output_type": "execute_result",
          "data": {
            "text/plain": [
              "array([[3.65859083],\n",
              "       [3.23729117]])"
            ]
          },
          "metadata": {
            "tags": []
          },
          "execution_count": 8
        }
      ]
    },
    {
      "cell_type": "markdown",
      "metadata": {
        "id": "042J3iaiphWt",
        "colab_type": "text"
      },
      "source": [
        "## Stochastic Gradient Descent"
      ]
    },
    {
      "cell_type": "code",
      "metadata": {
        "id": "6EC-g0UypCQt",
        "colab_type": "code",
        "colab": {
          "base_uri": "https://localhost:8080/",
          "height": 51
        },
        "outputId": "31801e84-109c-44b9-bb10-92df8ca899e4"
      },
      "source": [
        "# implements SGD with simple learning schedule\n",
        "n_epochs = 50\n",
        "t0, t1 = 5, 50  # learning schedule hyperparams\n",
        "\n",
        "def learning_schedule(t):\n",
        "    return t0 / (t + t1)\n",
        "\n",
        "theta = np.random.randn(2, 1)   # still random init\n",
        "\n",
        "for epoch in range(n_epochs):\n",
        "    for i in range(m):                          # m iterations per round\n",
        "        random_index = np.random.randint(m)\n",
        "        xi = X_b[random_index:random_index+1]\n",
        "        yi = y[random_index:random_index+1]\n",
        "        gradients = 2 * xi.T.dot(xi.dot(theta) - yi)\n",
        "        eta = learning_schedule(epoch * m + i)\n",
        "        theta = theta - eta * gradients\n",
        "\n",
        "theta       # really close in only 50 rounds!"
      ],
      "execution_count": 9,
      "outputs": [
        {
          "output_type": "execute_result",
          "data": {
            "text/plain": [
              "array([[3.70430582],\n",
              "       [3.16467025]])"
            ]
          },
          "metadata": {
            "tags": []
          },
          "execution_count": 9
        }
      ]
    },
    {
      "cell_type": "code",
      "metadata": {
        "id": "_CdZgN35rNpM",
        "colab_type": "code",
        "colab": {
          "base_uri": "https://localhost:8080/",
          "height": 34
        },
        "outputId": "efa6a605-abab-4a6d-bd1b-d9719393b931"
      },
      "source": [
        "# to use this in sklearn use SGD\n",
        "# defaults to minimizing squared error\n",
        "from sklearn.linear_model import SGDRegressor\n",
        "sgd_reg = SGDRegressor(max_iter=1000, tol=1e-3, penalty=None, eta0=0.1)  # tol = tolerance to terminate\n",
        "sgd_reg.fit(X, y.ravel())\n",
        "\n",
        "sgd_reg.intercept_, sgd_reg.coef_"
      ],
      "execution_count": 10,
      "outputs": [
        {
          "output_type": "execute_result",
          "data": {
            "text/plain": [
              "(array([3.64942523]), array([3.23068879]))"
            ]
          },
          "metadata": {
            "tags": []
          },
          "execution_count": 10
        }
      ]
    },
    {
      "cell_type": "markdown",
      "metadata": {
        "id": "ah2-zFigssb8",
        "colab_type": "text"
      },
      "source": [
        "# Polynomial Regression\n",
        "\n"
      ]
    },
    {
      "cell_type": "code",
      "metadata": {
        "id": "zwYfA2uVskQD",
        "colab_type": "code",
        "colab": {
          "base_uri": "https://localhost:8080/",
          "height": 280
        },
        "outputId": "14812746-484f-4873-d8e1-4534088b5840"
      },
      "source": [
        "# make nonlinear data\n",
        "m = 100\n",
        "X = 6 * np.random.rand(m, 1) - 3\n",
        "y = 0.5 * X**2 + X + 2 + np.random.randn(m, 1)\n",
        "\n",
        "plt.plot(X, y, 'b.')\n",
        "plt.xlabel('X')\n",
        "plt.ylabel('y')\n",
        "plt.show()"
      ],
      "execution_count": 11,
      "outputs": [
        {
          "output_type": "display_data",
          "data": {
            "image/png": "[encoded data removed]",
            "text/plain": [
              "<Figure size 432x288 with 1 Axes>"
            ]
          },
          "metadata": {
            "tags": [],
            "needs_background": "light"
          }
        }
      ]
    },
    {
      "cell_type": "code",
      "metadata": {
        "id": "urTfzTPBv-Nl",
        "colab_type": "code",
        "colab": {
          "base_uri": "https://localhost:8080/",
          "height": 51
        },
        "outputId": "59e2f2b6-4c0d-4925-cb9b-bee5d05fb4c5"
      },
      "source": [
        "# use sklearn's PolynomialFeatures to add the square of each feature as a new feature\n",
        "from sklearn.preprocessing import PolynomialFeatures\n",
        "poly_features = PolynomialFeatures(degree=2, include_bias=False)\n",
        "X_poly = poly_features.fit_transform(X)\n",
        "print(X[0])\n",
        "print(X_poly[0])\n",
        "\n",
        "# also adds combinations of features\n",
        "# e.g. a, b --> poly_features(degree=3) --> a, a^2, a^3, b^2, b^3, ab, a^2b, ab^2"
      ],
      "execution_count": 12,
      "outputs": [
        {
          "output_type": "stream",
          "text": [
            "[-0.72723768]\n",
            "[-0.72723768  0.52887464]\n"
          ],
          "name": "stdout"
        }
      ]
    },
    {
      "cell_type": "code",
      "metadata": {
        "id": "U4XSSI33wtce",
        "colab_type": "code",
        "colab": {
          "base_uri": "https://localhost:8080/",
          "height": 34
        },
        "outputId": "011d644d-c34a-456d-8c7f-e656b5440666"
      },
      "source": [
        "# now we can just fit it using LinearRegression\n",
        "lin_reg = LinearRegression()\n",
        "lin_reg.fit(X_poly, y)\n",
        "lin_reg.intercept_, lin_reg.coef_"
      ],
      "execution_count": 13,
      "outputs": [
        {
          "output_type": "execute_result",
          "data": {
            "text/plain": [
              "(array([1.97265222]), array([[0.94416672, 0.51224287]]))"
            ]
          },
          "metadata": {
            "tags": []
          },
          "execution_count": 13
        }
      ]
    },
    {
      "cell_type": "code",
      "metadata": {
        "id": "dybJ3nVGw7zl",
        "colab_type": "code",
        "colab": {
          "base_uri": "https://localhost:8080/",
          "height": 266
        },
        "outputId": "6829b6b6-2305-4821-82ef-ec1b16774a55"
      },
      "source": [
        "# visualize it\n",
        "X_disp = np.arange(-3, 3.5, 0.5)\n",
        "\n",
        "X_disp_poly = poly_features.fit_transform(X_disp.reshape(-1, 1))\n",
        "y_disp = lin_reg.predict(X_disp_poly)\n",
        "\n",
        "plt.plot(X, y, 'b.')\n",
        "plt.plot(X_disp, y_disp, 'r-')\n",
        "plt.show()"
      ],
      "execution_count": 14,
      "outputs": [
        {
          "output_type": "display_data",
          "data": {
            "image/png": "[encoded data removed]",
            "text/plain": [
              "<Figure size 432x288 with 1 Axes>"
            ]
          },
          "metadata": {
            "tags": [],
            "needs_background": "light"
          }
        }
      ]
    },
    {
      "cell_type": "markdown",
      "metadata": {
        "id": "2UASC_sWzsEI",
        "colab_type": "text"
      },
      "source": [
        "## Learning Curves"
      ]
    },
    {
      "cell_type": "code",
      "metadata": {
        "id": "3dappp0bzt4K",
        "colab_type": "code",
        "colab": {}
      },
      "source": [
        "from sklearn.metrics import mean_squared_error\n",
        "from sklearn.model_selection import train_test_split\n",
        "\n",
        "def plot_learning_curves(model, X, y):\n",
        "    X_train, X_val, y_train, y_val = train_test_split(X, y, test_size=0.2)\n",
        "    train_errors, val_errors = [], []\n",
        "    for m in range(1, len(X_train)):\n",
        "        model.fit(X_train[:m], y_train[:m])\n",
        "        y_train_predict = model.predict(X_train[:m])\n",
        "        y_val_predict = model.predict(X_val)\n",
        "        train_errors.append(mean_squared_error(y_train[:m], y_train_predict))\n",
        "        val_errors.append(mean_squared_error(y_val, y_val_predict))\n",
        "\n",
        "    plt.plot(np.sqrt(train_errors), 'r-+', linewidth=2, label='train')\n",
        "    plt.plot(np.sqrt(val_errors), 'b-', linewidth=3, label='val')\n",
        "    plt.axis([0, 80, 0, 3])\n",
        "    plt.legend()\n",
        "    plt.show()"
      ],
      "execution_count": 15,
      "outputs": []
    },
    {
      "cell_type": "code",
      "metadata": {
        "id": "h-k5-3cF73S1",
        "colab_type": "code",
        "colab": {
          "base_uri": "https://localhost:8080/",
          "height": 269
        },
        "outputId": "515fbff5-3628-4575-c0f9-06727ebde748"
      },
      "source": [
        "lin_reg = LinearRegression()\n",
        "plot_learning_curves(lin_reg, X, y)\n",
        "\n",
        "# both training and validation errors are similar but high = underfitting"
      ],
      "execution_count": 16,
      "outputs": [
        {
          "output_type": "display_data",
          "data": {
            "image/png": "[encoded data removed]",
            "text/plain": [
              "<Figure size 432x288 with 1 Axes>"
            ]
          },
          "metadata": {
            "tags": [],
            "needs_background": "light"
          }
        }
      ]
    },
    {
      "cell_type": "code",
      "metadata": {
        "id": "Uwg4ozRD7-Cb",
        "colab_type": "code",
        "colab": {
          "base_uri": "https://localhost:8080/",
          "height": 269
        },
        "outputId": "5d41bab2-238c-44f7-8d0b-8eedbfd1a515"
      },
      "source": [
        "# now lets try it using a 10-degree polynomial\n",
        "from sklearn.pipeline import Pipeline\n",
        "polynomial_regression = Pipeline([\n",
        "    ('poly_feature', PolynomialFeatures(degree=10, include_bias=False)),\n",
        "    ('lin_reg', LinearRegression()),\n",
        "])\n",
        "\n",
        "plot_learning_curves(polynomial_regression, X, y)\n",
        "\n",
        "# Notes:\n",
        "#   lower error on training data, and gap between training and validation = overfitting"
      ],
      "execution_count": 18,
      "outputs": [
        {
          "output_type": "display_data",
          "data": {
            "image/png": "[encoded data removed]",
            "text/plain": [
              "<Figure size 432x288 with 1 Axes>"
            ]
          },
          "metadata": {
            "tags": [],
            "needs_background": "light"
          }
        }
      ]
    },
    {
      "cell_type": "markdown",
      "metadata": {
        "id": "fAk8upmK9_fL",
        "colab_type": "text"
      },
      "source": [
        "# Regularized Linear Models"
      ]
    },
    {
      "cell_type": "markdown",
      "metadata": {
        "id": "r7wW635RKgyn",
        "colab_type": "text"
      },
      "source": [
        "## Ridge Regression"
      ]
    },
    {
      "cell_type": "code",
      "metadata": {
        "id": "E_XaUCo99c5r",
        "colab_type": "code",
        "colab": {
          "base_uri": "https://localhost:8080/",
          "height": 34
        },
        "outputId": "1dab2f83-1719-45c6-c6d5-a349097ba85a"
      },
      "source": [
        "# closed form\n",
        "from sklearn.linear_model import Ridge\n",
        "# alpha = scaling of factorization term\n",
        "# solver = matrix factorization method\n",
        "ridge_reg = Ridge(alpha=1, solver='cholesky')\n",
        "ridge_reg.fit(X, y)\n",
        "ridge_reg.predict([[1.5]])"
      ],
      "execution_count": 19,
      "outputs": [
        {
          "output_type": "execute_result",
          "data": {
            "text/plain": [
              "array([[4.81360472]])"
            ]
          },
          "metadata": {
            "tags": []
          },
          "execution_count": 19
        }
      ]
    },
    {
      "cell_type": "code",
      "metadata": {
        "id": "khu5ofTbLDBs",
        "colab_type": "code",
        "colab": {
          "base_uri": "https://localhost:8080/",
          "height": 34
        },
        "outputId": "f24c74df-aa05-43e2-ae2d-39998ffca84c"
      },
      "source": [
        "# also using SGD\n",
        "# penalty = regularization term (l2 makes it same as Ridge Regression)\n",
        "sgd_reg = SGDRegressor(penalty='l2')\n",
        "sgd_reg.fit(X, y.ravel())\n",
        "sgd_reg.predict([[1.5]])"
      ],
      "execution_count": 20,
      "outputs": [
        {
          "output_type": "execute_result",
          "data": {
            "text/plain": [
              "array([4.78291442])"
            ]
          },
          "metadata": {
            "tags": []
          },
          "execution_count": 20
        }
      ]
    },
    {
      "cell_type": "markdown",
      "metadata": {
        "id": "NVGyMAToLmUl",
        "colab_type": "text"
      },
      "source": [
        "## Lasso Regression"
      ]
    },
    {
      "cell_type": "code",
      "metadata": {
        "id": "asBb4bk_LaV1",
        "colab_type": "code",
        "colab": {
          "base_uri": "https://localhost:8080/",
          "height": 34
        },
        "outputId": "c2c9871d-d38a-453a-c27c-8e36ad695724"
      },
      "source": [
        "# small example\n",
        "from sklearn.linear_model import Lasso\n",
        "lasso_reg = Lasso(alpha=0.1)\n",
        "lasso_reg.fit(X, y)\n",
        "lasso_reg.predict([[1.5]])"
      ],
      "execution_count": 21,
      "outputs": [
        {
          "output_type": "execute_result",
          "data": {
            "text/plain": [
              "array([4.76564266])"
            ]
          },
          "metadata": {
            "tags": []
          },
          "execution_count": 21
        }
      ]
    },
    {
      "cell_type": "code",
      "metadata": {
        "id": "CNXVei0qOODK",
        "colab_type": "code",
        "colab": {
          "base_uri": "https://localhost:8080/",
          "height": 34
        },
        "outputId": "ca2d9834-bb75-4764-a380-c1792546ab30"
      },
      "source": [
        "# alternatively\n",
        "# penalty = l1 makes it same as Lasso Regression\n",
        "sgd_reg = SGDRegressor(penalty='l1')\n",
        "sgd_reg.fit(X, y.ravel())\n",
        "sgd_reg.predict([[1.5]])"
      ],
      "execution_count": 22,
      "outputs": [
        {
          "output_type": "execute_result",
          "data": {
            "text/plain": [
              "array([4.8158872])"
            ]
          },
          "metadata": {
            "tags": []
          },
          "execution_count": 22
        }
      ]
    },
    {
      "cell_type": "markdown",
      "metadata": {
        "id": "g-9vbzKYOZCC",
        "colab_type": "text"
      },
      "source": [
        "## Elastic Net"
      ]
    },
    {
      "cell_type": "code",
      "metadata": {
        "id": "CxdTCuDHOXOg",
        "colab_type": "code",
        "colab": {
          "base_uri": "https://localhost:8080/",
          "height": 34
        },
        "outputId": "d431e20a-05ce-41d4-a9ab-1ca6f30f9485"
      },
      "source": [
        "# small example\n",
        "from sklearn.linear_model import ElasticNet\n",
        "# l1_ratio = r (from notes)\n",
        "elastic_net = ElasticNet(alpha=0.1, l1_ratio=0.5)\n",
        "elastic_net.fit(X, y)\n",
        "elastic_net.predict([[1.5]])"
      ],
      "execution_count": 23,
      "outputs": [
        {
          "output_type": "execute_result",
          "data": {
            "text/plain": [
              "array([4.7704382])"
            ]
          },
          "metadata": {
            "tags": []
          },
          "execution_count": 23
        }
      ]
    },
    {
      "cell_type": "code",
      "metadata": {
        "id": "jChrA0ccPfIt",
        "colab_type": "code",
        "colab": {
          "base_uri": "https://localhost:8080/",
          "height": 34
        },
        "outputId": "26396209-6eca-4148-d3a7-aa9226263b06"
      },
      "source": [
        "# alternatively\n",
        "# penalty = elasticnet makes it same as Lasso Regression\n",
        "sgd_reg = SGDRegressor(penalty='elasticnet')\n",
        "sgd_reg.fit(X, y.ravel())\n",
        "sgd_reg.predict([[1.5]])"
      ],
      "execution_count": 24,
      "outputs": [
        {
          "output_type": "execute_result",
          "data": {
            "text/plain": [
              "array([4.78404055])"
            ]
          },
          "metadata": {
            "tags": []
          },
          "execution_count": 24
        }
      ]
    },
    {
      "cell_type": "markdown",
      "metadata": {
        "id": "x-vKtu04PcHz",
        "colab_type": "text"
      },
      "source": [
        "## Early Stopping"
      ]
    },
    {
      "cell_type": "code",
      "metadata": {
        "id": "KEsM6LobPWL7",
        "colab_type": "code",
        "colab": {}
      },
      "source": [
        "\"\"\"Basic Implementation.\n",
        "\n",
        "Doesn't actually work bc not real dataset used.\n",
        "\n",
        "from sklearn.base import clone\n",
        "from sklearn.preprocessing import StandardScaler\n",
        "\n",
        "# prepare data\n",
        "poly_scaler = Pipeline([\n",
        "    ('poly_features', PolynomialFeatures(degree=90, include_bias=False)),\n",
        "    ('std_scaler', StandardScaler())\n",
        "])\n",
        "X_train_poly_scaled = poly_scaler.fit_transform(X_train)\n",
        "X_val_poly_scaled = poly_scaler.fit_transform(X_val)\n",
        "\n",
        "# warm_string=True, continues training where it left off instead of starting from scratch\n",
        "sgd_reg = SGDRegressor(max_iter=1, tol=-np.infty, warm_start=True,\n",
        "                       penalty=None, learning_rate='constant', eta0=0.0005)\n",
        "\n",
        "minimum_val_error = float('inf')\n",
        "best_epoch = None\n",
        "best_model = None\n",
        "for epoch in range(1000):\n",
        "    sgd_reg.fit(X_train_poly_scaled, y_train)   # continues where it left off\n",
        "    y_val_predict = sgd_reg.predict(X_val_poly_scaled)\n",
        "    val_error = mean_squared_error(y_val, y_val_predict)\n",
        "    if val_error < minimum_val_error:\n",
        "        minimum_val_error = val_error\n",
        "        best_epoch = epoch\n",
        "        best_model = clone(sgd_reg)\n",
        "\"\"\""
      ],
      "execution_count": null,
      "outputs": []
    },
    {
      "cell_type": "markdown",
      "metadata": {
        "id": "5w3yyAj7SUkW",
        "colab_type": "text"
      },
      "source": [
        "# Logistic Regression"
      ]
    },
    {
      "cell_type": "markdown",
      "metadata": {
        "id": "rATCKyKhAm_k",
        "colab_type": "text"
      },
      "source": [
        "## Decision Boundaries"
      ]
    },
    {
      "cell_type": "code",
      "metadata": {
        "id": "kMRPN4X9Rwq1",
        "colab_type": "code",
        "colab": {
          "base_uri": "https://localhost:8080/",
          "height": 34
        },
        "outputId": "e36176ef-1eab-4db2-b016-199042a21db9"
      },
      "source": [
        "# let's use the Iris dataset\n",
        "from sklearn import datasets\n",
        "\n",
        "iris = datasets.load_iris()\n",
        "print(list(iris.keys()))\n",
        "X = iris['data'][:, 3:] # petal width\n",
        "y = (iris['target'] == 2).astype(np.int)    # 1 if Iris virginica, else 0"
      ],
      "execution_count": 27,
      "outputs": [
        {
          "output_type": "stream",
          "text": [
            "['data', 'target', 'target_names', 'DESCR', 'feature_names', 'filename']\n"
          ],
          "name": "stdout"
        }
      ]
    },
    {
      "cell_type": "code",
      "metadata": {
        "id": "dhVVJsmxBQLx",
        "colab_type": "code",
        "colab": {
          "base_uri": "https://localhost:8080/",
          "height": 102
        },
        "outputId": "6abce695-4335-4262-b5ba-666a6a96356b"
      },
      "source": [
        "# now let's train a LogisticRegression model\n",
        "from sklearn.linear_model import LogisticRegression\n",
        "\n",
        "log_reg = LogisticRegression()\n",
        "log_reg.fit(X, y)"
      ],
      "execution_count": 32,
      "outputs": [
        {
          "output_type": "execute_result",
          "data": {
            "text/plain": [
              "LogisticRegression(C=1.0, class_weight=None, dual=False, fit_intercept=True,\n",
              "                   intercept_scaling=1, l1_ratio=None, max_iter=100,\n",
              "                   multi_class='auto', n_jobs=None, penalty='l2',\n",
              "                   random_state=None, solver='lbfgs', tol=0.0001, verbose=0,\n",
              "                   warm_start=False)"
            ]
          },
          "metadata": {
            "tags": []
          },
          "execution_count": 32
        }
      ]
    },
    {
      "cell_type": "code",
      "metadata": {
        "id": "oqDiprahBerg",
        "colab_type": "code",
        "colab": {
          "base_uri": "https://localhost:8080/",
          "height": 265
        },
        "outputId": "bf03b888-f0b7-4c59-a25f-329dbc917d02"
      },
      "source": [
        "# let's look at the model's estimated probabilities\n",
        "X_new = np.linspace(0, 3, 1000).reshape(-1, 1)\n",
        "y_proba = log_reg.predict_proba(X_new)  # proba 0 col = prob for class 0, 1 col = prob for class 1\n",
        "plt.plot(X_new, y_proba[:, 1], 'g-', label='Iris virginica')\n",
        "plt.plot(X_new, y_proba[:, 0], 'b--', label='Not Itis virginica')\n",
        "plt.show()"
      ],
      "execution_count": 35,
      "outputs": [
        {
          "output_type": "display_data",
          "data": {
            "image/png": "[encoded data removed]",
            "text/plain": [
              "<Figure size 432x288 with 1 Axes>"
            ]
          },
          "metadata": {
            "tags": [],
            "needs_background": "light"
          }
        }
      ]
    },
    {
      "cell_type": "code",
      "metadata": {
        "id": "IOAso-C3B9DO",
        "colab_type": "code",
        "colab": {
          "base_uri": "https://localhost:8080/",
          "height": 51
        },
        "outputId": "fedaff90-9a74-4f89-8867-63cfe3bdf08e"
      },
      "source": [
        "# predict will make a decision based on which class has the higher prob\n",
        "print(log_reg.predict([[1.7]])) # to right of intersection --> class 1\n",
        "print(log_reg.predict([[1.5]])) # to left of intersection  --> class 0"
      ],
      "execution_count": 39,
      "outputs": [
        {
          "output_type": "stream",
          "text": [
            "[1]\n",
            "[0]\n"
          ],
          "name": "stdout"
        }
      ]
    },
    {
      "cell_type": "code",
      "metadata": {
        "id": "NFBMRHuBCAiS",
        "colab_type": "code",
        "colab": {}
      },
      "source": [
        "# sklearn by default adds l2 regularization\n",
        "# for LogisticRegression, magnitude of regularization is not controlled by alpha,\n",
        "# but by C (alpha's inverse), therefore a large C = less regularization\n",
        "# e.g. log_reg_2 = LogisticRegression(penalty='l1', C=0.01)"
      ],
      "execution_count": 41,
      "outputs": []
    },
    {
      "cell_type": "markdown",
      "metadata": {
        "id": "hWy7s6XqDuPk",
        "colab_type": "text"
      },
      "source": [
        "## Softmax Regression"
      ]
    },
    {
      "cell_type": "code",
      "metadata": {
        "id": "zivrN1gLDgoW",
        "colab_type": "code",
        "colab": {
          "base_uri": "https://localhost:8080/",
          "height": 102
        },
        "outputId": "b474a3fe-7752-4b18-c5f9-331ffdc4dc9a"
      },
      "source": [
        "# let's train one with 2D input\n",
        "X = iris['data'][:, (2, 3)] # petal length, petal width\n",
        "y = iris['target']\n",
        "\n",
        "softmax_reg = LogisticRegression(multi_class='multinomial', solver='lbfgs', C=10)\n",
        "softmax_reg.fit(X, y)"
      ],
      "execution_count": 42,
      "outputs": [
        {
          "output_type": "execute_result",
          "data": {
            "text/plain": [
              "LogisticRegression(C=10, class_weight=None, dual=False, fit_intercept=True,\n",
              "                   intercept_scaling=1, l1_ratio=None, max_iter=100,\n",
              "                   multi_class='multinomial', n_jobs=None, penalty='l2',\n",
              "                   random_state=None, solver='lbfgs', tol=0.0001, verbose=0,\n",
              "                   warm_start=False)"
            ]
          },
          "metadata": {
            "tags": []
          },
          "execution_count": 42
        }
      ]
    },
    {
      "cell_type": "code",
      "metadata": {
        "id": "yXwpyZPDGQah",
        "colab_type": "code",
        "colab": {
          "base_uri": "https://localhost:8080/",
          "height": 51
        },
        "outputId": "c28aee43-7286-4536-9ec1-c906e038e96c"
      },
      "source": [
        "# try it out\n",
        "print(softmax_reg.predict_proba([[5, 2]]))\n",
        "print(softmax_reg.predict([[5, 2]]))        # picks the class with the largest proba"
      ],
      "execution_count": 45,
      "outputs": [
        {
          "output_type": "stream",
          "text": [
            "[[6.38014896e-07 5.74929995e-02 9.42506362e-01]]\n",
            "[2]\n"
          ],
          "name": "stdout"
        }
      ]
    },
    {
      "cell_type": "markdown",
      "metadata": {
        "id": "hiFETPDQHiHm",
        "colab_type": "text"
      },
      "source": [
        "# Exercises"
      ]
    },
    {
      "cell_type": "markdown",
      "metadata": {
        "id": "HQAZrP6fHkUp",
        "colab_type": "text"
      },
      "source": [
        "## 1.) Which Lin Reg training alg could you use if you have millions of features?"
      ]
    },
    {
      "cell_type": "markdown",
      "metadata": {
        "id": "-h3VQ4HFHrpn",
        "colab_type": "text"
      },
      "source": [
        "Can't use closed form or SVD methods bc of bad complexity. Can instead use SGD, mini-batch GS, or even bath GD if memory allows"
      ]
    },
    {
      "cell_type": "markdown",
      "metadata": {
        "id": "lBMaZDtdISZq",
        "colab_type": "text"
      },
      "source": [
        "##2.) What algs suffer from differently-scaled features? What can you do about it?"
      ]
    },
    {
      "cell_type": "markdown",
      "metadata": {
        "id": "0hNq-jTgIbUK",
        "colab_type": "text"
      },
      "source": [
        "GD will suffer, closed form will not. Instead, you can standardize you features."
      ]
    },
    {
      "cell_type": "markdown",
      "metadata": {
        "id": "RgZpLy5nIqoN",
        "colab_type": "text"
      },
      "source": [
        "## 3.) Can GD get stuck in a locl min when training a Logistic Regression model?"
      ]
    },
    {
      "cell_type": "markdown",
      "metadata": {
        "id": "1TFViqP-Ixae",
        "colab_type": "text"
      },
      "source": [
        "NO! The cose function if convex."
      ]
    },
    {
      "cell_type": "markdown",
      "metadata": {
        "id": "yCyPqAVvI4EU",
        "colab_type": "text"
      },
      "source": [
        "## 4.) Do all GD algs lead to the same model, provided they run long enough?"
      ]
    },
    {
      "cell_type": "markdown",
      "metadata": {
        "id": "s2uuYV-II-Iw",
        "colab_type": "text"
      },
      "source": [
        "Yes, as long as the function is convex. However, if the learning rate is too high for SGD or mini-batch GD, they will never converge at the optimal value."
      ]
    },
    {
      "cell_type": "markdown",
      "metadata": {
        "id": "NwzNH_vyJP_q",
        "colab_type": "text"
      },
      "source": [
        "## 5.) If running Batch GD and you see validation error consistenly go up what is happening and what can you do?"
      ]
    },
    {
      "cell_type": "markdown",
      "metadata": {
        "id": "egribfPSJYwq",
        "colab_type": "text"
      },
      "source": [
        "It is overfitting. You can stop early or regularize."
      ]
    },
    {
      "cell_type": "markdown",
      "metadata": {
        "id": "xavMRTXuJkOZ",
        "colab_type": "text"
      },
      "source": [
        "## 6.) Should you stop Mini-batch GD as soon as validation error goes up?"
      ]
    },
    {
      "cell_type": "markdown",
      "metadata": {
        "id": "d4ks1HQJJpmK",
        "colab_type": "text"
      },
      "source": [
        "No. With Mini-batch and SGD temporary increases in validation error are common because the algs are more erradic."
      ]
    },
    {
      "cell_type": "markdown",
      "metadata": {
        "id": "yZjcnZZCJwlx",
        "colab_type": "text"
      },
      "source": [
        "## 7.) Which GD algs are the fastest? Which will actually converge? How can you make the others converge as well?"
      ]
    },
    {
      "cell_type": "markdown",
      "metadata": {
        "id": "pWPySku_J5Hb",
        "colab_type": "text"
      },
      "source": [
        "Fastest = SGD bc only one training point per iteration. Mini-batch is fast too if you use a small mini-batch size. However, Batch GD is the only one that will actually converge. To make the others converge, you can lower the learning rate over time to force them to converge."
      ]
    },
    {
      "cell_type": "markdown",
      "metadata": {
        "id": "iaubK9KWKK_J",
        "colab_type": "text"
      },
      "source": [
        "## 8.) Polynomial Regression learning curves show disparity between training and validation errors. What is happening and what can you do?"
      ]
    },
    {
      "cell_type": "markdown",
      "metadata": {
        "id": "QnqCRs3OKZgY",
        "colab_type": "text"
      },
      "source": [
        "Probably overfitting. You can decrease degree of polynomial, add a regularization term, or get more data for your training set."
      ]
    },
    {
      "cell_type": "markdown",
      "metadata": {
        "id": "9tZKt6dUKjea",
        "colab_type": "text"
      },
      "source": [
        "## 9.) Suppose using Ridge Regression and notice similar and high training and validation errors. Does the model suffer from high bias or high variance? Should you increase or decrease the magnitude of alpha (regularization constant)?"
      ]
    },
    {
      "cell_type": "markdown",
      "metadata": {
        "id": "gnIEEchuK2K3",
        "colab_type": "text"
      },
      "source": [
        "This means it is underfitting. This means that it is suffering from high bias. I should decrease alpha."
      ]
    },
    {
      "cell_type": "markdown",
      "metadata": {
        "id": "1rsAW7I5LBDK",
        "colab_type": "text"
      },
      "source": [
        "## 10.) Why would you want to use:\n",
        "    a.) Ridge Regression instead of Linear Regression\n",
        "    b.) Lasso instead of Ridge?\n",
        "    c.) Elastic Net insetad of Lasso?"
      ]
    },
    {
      "cell_type": "markdown",
      "metadata": {
        "id": "RENxqAETLNrR",
        "colab_type": "text"
      },
      "source": [
        "a.) If Linear Regression is overfitting\n",
        "b.) If you want feature selection\n",
        "c.) To prevent erradic behavior of Lasso"
      ]
    },
    {
      "cell_type": "markdown",
      "metadata": {
        "id": "d0gN5IgDLj0Y",
        "colab_type": "text"
      },
      "source": [
        "## 11.) Suppose you want a classifier for outdoor/indoor and daytime/nighttime. SHould you implement two Logistic Regression models or one softmax?"
      ]
    },
    {
      "cell_type": "markdown",
      "metadata": {
        "id": "wFW0jAq-Luny",
        "colab_type": "text"
      },
      "source": [
        "Should train 2 logistic regression models because those 4 classes are not mutually exclusive."
      ]
    },
    {
      "cell_type": "markdown",
      "metadata": {
        "id": "6U0tZoRAL3ZR",
        "colab_type": "text"
      },
      "source": [
        "## 12.) Implement Batch Gradient Descent with early stopping for Softmax Regression without sklearn"
      ]
    },
    {
      "cell_type": "code",
      "metadata": {
        "id": "aEJNoSvUGVEw",
        "colab_type": "code",
        "colab": {}
      },
      "source": [
        "todo"
      ],
      "execution_count": null,
      "outputs": []
    }
  ]
}