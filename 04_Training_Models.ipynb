{
  "nbformat": 4,
  "nbformat_minor": 0,
  "metadata": {
    "colab": {
      "name": "04_Training_Models.ipynb",
      "provenance": [],
      "toc_visible": true,
      "authorship_tag": "ABX9TyOV9kUj+nPQ0vT6HmrxDbRt"
    },
    "kernelspec": {
      "name": "python3",
      "display_name": "Python 3"
    }
  },
  "cells": [
    {
      "cell_type": "markdown",
      "metadata": {
        "id": "B5bEERhegLnr",
        "colab_type": "text"
      },
      "source": [
        "[![Open In Colab](https://colab.research.google.com/assets/colab-badge.svg)](https://colab.research.google.com/github/ncerdan/HandsOnML/blob/master/04_Training_Models.ipynb)"
      ]
    },
    {
      "cell_type": "markdown",
      "metadata": {
        "id": "57bTfpXBf9Vq",
        "colab_type": "text"
      },
      "source": [
        "# Linear Regression"
      ]
    },
    {
      "cell_type": "markdown",
      "metadata": {
        "id": "0e-IX66Xh9aq",
        "colab_type": "text"
      },
      "source": [
        "## The Normal Equation"
      ]
    },
    {
      "cell_type": "code",
      "metadata": {
        "id": "Gw0jNGRVh_n-",
        "colab_type": "code",
        "colab": {
          "base_uri": "https://localhost:8080/",
          "height": 279
        },
        "outputId": "9547f2b5-b0eb-4a3e-dde5-9187b6f24662"
      },
      "source": [
        "# make the data set\n",
        "import numpy as np\n",
        "import matplotlib.pyplot as plt\n",
        "\n",
        "X = 2 * np.random.rand(100, 1);\n",
        "y = 4 + 3 * X + np.random.randn(100, 1)\n",
        "\n",
        "plt.scatter(X, y)\n",
        "plt.xlabel('X')\n",
        "plt.ylabel('y')\n",
        "plt.show()"
      ],
      "execution_count": 1,
      "outputs": [
        {
          "output_type": "display_data",
          "data": {
            "image/png": "[encoded data removed]",
            "text/plain": [
              "<Figure size 432x288 with 1 Axes>"
            ]
          },
          "metadata": {
            "tags": [],
            "needs_background": "light"
          }
        }
      ]
    },
    {
      "cell_type": "code",
      "metadata": {
        "id": "tQ_CiBceiXtg",
        "colab_type": "code",
        "colab": {
          "base_uri": "https://localhost:8080/",
          "height": 51
        },
        "outputId": "b61d3380-6757-4f2e-aef8-7dd8b74065bc"
      },
      "source": [
        "# now lets compute theta using the normal equation\n",
        "X_b = np.c_[np.ones((100, 1)), X]   # adds x0 = 1 in front of all x rows in X\n",
        "theta_best = np.linalg.inv(X_b.T.dot(X_b)).dot(X_b.T).dot(y)\n",
        "theta_best  # close to 4, 3 but noise of randomness made it adjust"
      ],
      "execution_count": 2,
      "outputs": [
        {
          "output_type": "execute_result",
          "data": {
            "text/plain": [
              "array([[3.83084264],\n",
              "       [3.27961213]])"
            ]
          },
          "metadata": {
            "tags": []
          },
          "execution_count": 2
        }
      ]
    },
    {
      "cell_type": "code",
      "metadata": {
        "id": "MRwVpQsGjKia",
        "colab_type": "code",
        "colab": {
          "base_uri": "https://localhost:8080/",
          "height": 51
        },
        "outputId": "1c73ffc7-e313-472d-abf7-abcd49c37530"
      },
      "source": [
        "# now can make predictions with it\n",
        "X_new = np.array([[0], [2]])\n",
        "X_new_b = np.c_[np.ones((2, 1)), X_new]\n",
        "\n",
        "y_predict = X_new_b.dot(theta_best)\n",
        "y_predict"
      ],
      "execution_count": 3,
      "outputs": [
        {
          "output_type": "execute_result",
          "data": {
            "text/plain": [
              "array([[ 3.83084264],\n",
              "       [10.3900669 ]])"
            ]
          },
          "metadata": {
            "tags": []
          },
          "execution_count": 3
        }
      ]
    },
    {
      "cell_type": "code",
      "metadata": {
        "id": "m0NBVR41jZih",
        "colab_type": "code",
        "colab": {
          "base_uri": "https://localhost:8080/",
          "height": 265
        },
        "outputId": "f88a8414-6800-4245-bcbf-6ef4587ef439"
      },
      "source": [
        "# visualize predictions\n",
        "plt.plot(X_new, y_predict, 'r-')\n",
        "plt.plot(X, y, 'b.')\n",
        "plt.axis([0, 2, 0, 15])\n",
        "plt.show()"
      ],
      "execution_count": 4,
      "outputs": [
        {
          "output_type": "display_data",
          "data": {
            "image/png": "[encoded data removed]",
            "text/plain": [
              "<Figure size 432x288 with 1 Axes>"
            ]
          },
          "metadata": {
            "tags": [],
            "needs_background": "light"
          }
        }
      ]
    },
    {
      "cell_type": "code",
      "metadata": {
        "id": "AHoNdtn8kD67",
        "colab_type": "code",
        "colab": {
          "base_uri": "https://localhost:8080/",
          "height": 68
        },
        "outputId": "acdbf6a4-770d-4f86-ca31-f0b48ff81286"
      },
      "source": [
        "# now do it using sklearn\n",
        "from sklearn.linear_model import LinearRegression\n",
        "lin_reg = LinearRegression()\n",
        "lin_reg.fit(X, y)\n",
        "print(lin_reg.intercept_, lin_reg.coef_)    # notice it splits bias term from others\n",
        "\n",
        "print(lin_reg.predict(X_new))"
      ],
      "execution_count": 5,
      "outputs": [
        {
          "output_type": "stream",
          "text": [
            "[3.83084264] [[3.27961213]]\n",
            "[[ 3.83084264]\n",
            " [10.3900669 ]]\n"
          ],
          "name": "stdout"
        }
      ]
    },
    {
      "cell_type": "code",
      "metadata": {
        "id": "LDCTAXW_kTZK",
        "colab_type": "code",
        "colab": {
          "base_uri": "https://localhost:8080/",
          "height": 51
        },
        "outputId": "a87ef223-141b-45e6-8699-5c68dad9de71"
      },
      "source": [
        "# this class is based on the scipy least squares function which you can use directly\n",
        "theta_best_svd, residuals, rank, s = np.linalg.lstsq(X_b, y, rcond=1e-6)\n",
        "theta_best_svd  #same as above\n",
        "\n",
        "# this function computes pseudoinverse of X"
      ],
      "execution_count": 6,
      "outputs": [
        {
          "output_type": "execute_result",
          "data": {
            "text/plain": [
              "array([[3.83084264],\n",
              "       [3.27961213]])"
            ]
          },
          "metadata": {
            "tags": []
          },
          "execution_count": 6
        }
      ]
    },
    {
      "cell_type": "code",
      "metadata": {
        "id": "yGY4fL3Bk3VX",
        "colab_type": "code",
        "colab": {
          "base_uri": "https://localhost:8080/",
          "height": 51
        },
        "outputId": "c760bdc4-f12e-4f75-f25e-e99707eb46e8"
      },
      "source": [
        "# can use pinv to compute pseudoinverse directly too\n",
        "np.linalg.pinv(X_b).dot(y)  # same too!\n",
        "\n",
        "# this method is more efficient and can handle situation where inversion not possible"
      ],
      "execution_count": 7,
      "outputs": [
        {
          "output_type": "execute_result",
          "data": {
            "text/plain": [
              "array([[3.83084264],\n",
              "       [3.27961213]])"
            ]
          },
          "metadata": {
            "tags": []
          },
          "execution_count": 7
        }
      ]
    },
    {
      "cell_type": "markdown",
      "metadata": {
        "id": "bX43TKkeli2h",
        "colab_type": "text"
      },
      "source": [
        "## Batch Gradient Descent"
      ]
    },
    {
      "cell_type": "code",
      "metadata": {
        "id": "-RmkFiVSlkx_",
        "colab_type": "code",
        "colab": {
          "base_uri": "https://localhost:8080/",
          "height": 51
        },
        "outputId": "e930858c-6da8-4063-cf84-a972728d71af"
      },
      "source": [
        "# uses the whole batch of X at each iteration\n",
        "eta = 0.1   # learning rate\n",
        "n_iterations = 1000\n",
        "m = 100\n",
        "\n",
        "theta = np.random.randn(2, 1)   # random initialization\n",
        "\n",
        "for iteration in range(n_iterations):\n",
        "    gradients = 2 / m * X_b.T.dot(X_b.dot(theta) - y)   # from calculus\n",
        "    theta = theta - eta * gradients\n",
        "\n",
        "theta   # same as normal equation!"
      ],
      "execution_count": 8,
      "outputs": [
        {
          "output_type": "execute_result",
          "data": {
            "text/plain": [
              "array([[3.83084264],\n",
              "       [3.27961213]])"
            ]
          },
          "metadata": {
            "tags": []
          },
          "execution_count": 8
        }
      ]
    },
    {
      "cell_type": "markdown",
      "metadata": {
        "id": "042J3iaiphWt",
        "colab_type": "text"
      },
      "source": [
        "## Stochastic Gradient Descent"
      ]
    },
    {
      "cell_type": "code",
      "metadata": {
        "id": "6EC-g0UypCQt",
        "colab_type": "code",
        "colab": {
          "base_uri": "https://localhost:8080/",
          "height": 51
        },
        "outputId": "52177662-dc13-4f21-a3f7-90f9e36ddfdc"
      },
      "source": [
        "# implements SGD with simple learning schedule\n",
        "n_epochs = 50\n",
        "t0, t1 = 5, 50  # learning schedule hyperparams\n",
        "\n",
        "def learning_schedule(t):\n",
        "    return t0 / (t + t1)\n",
        "\n",
        "theta = np.random.randn(2, 1)   # still random init\n",
        "\n",
        "for epoch in range(n_epochs):\n",
        "    for i in range(m):                          # m iterations per round\n",
        "        random_index = np.random.randint(m)\n",
        "        xi = X_b[random_index:random_index+1]\n",
        "        yi = y[random_index:random_index+1]\n",
        "        gradients = 2 * xi.T.dot(xi.dot(theta) - yi)\n",
        "        eta = learning_schedule(epoch * m + i)\n",
        "        theta = theta - eta * gradients\n",
        "\n",
        "theta       # really close in only 50 rounds!"
      ],
      "execution_count": 9,
      "outputs": [
        {
          "output_type": "execute_result",
          "data": {
            "text/plain": [
              "array([[3.93640198],\n",
              "       [3.30458609]])"
            ]
          },
          "metadata": {
            "tags": []
          },
          "execution_count": 9
        }
      ]
    },
    {
      "cell_type": "code",
      "metadata": {
        "id": "_CdZgN35rNpM",
        "colab_type": "code",
        "colab": {
          "base_uri": "https://localhost:8080/",
          "height": 34
        },
        "outputId": "ea24b618-16c7-4b78-a714-86cb8ee63f90"
      },
      "source": [
        "# to use this in sklearn use SGD\n",
        "# defaults to minimizing squared error\n",
        "from sklearn.linear_model import SGDRegressor\n",
        "sgd_reg = SGDRegressor(max_iter=1000, tol=1e-3, penalty=None, eta0=0.1)  # tol = tolerance to terminate\n",
        "sgd_reg.fit(X, y.ravel())\n",
        "\n",
        "sgd_reg.intercept_, sgd_reg.coef_"
      ],
      "execution_count": 10,
      "outputs": [
        {
          "output_type": "execute_result",
          "data": {
            "text/plain": [
              "(array([3.85957726]), array([3.35459358]))"
            ]
          },
          "metadata": {
            "tags": []
          },
          "execution_count": 10
        }
      ]
    },
    {
      "cell_type": "markdown",
      "metadata": {
        "id": "ah2-zFigssb8",
        "colab_type": "text"
      },
      "source": [
        "# Polynomial Regression\n",
        "\n"
      ]
    },
    {
      "cell_type": "code",
      "metadata": {
        "id": "zwYfA2uVskQD",
        "colab_type": "code",
        "colab": {
          "base_uri": "https://localhost:8080/",
          "height": 279
        },
        "outputId": "cc53f158-426a-45ca-c2c4-65f655f5a8d1"
      },
      "source": [
        "# make nonlinear data\n",
        "m = 100\n",
        "X = 6 * np.random.rand(m, 1) - 3\n",
        "y = 0.5 * X**2 + X + 2 + np.random.randn(m, 1)\n",
        "\n",
        "plt.plot(X, y, 'b.')\n",
        "plt.xlabel('X')\n",
        "plt.ylabel('y')\n",
        "plt.show()"
      ],
      "execution_count": 11,
      "outputs": [
        {
          "output_type": "display_data",
          "data": {
            "image/png": "[encoded data removed]",
            "text/plain": [
              "<Figure size 432x288 with 1 Axes>"
            ]
          },
          "metadata": {
            "tags": [],
            "needs_background": "light"
          }
        }
      ]
    },
    {
      "cell_type": "code",
      "metadata": {
        "id": "urTfzTPBv-Nl",
        "colab_type": "code",
        "colab": {
          "base_uri": "https://localhost:8080/",
          "height": 51
        },
        "outputId": "a05c3381-0401-41a5-d20c-45c946fb1f3d"
      },
      "source": [
        "# use sklearn's PolynomialFeatures to add the square of each feature as a new feature\n",
        "from sklearn.preprocessing import PolynomialFeatures\n",
        "poly_features = PolynomialFeatures(degree=2, include_bias=False)\n",
        "X_poly = poly_features.fit_transform(X)\n",
        "print(X[0])\n",
        "print(X_poly[0])\n",
        "\n",
        "# also adds combinations of features\n",
        "# e.g. a, b --> poly_features(degree=3) --> a, a^2, a^3, b^2, b^3, ab, a^2b, ab^2"
      ],
      "execution_count": 12,
      "outputs": [
        {
          "output_type": "stream",
          "text": [
            "[1.25374159]\n",
            "[1.25374159 1.57186797]\n"
          ],
          "name": "stdout"
        }
      ]
    },
    {
      "cell_type": "code",
      "metadata": {
        "id": "U4XSSI33wtce",
        "colab_type": "code",
        "colab": {
          "base_uri": "https://localhost:8080/",
          "height": 34
        },
        "outputId": "286ef2ec-244d-4a10-ee7e-bdd45ce4a5f9"
      },
      "source": [
        "# now we can just fit it using LinearRegression\n",
        "lin_reg = LinearRegression()\n",
        "lin_reg.fit(X_poly, y)\n",
        "lin_reg.intercept_, lin_reg.coef_"
      ],
      "execution_count": 13,
      "outputs": [
        {
          "output_type": "execute_result",
          "data": {
            "text/plain": [
              "(array([2.09092149]), array([[0.98236353, 0.48302665]]))"
            ]
          },
          "metadata": {
            "tags": []
          },
          "execution_count": 13
        }
      ]
    },
    {
      "cell_type": "code",
      "metadata": {
        "id": "dybJ3nVGw7zl",
        "colab_type": "code",
        "colab": {
          "base_uri": "https://localhost:8080/",
          "height": 265
        },
        "outputId": "99bd4dc2-3348-4e74-f8e4-bf2a632b9bf1"
      },
      "source": [
        "# visualize it\n",
        "X_disp = np.arange(-3, 3.5, 0.5)\n",
        "\n",
        "X_disp_poly = poly_features.fit_transform(X_disp.reshape(-1, 1))\n",
        "y_disp = lin_reg.predict(X_disp_poly)\n",
        "\n",
        "plt.plot(X, y, 'b.')\n",
        "plt.plot(X_disp, y_disp, 'r-')\n",
        "plt.show()"
      ],
      "execution_count": 14,
      "outputs": [
        {
          "output_type": "display_data",
          "data": {
            "image/png": "[encoded data removed]",
            "text/plain": [
              "<Figure size 432x288 with 1 Axes>"
            ]
          },
          "metadata": {
            "tags": [],
            "needs_background": "light"
          }
        }
      ]
    },
    {
      "cell_type": "markdown",
      "metadata": {
        "id": "2UASC_sWzsEI",
        "colab_type": "text"
      },
      "source": [
        "## Learning Curves"
      ]
    },
    {
      "cell_type": "code",
      "metadata": {
        "id": "3dappp0bzt4K",
        "colab_type": "code",
        "colab": {}
      },
      "source": [
        "from sklearn.metrics import mean_squared_error\n",
        "from sklearn.model_selection import train_test_split\n",
        "\n",
        "def plot_learning_curves(model, X, y):\n",
        "    X_train, X_val, y_train, y_val = train_test_split(X, y, test_size=0.2)\n",
        "    train_errors, val_errors = [], []\n",
        "    for m in range(1, len(X_train)):\n",
        "        model.fit(X_train[:m], y_train[:m])\n",
        "        y_train_predict = model.predict(X_train[:m])\n",
        "        y_val_predict = model.predict(X_val)\n",
        "        train_errors.append(mean_squared_error(y_train[:m], y_train_predict))\n",
        "        val_errors.append(mean_squared_error(y_val, y_val_predict))\n",
        "\n",
        "    plt.plot(np.sqrt(train_errors), 'r-+', linewidth=2, label='train')\n",
        "    plt.plot(np.sqrt(val_errors), 'b-', linewidth=3, label='val')\n",
        "    plt.axis([0, 80, 0, 3])\n",
        "    plt.legend()\n",
        "    plt.show()"
      ],
      "execution_count": 15,
      "outputs": []
    },
    {
      "cell_type": "code",
      "metadata": {
        "id": "h-k5-3cF73S1",
        "colab_type": "code",
        "colab": {
          "base_uri": "https://localhost:8080/",
          "height": 269
        },
        "outputId": "a38774a1-fddd-4e2a-e133-e1d00288a7dc"
      },
      "source": [
        "lin_reg = LinearRegression()\n",
        "plot_learning_curves(lin_reg, X, y)\n",
        "\n",
        "# both training and validation errors are similar but high = underfitting"
      ],
      "execution_count": 16,
      "outputs": [
        {
          "output_type": "display_data",
          "data": {
            "image/png": "[encoded data removed]",
            "text/plain": [
              "<Figure size 432x288 with 1 Axes>"
            ]
          },
          "metadata": {
            "tags": [],
            "needs_background": "light"
          }
        }
      ]
    },
    {
      "cell_type": "code",
      "metadata": {
        "id": "Uwg4ozRD7-Cb",
        "colab_type": "code",
        "colab": {
          "base_uri": "https://localhost:8080/",
          "height": 269
        },
        "outputId": "b98e7b22-2624-41fe-9b5e-fa71f60d2d03"
      },
      "source": [
        "# now lets try it using a 10-degree polynomial\n",
        "from sklearn.pipeline import Pipeline\n",
        "polynomial_regression = Pipeline([\n",
        "    ('poly_feature', PolynomialFeatures(degree=10, include_bias=False)),\n",
        "    ('lin_reg', LinearRegression()),\n",
        "])\n",
        "\n",
        "plot_learning_curves(polynomial_regression, X, y)\n",
        "\n",
        "# Notes:\n",
        "#   lower error on training data, and gap between training and validation = overfitting"
      ],
      "execution_count": 17,
      "outputs": [
        {
          "output_type": "display_data",
          "data": {
            "image/png": "[encoded data removed]",
            "text/plain": [
              "<Figure size 432x288 with 1 Axes>"
            ]
          },
          "metadata": {
            "tags": [],
            "needs_background": "light"
          }
        }
      ]
    },
    {
      "cell_type": "markdown",
      "metadata": {
        "id": "fAk8upmK9_fL",
        "colab_type": "text"
      },
      "source": [
        "# Regularized Linear Models"
      ]
    },
    {
      "cell_type": "markdown",
      "metadata": {
        "id": "r7wW635RKgyn",
        "colab_type": "text"
      },
      "source": [
        "## Ridge Regression"
      ]
    },
    {
      "cell_type": "code",
      "metadata": {
        "id": "E_XaUCo99c5r",
        "colab_type": "code",
        "colab": {
          "base_uri": "https://localhost:8080/",
          "height": 34
        },
        "outputId": "71864801-a821-4851-9e12-a60aa5c1f5c8"
      },
      "source": [
        "# closed form\n",
        "from sklearn.linear_model import Ridge\n",
        "# alpha = scaling of factorization term\n",
        "# solver = matrix factorization method\n",
        "ridge_reg = Ridge(alpha=1, solver='cholesky')\n",
        "ridge_reg.fit(X, y)\n",
        "ridge_reg.predict([[1.5]])"
      ],
      "execution_count": 18,
      "outputs": [
        {
          "output_type": "execute_result",
          "data": {
            "text/plain": [
              "array([[5.01913357]])"
            ]
          },
          "metadata": {
            "tags": []
          },
          "execution_count": 18
        }
      ]
    },
    {
      "cell_type": "code",
      "metadata": {
        "id": "khu5ofTbLDBs",
        "colab_type": "code",
        "colab": {
          "base_uri": "https://localhost:8080/",
          "height": 34
        },
        "outputId": "e14b5e66-7d41-4c3e-823f-43ee60c8aa8c"
      },
      "source": [
        "# also using SGD\n",
        "# penalty = regularization term (l2 makes it same as Ridge Regression)\n",
        "sgd_reg = SGDRegressor(penalty='l2')\n",
        "sgd_reg.fit(X, y.ravel())\n",
        "sgd_reg.predict([[1.5]])"
      ],
      "execution_count": 19,
      "outputs": [
        {
          "output_type": "execute_result",
          "data": {
            "text/plain": [
              "array([4.98786956])"
            ]
          },
          "metadata": {
            "tags": []
          },
          "execution_count": 19
        }
      ]
    },
    {
      "cell_type": "markdown",
      "metadata": {
        "id": "NVGyMAToLmUl",
        "colab_type": "text"
      },
      "source": [
        "## Lasso Regression"
      ]
    },
    {
      "cell_type": "code",
      "metadata": {
        "id": "asBb4bk_LaV1",
        "colab_type": "code",
        "colab": {
          "base_uri": "https://localhost:8080/",
          "height": 34
        },
        "outputId": "6246bfcb-1d54-48c4-8898-1c3e2a40ea24"
      },
      "source": [
        "# small example\n",
        "from sklearn.linear_model import Lasso\n",
        "lasso_reg = Lasso(alpha=0.1)\n",
        "lasso_reg.fit(X, y)\n",
        "lasso_reg.predict([[1.5]])"
      ],
      "execution_count": 20,
      "outputs": [
        {
          "output_type": "execute_result",
          "data": {
            "text/plain": [
              "array([4.97341279])"
            ]
          },
          "metadata": {
            "tags": []
          },
          "execution_count": 20
        }
      ]
    },
    {
      "cell_type": "code",
      "metadata": {
        "id": "CNXVei0qOODK",
        "colab_type": "code",
        "colab": {
          "base_uri": "https://localhost:8080/",
          "height": 34
        },
        "outputId": "204d1955-6405-4689-fe78-585f21e4350f"
      },
      "source": [
        "# alternatively\n",
        "# penalty = l1 makes it same as Lasso Regression\n",
        "sgd_reg = SGDRegressor(penalty='l1')\n",
        "sgd_reg.fit(X, y.ravel())\n",
        "sgd_reg.predict([[1.5]])"
      ],
      "execution_count": 21,
      "outputs": [
        {
          "output_type": "execute_result",
          "data": {
            "text/plain": [
              "array([4.99585548])"
            ]
          },
          "metadata": {
            "tags": []
          },
          "execution_count": 21
        }
      ]
    },
    {
      "cell_type": "markdown",
      "metadata": {
        "id": "g-9vbzKYOZCC",
        "colab_type": "text"
      },
      "source": [
        "## Elastic Net"
      ]
    },
    {
      "cell_type": "code",
      "metadata": {
        "id": "CxdTCuDHOXOg",
        "colab_type": "code",
        "colab": {
          "base_uri": "https://localhost:8080/",
          "height": 34
        },
        "outputId": "a5412a2b-b792-452e-d3fe-a190062380f1"
      },
      "source": [
        "# small example\n",
        "from sklearn.linear_model import ElasticNet\n",
        "# l1_ratio = r (from notes)\n",
        "elastic_net = ElasticNet(alpha=0.1, l1_ratio=0.5)\n",
        "elastic_net.fit(X, y)\n",
        "elastic_net.predict([[1.5]])"
      ],
      "execution_count": 22,
      "outputs": [
        {
          "output_type": "execute_result",
          "data": {
            "text/plain": [
              "array([4.97427498])"
            ]
          },
          "metadata": {
            "tags": []
          },
          "execution_count": 22
        }
      ]
    },
    {
      "cell_type": "code",
      "metadata": {
        "id": "jChrA0ccPfIt",
        "colab_type": "code",
        "colab": {
          "base_uri": "https://localhost:8080/",
          "height": 34
        },
        "outputId": "a926ca7d-3a21-400d-cb93-f7f9a8cf5bd0"
      },
      "source": [
        "# alternatively\n",
        "# penalty = elasticnet makes it same as Lasso Regression\n",
        "sgd_reg = SGDRegressor(penalty='elasticnet')\n",
        "sgd_reg.fit(X, y.ravel())\n",
        "sgd_reg.predict([[1.5]])"
      ],
      "execution_count": 23,
      "outputs": [
        {
          "output_type": "execute_result",
          "data": {
            "text/plain": [
              "array([5.0235139])"
            ]
          },
          "metadata": {
            "tags": []
          },
          "execution_count": 23
        }
      ]
    },
    {
      "cell_type": "markdown",
      "metadata": {
        "id": "x-vKtu04PcHz",
        "colab_type": "text"
      },
      "source": [
        "## Early Stopping"
      ]
    },
    {
      "cell_type": "code",
      "metadata": {
        "id": "KEsM6LobPWL7",
        "colab_type": "code",
        "colab": {}
      },
      "source": [
        "\"\"\"Basic Implementation.\n",
        "\n",
        "Doesn't actually work bc not real dataset used.\n",
        "\n",
        "from sklearn.base import clone\n",
        "from sklearn.preprocessing import StandardScaler\n",
        "\n",
        "# prepare data\n",
        "poly_scaler = Pipeline([\n",
        "    ('poly_features', PolynomialFeatures(degree=90, include_bias=False)),\n",
        "    ('std_scaler', StandardScaler())\n",
        "])\n",
        "X_train_poly_scaled = poly_scaler.fit_transform(X_train)\n",
        "X_val_poly_scaled = poly_scaler.fit_transform(X_val)\n",
        "\n",
        "# warm_string=True, continues training where it left off instead of starting from scratch\n",
        "sgd_reg = SGDRegressor(max_iter=1, tol=-np.infty, warm_start=True,\n",
        "                       penalty=None, learning_rate='constant', eta0=0.0005)\n",
        "\n",
        "minimum_val_error = float('inf')\n",
        "best_epoch = None\n",
        "best_model = None\n",
        "for epoch in range(1000):\n",
        "    sgd_reg.fit(X_train_poly_scaled, y_train)   # continues where it left off\n",
        "    y_val_predict = sgd_reg.predict(X_val_poly_scaled)\n",
        "    val_error = mean_squared_error(y_val, y_val_predict)\n",
        "    if val_error < minimum_val_error:\n",
        "        minimum_val_error = val_error\n",
        "        best_epoch = epoch\n",
        "        best_model = clone(sgd_reg)\n",
        "\"\"\""
      ],
      "execution_count": null,
      "outputs": []
    },
    {
      "cell_type": "markdown",
      "metadata": {
        "id": "5w3yyAj7SUkW",
        "colab_type": "text"
      },
      "source": [
        "# Logistic Regression"
      ]
    },
    {
      "cell_type": "markdown",
      "metadata": {
        "id": "rATCKyKhAm_k",
        "colab_type": "text"
      },
      "source": [
        "## Decision Boundaries"
      ]
    },
    {
      "cell_type": "code",
      "metadata": {
        "id": "kMRPN4X9Rwq1",
        "colab_type": "code",
        "colab": {
          "base_uri": "https://localhost:8080/",
          "height": 34
        },
        "outputId": "166fc519-b27f-476d-dec2-bb86a6405a21"
      },
      "source": [
        "# let's use the Iris dataset\n",
        "from sklearn import datasets\n",
        "\n",
        "iris = datasets.load_iris()\n",
        "print(list(iris.keys()))\n",
        "X = iris['data'][:, 3:] # petal width\n",
        "y = (iris['target'] == 2).astype(np.int)    # 1 if Iris virginica, else 0"
      ],
      "execution_count": 25,
      "outputs": [
        {
          "output_type": "stream",
          "text": [
            "['data', 'target', 'target_names', 'DESCR', 'feature_names', 'filename']\n"
          ],
          "name": "stdout"
        }
      ]
    },
    {
      "cell_type": "code",
      "metadata": {
        "id": "dhVVJsmxBQLx",
        "colab_type": "code",
        "colab": {
          "base_uri": "https://localhost:8080/",
          "height": 102
        },
        "outputId": "6cec6402-1e7c-49c6-ba82-92e8f5f81646"
      },
      "source": [
        "# now let's train a LogisticRegression model\n",
        "from sklearn.linear_model import LogisticRegression\n",
        "\n",
        "log_reg = LogisticRegression()\n",
        "log_reg.fit(X, y)"
      ],
      "execution_count": 26,
      "outputs": [
        {
          "output_type": "execute_result",
          "data": {
            "text/plain": [
              "LogisticRegression(C=1.0, class_weight=None, dual=False, fit_intercept=True,\n",
              "                   intercept_scaling=1, l1_ratio=None, max_iter=100,\n",
              "                   multi_class='auto', n_jobs=None, penalty='l2',\n",
              "                   random_state=None, solver='lbfgs', tol=0.0001, verbose=0,\n",
              "                   warm_start=False)"
            ]
          },
          "metadata": {
            "tags": []
          },
          "execution_count": 26
        }
      ]
    },
    {
      "cell_type": "code",
      "metadata": {
        "id": "oqDiprahBerg",
        "colab_type": "code",
        "colab": {
          "base_uri": "https://localhost:8080/",
          "height": 265
        },
        "outputId": "cac56a88-53c5-4514-a5c5-2e2783757dbb"
      },
      "source": [
        "# let's look at the model's estimated probabilities\n",
        "X_new = np.linspace(0, 3, 1000).reshape(-1, 1)\n",
        "y_proba = log_reg.predict_proba(X_new)  # proba 0 col = prob for class 0, 1 col = prob for class 1\n",
        "plt.plot(X_new, y_proba[:, 1], 'g-', label='Iris virginica')\n",
        "plt.plot(X_new, y_proba[:, 0], 'b--', label='Not Itis virginica')\n",
        "plt.show()"
      ],
      "execution_count": 27,
      "outputs": [
        {
          "output_type": "display_data",
          "data": {
            "image/png": "[encoded data removed]",
            "text/plain": [
              "<Figure size 432x288 with 1 Axes>"
            ]
          },
          "metadata": {
            "tags": [],
            "needs_background": "light"
          }
        }
      ]
    },
    {
      "cell_type": "code",
      "metadata": {
        "id": "IOAso-C3B9DO",
        "colab_type": "code",
        "colab": {
          "base_uri": "https://localhost:8080/",
          "height": 51
        },
        "outputId": "f9773167-9451-44c6-db52-b184faf529ad"
      },
      "source": [
        "# predict will make a decision based on which class has the higher prob\n",
        "print(log_reg.predict([[1.7]])) # to right of intersection --> class 1\n",
        "print(log_reg.predict([[1.5]])) # to left of intersection  --> class 0"
      ],
      "execution_count": 28,
      "outputs": [
        {
          "output_type": "stream",
          "text": [
            "[1]\n",
            "[0]\n"
          ],
          "name": "stdout"
        }
      ]
    },
    {
      "cell_type": "code",
      "metadata": {
        "id": "NFBMRHuBCAiS",
        "colab_type": "code",
        "colab": {}
      },
      "source": [
        "# sklearn by default adds l2 regularization\n",
        "# for LogisticRegression, magnitude of regularization is not controlled by alpha,\n",
        "# but by C (alpha's inverse), therefore a large C = less regularization\n",
        "# e.g. log_reg_2 = LogisticRegression(penalty='l1', C=0.01)"
      ],
      "execution_count": 29,
      "outputs": []
    },
    {
      "cell_type": "markdown",
      "metadata": {
        "id": "hWy7s6XqDuPk",
        "colab_type": "text"
      },
      "source": [
        "## Softmax Regression"
      ]
    },
    {
      "cell_type": "code",
      "metadata": {
        "id": "zivrN1gLDgoW",
        "colab_type": "code",
        "colab": {
          "base_uri": "https://localhost:8080/",
          "height": 102
        },
        "outputId": "c6e7d6b8-44b3-4653-9cb2-ca46ee3d74f9"
      },
      "source": [
        "# let's train one with 2D input\n",
        "X = iris['data'][:, (2, 3)] # petal length, petal width\n",
        "y = iris['target']\n",
        "\n",
        "softmax_reg = LogisticRegression(multi_class='multinomial', solver='lbfgs', C=10)\n",
        "softmax_reg.fit(X, y)"
      ],
      "execution_count": 30,
      "outputs": [
        {
          "output_type": "execute_result",
          "data": {
            "text/plain": [
              "LogisticRegression(C=10, class_weight=None, dual=False, fit_intercept=True,\n",
              "                   intercept_scaling=1, l1_ratio=None, max_iter=100,\n",
              "                   multi_class='multinomial', n_jobs=None, penalty='l2',\n",
              "                   random_state=None, solver='lbfgs', tol=0.0001, verbose=0,\n",
              "                   warm_start=False)"
            ]
          },
          "metadata": {
            "tags": []
          },
          "execution_count": 30
        }
      ]
    },
    {
      "cell_type": "code",
      "metadata": {
        "id": "yXwpyZPDGQah",
        "colab_type": "code",
        "colab": {
          "base_uri": "https://localhost:8080/",
          "height": 51
        },
        "outputId": "e1bea35a-38f0-4d69-b1de-9c846afdb426"
      },
      "source": [
        "# try it out\n",
        "print(softmax_reg.predict_proba([[5, 2]]))\n",
        "print(softmax_reg.predict([[5, 2]]))        # picks the class with the largest proba"
      ],
      "execution_count": 31,
      "outputs": [
        {
          "output_type": "stream",
          "text": [
            "[[6.38014896e-07 5.74929995e-02 9.42506362e-01]]\n",
            "[2]\n"
          ],
          "name": "stdout"
        }
      ]
    },
    {
      "cell_type": "markdown",
      "metadata": {
        "id": "hiFETPDQHiHm",
        "colab_type": "text"
      },
      "source": [
        "# Exercises"
      ]
    },
    {
      "cell_type": "markdown",
      "metadata": {
        "id": "HQAZrP6fHkUp",
        "colab_type": "text"
      },
      "source": [
        "## 1.) Which Lin Reg training alg could you use if you have millions of features?"
      ]
    },
    {
      "cell_type": "markdown",
      "metadata": {
        "id": "-h3VQ4HFHrpn",
        "colab_type": "text"
      },
      "source": [
        "Can't use closed form or SVD methods bc of bad complexity. Can instead use SGD, mini-batch GS, or even bath GD if memory allows"
      ]
    },
    {
      "cell_type": "markdown",
      "metadata": {
        "id": "lBMaZDtdISZq",
        "colab_type": "text"
      },
      "source": [
        "##2.) What algs suffer from differently-scaled features? What can you do about it?"
      ]
    },
    {
      "cell_type": "markdown",
      "metadata": {
        "id": "0hNq-jTgIbUK",
        "colab_type": "text"
      },
      "source": [
        "GD will suffer, closed form will not. Instead, you can standardize you features."
      ]
    },
    {
      "cell_type": "markdown",
      "metadata": {
        "id": "RgZpLy5nIqoN",
        "colab_type": "text"
      },
      "source": [
        "## 3.) Can GD get stuck in a locl min when training a Logistic Regression model?"
      ]
    },
    {
      "cell_type": "markdown",
      "metadata": {
        "id": "1TFViqP-Ixae",
        "colab_type": "text"
      },
      "source": [
        "NO! The cose function if convex."
      ]
    },
    {
      "cell_type": "markdown",
      "metadata": {
        "id": "yCyPqAVvI4EU",
        "colab_type": "text"
      },
      "source": [
        "## 4.) Do all GD algs lead to the same model, provided they run long enough?"
      ]
    },
    {
      "cell_type": "markdown",
      "metadata": {
        "id": "s2uuYV-II-Iw",
        "colab_type": "text"
      },
      "source": [
        "Yes, as long as the function is convex. However, if the learning rate is too high for SGD or mini-batch GD, they will never converge at the optimal value."
      ]
    },
    {
      "cell_type": "markdown",
      "metadata": {
        "id": "NwzNH_vyJP_q",
        "colab_type": "text"
      },
      "source": [
        "## 5.) If running Batch GD and you see validation error consistenly go up what is happening and what can you do?"
      ]
    },
    {
      "cell_type": "markdown",
      "metadata": {
        "id": "egribfPSJYwq",
        "colab_type": "text"
      },
      "source": [
        "It is overfitting. You can stop early or regularize."
      ]
    },
    {
      "cell_type": "markdown",
      "metadata": {
        "id": "xavMRTXuJkOZ",
        "colab_type": "text"
      },
      "source": [
        "## 6.) Should you stop Mini-batch GD as soon as validation error goes up?"
      ]
    },
    {
      "cell_type": "markdown",
      "metadata": {
        "id": "d4ks1HQJJpmK",
        "colab_type": "text"
      },
      "source": [
        "No. With Mini-batch and SGD temporary increases in validation error are common because the algs are more erradic."
      ]
    },
    {
      "cell_type": "markdown",
      "metadata": {
        "id": "yZjcnZZCJwlx",
        "colab_type": "text"
      },
      "source": [
        "## 7.) Which GD algs are the fastest? Which will actually converge? How can you make the others converge as well?"
      ]
    },
    {
      "cell_type": "markdown",
      "metadata": {
        "id": "pWPySku_J5Hb",
        "colab_type": "text"
      },
      "source": [
        "Fastest = SGD bc only one training point per iteration. Mini-batch is fast too if you use a small mini-batch size. However, Batch GD is the only one that will actually converge. To make the others converge, you can lower the learning rate over time to force them to converge."
      ]
    },
    {
      "cell_type": "markdown",
      "metadata": {
        "id": "iaubK9KWKK_J",
        "colab_type": "text"
      },
      "source": [
        "## 8.) Polynomial Regression learning curves show disparity between training and validation errors. What is happening and what can you do?"
      ]
    },
    {
      "cell_type": "markdown",
      "metadata": {
        "id": "QnqCRs3OKZgY",
        "colab_type": "text"
      },
      "source": [
        "Probably overfitting. You can decrease degree of polynomial, add a regularization term, or get more data for your training set."
      ]
    },
    {
      "cell_type": "markdown",
      "metadata": {
        "id": "9tZKt6dUKjea",
        "colab_type": "text"
      },
      "source": [
        "## 9.) Suppose using Ridge Regression and notice similar and high training and validation errors. Does the model suffer from high bias or high variance? Should you increase or decrease the magnitude of alpha (regularization constant)?"
      ]
    },
    {
      "cell_type": "markdown",
      "metadata": {
        "id": "gnIEEchuK2K3",
        "colab_type": "text"
      },
      "source": [
        "This means it is underfitting. This means that it is suffering from high bias. I should decrease alpha."
      ]
    },
    {
      "cell_type": "markdown",
      "metadata": {
        "id": "1rsAW7I5LBDK",
        "colab_type": "text"
      },
      "source": [
        "## 10.) Why would you want to use:\n",
        "    a.) Ridge Regression instead of Linear Regression\n",
        "    b.) Lasso instead of Ridge?\n",
        "    c.) Elastic Net insetad of Lasso?"
      ]
    },
    {
      "cell_type": "markdown",
      "metadata": {
        "id": "RENxqAETLNrR",
        "colab_type": "text"
      },
      "source": [
        "a.) If Linear Regression is overfitting\n",
        "b.) If you want feature selection\n",
        "c.) To prevent erradic behavior of Lasso"
      ]
    },
    {
      "cell_type": "markdown",
      "metadata": {
        "id": "d0gN5IgDLj0Y",
        "colab_type": "text"
      },
      "source": [
        "## 11.) Suppose you want a classifier for outdoor/indoor and daytime/nighttime. SHould you implement two Logistic Regression models or one softmax?"
      ]
    },
    {
      "cell_type": "markdown",
      "metadata": {
        "id": "wFW0jAq-Luny",
        "colab_type": "text"
      },
      "source": [
        "Should train 2 logistic regression models because those 4 classes are not mutually exclusive."
      ]
    },
    {
      "cell_type": "markdown",
      "metadata": {
        "id": "6U0tZoRAL3ZR",
        "colab_type": "text"
      },
      "source": [
        "## 12.) Implement Batch Gradient Descent with early stopping for Softmax Regression without sklearn"
      ]
    },
    {
      "cell_type": "code",
      "metadata": {
        "id": "aEJNoSvUGVEw",
        "colab_type": "code",
        "colab": {}
      },
      "source": [
        "# reuse Iris dataset\n",
        "X = iris['data'][:, (2, 3)] # petal lnegth, petal width\n",
        "y = iris['target']          # multi-class"
      ],
      "execution_count": 34,
      "outputs": []
    },
    {
      "cell_type": "code",
      "metadata": {
        "id": "x6mAzsoTG3H6",
        "colab_type": "code",
        "colab": {}
      },
      "source": [
        "# add the bias term\n",
        "X_w_bias = np.c_[np.ones([len(X), 1]), X]"
      ],
      "execution_count": 37,
      "outputs": []
    },
    {
      "cell_type": "code",
      "metadata": {
        "id": "BYAOJXYJHFRa",
        "colab_type": "code",
        "colab": {}
      },
      "source": [
        "# set the rand seed\n",
        "np.random.seed(2042)"
      ],
      "execution_count": 78,
      "outputs": []
    },
    {
      "cell_type": "code",
      "metadata": {
        "id": "weLhLycJHLTo",
        "colab_type": "code",
        "colab": {}
      },
      "source": [
        "# manually split int traing, validation, and testing sets\n",
        "test_ratio = 0.2\n",
        "val_ratio = 0.2\n",
        "total_size = len(X_w_bias)\n",
        "\n",
        "test_size = int(total_size * test_ratio)\n",
        "val_size = int(total_size * val_ratio)\n",
        "train_size = total_size - test_size - val_size\n",
        "\n",
        "rand_indices = np.random.permutation(total_size)\n",
        "\n",
        "X_train = X_w_bias[rand_indices[:train_size]]\n",
        "y_train = y[rand_indices[:train_size]]\n",
        "X_val = X_w_bias[rand_indices[train_size:-test_size]]\n",
        "y_val = y[rand_indices[train_size:-test_size]]\n",
        "X_test = X_w_bias[rand_indices[-test_size:]]\n",
        "y_test = y[rand_indices[-test_size:]]"
      ],
      "execution_count": 79,
      "outputs": []
    },
    {
      "cell_type": "code",
      "metadata": {
        "id": "AfRTDyL4IGLv",
        "colab_type": "code",
        "colab": {
          "base_uri": "https://localhost:8080/",
          "height": 204
        },
        "outputId": "a00411e5-7803-4902-af21-7d15876a55de"
      },
      "source": [
        "# need to change target data in one-hot format bc that way it is in the form of probabilites\n",
        "def to_one_hot(y):\n",
        "    n_classes = y.max() + 1\n",
        "    m = len(y)\n",
        "    Y_one_hot = np.zeros((m, n_classes))\n",
        "    Y_one_hot[np.arange(m), y] = 1\n",
        "    return Y_one_hot\n",
        "\n",
        "# test on first 5 items\n",
        "print(y_train[:10])\n",
        "print(to_one_hot(y_train)[:10])"
      ],
      "execution_count": 80,
      "outputs": [
        {
          "output_type": "stream",
          "text": [
            "[0 1 2 1 1 0 1 1 1 0]\n",
            "[[1. 0. 0.]\n",
            " [0. 1. 0.]\n",
            " [0. 0. 1.]\n",
            " [0. 1. 0.]\n",
            " [0. 1. 0.]\n",
            " [1. 0. 0.]\n",
            " [0. 1. 0.]\n",
            " [0. 1. 0.]\n",
            " [0. 1. 0.]\n",
            " [1. 0. 0.]]\n"
          ],
          "name": "stdout"
        }
      ]
    },
    {
      "cell_type": "code",
      "metadata": {
        "id": "ZYHPaBdHJB3i",
        "colab_type": "code",
        "colab": {}
      },
      "source": [
        "# now use function on all our y data\n",
        "Y_train_oh = to_one_hot(y_train)\n",
        "Y_val_oh = to_one_hot(y_val)\n",
        "Y_test_oh = to_one_hot(y_test)"
      ],
      "execution_count": 81,
      "outputs": []
    },
    {
      "cell_type": "code",
      "metadata": {
        "id": "rSFdPsLFJaPd",
        "colab_type": "code",
        "colab": {}
      },
      "source": [
        "# now implement softmax function\n",
        "#   logits = vector of x dot weights (vector of scores)\n",
        "#   Returns: vector of probs of each clas\n",
        "def softmax(logits):\n",
        "    exps = np.exp(logits)\n",
        "    exp_sum = np.sum(exps, axis=1, keepdims=True)\n",
        "    return exps / exp_sum"
      ],
      "execution_count": 82,
      "outputs": []
    },
    {
      "cell_type": "code",
      "metadata": {
        "id": "tnPaFZTUJ8aE",
        "colab_type": "code",
        "colab": {}
      },
      "source": [
        "# define metadata\n",
        "n_inputs = X_train.shape[1]             # 2 features + bias = 3\n",
        "n_outputs = len(np.unique(y_train))     # = 3 (3 iris species)"
      ],
      "execution_count": 83,
      "outputs": []
    },
    {
      "cell_type": "code",
      "metadata": {
        "id": "Nh4gGjDMKNAB",
        "colab_type": "code",
        "colab": {
          "base_uri": "https://localhost:8080/",
          "height": 204
        },
        "outputId": "9249740b-1b80-41ef-e734-8b67ec460389"
      },
      "source": [
        "# now time for training!\n",
        "eta = 0.01\n",
        "n_iters = 5001\n",
        "m = len(X_train)\n",
        "epsilon = 1e-7  # to add to 0 terms to prevent nans\n",
        "\n",
        "Theta = np.random.randn(n_inputs, n_outputs)    # dim_of_weights by number_of_classes\n",
        "\n",
        "for iter in range(n_iters):\n",
        "    logits = X_train.dot(Theta)\n",
        "    Y_proba = softmax(logits)\n",
        "    loss = -np.mean(np.sum(Y_train_oh * np.log(Y_proba + epsilon), axis=1))\n",
        "    if iter % 500 == 0:\n",
        "        print(iter, loss)\n",
        "    gradients = (1/m) * X_train.T.dot(Y_proba - Y_train_oh)\n",
        "    Theta = Theta - eta * gradients"
      ],
      "execution_count": 102,
      "outputs": [
        {
          "output_type": "stream",
          "text": [
            "0 4.742639033914859\n",
            "500 0.7216880823119456\n",
            "1000 0.6204887212670228\n",
            "1500 0.5578624004739455\n",
            "2000 0.5145425566126577\n",
            "2500 0.48219027400101155\n",
            "3000 0.4566988357061258\n",
            "3500 0.43582117185672764\n",
            "4000 0.41822219905237085\n",
            "4500 0.4030556709445118\n",
            "5000 0.3897567987663698\n"
          ],
          "name": "stdout"
        }
      ]
    },
    {
      "cell_type": "code",
      "metadata": {
        "id": "QSbtVtisMxAx",
        "colab_type": "code",
        "colab": {
          "base_uri": "https://localhost:8080/",
          "height": 68
        },
        "outputId": "32ed3544-3900-46a1-be9d-851886868946"
      },
      "source": [
        "# now it's trained! let's look at the parameters:\n",
        "Theta"
      ],
      "execution_count": 103,
      "outputs": [
        {
          "output_type": "execute_result",
          "data": {
            "text/plain": [
              "array([[ 4.29312369,  0.03073838, -1.97193784],\n",
              "       [-1.0965798 ,  0.32806673,  0.07745712],\n",
              "       [-0.11010737,  0.35188545,  2.42549367]])"
            ]
          },
          "metadata": {
            "tags": []
          },
          "execution_count": 103
        }
      ]
    },
    {
      "cell_type": "code",
      "metadata": {
        "id": "F1M058A8M3u3",
        "colab_type": "code",
        "colab": {
          "base_uri": "https://localhost:8080/",
          "height": 34
        },
        "outputId": "dc1bf665-9efc-4e8f-b52f-8a6714a92860"
      },
      "source": [
        "# now let's use it\n",
        "logits = X_val.dot(Theta)\n",
        "Y_proba = softmax(logits)\n",
        "y_predict = np.argmax(Y_proba, axis=1)\n",
        "\n",
        "accuracy_score = np.mean(y_predict == y_val)\n",
        "accuracy_score      # not too bad!"
      ],
      "execution_count": 104,
      "outputs": [
        {
          "output_type": "execute_result",
          "data": {
            "text/plain": [
              "0.9666666666666667"
            ]
          },
          "metadata": {
            "tags": []
          },
          "execution_count": 104
        }
      ]
    },
    {
      "cell_type": "code",
      "metadata": {
        "id": "-hACr_xMPMW0",
        "colab_type": "code",
        "colab": {
          "base_uri": "https://localhost:8080/",
          "height": 204
        },
        "outputId": "cc224aa8-742e-4295-c6be-24fcc2a40259"
      },
      "source": [
        "# now let's try adding l2 regularization manually\n",
        "eta = 0.01\n",
        "n_iters = 5001\n",
        "m = len(X_train)\n",
        "epsilon = 1e-7  # to add to 0 terms to prevent nans\n",
        "alpha = 0.1     # regularization hyperparamerter\n",
        "\n",
        "Theta = np.random.randn(n_inputs, n_outputs)    # dim_of_weights by number_of_classes\n",
        "\n",
        "for iter in range(n_iters):\n",
        "    logits = X_train.dot(Theta)\n",
        "    Y_proba = softmax(logits)\n",
        "    xentropy_loss = -np.mean(np.sum(Y_train_oh * np.log(Y_proba + epsilon), axis=1))\n",
        "    l2_loss = 1/2 * np.sum(np.square(Theta[1:]))\n",
        "    loss = xentropy_loss + alpha * l2_loss\n",
        "\n",
        "    if iter % 500 == 0:\n",
        "        print(iter, loss)\n",
        "\n",
        "    error = Y_proba - Y_train_oh\n",
        "    gradients = (1/m) * X_train.T.dot(error) + np.r_[np.zeros([1, n_outputs]), alpha * Theta[1:]]    # only regularize col 2 and 3 of Theta bc the first col is for bias\n",
        "    Theta = Theta - eta * gradients"
      ],
      "execution_count": 87,
      "outputs": [
        {
          "output_type": "stream",
          "text": [
            "0 6.629842469083912\n",
            "500 0.9686589842249377\n",
            "1000 0.7776844272207595\n",
            "1500 0.6814080407571755\n",
            "2000 0.6283713718788265\n",
            "2500 0.5963150854603225\n",
            "3000 0.575245519589463\n",
            "3500 0.5604093954580108\n",
            "4000 0.5493870445680064\n",
            "4500 0.5408567207176893\n",
            "5000 0.5340463324849026\n"
          ],
          "name": "stdout"
        }
      ]
    },
    {
      "cell_type": "code",
      "metadata": {
        "id": "rokuC-xtRlt1",
        "colab_type": "code",
        "colab": {
          "base_uri": "https://localhost:8080/",
          "height": 34
        },
        "outputId": "e992575a-976f-4628-c5a6-36d93b946d7f"
      },
      "source": [
        "# above losses seem higher bc of regularization, but let's check if it did better\n",
        "logits = X_val.dot(Theta)\n",
        "Y_proba = softmax(logits)\n",
        "y_predict = np.argmax(Y_proba, axis=1)\n",
        "\n",
        "accuracy_score = np.mean(y_predict == y_val)\n",
        "accuracy_score      # did a little worse :/"
      ],
      "execution_count": 88,
      "outputs": [
        {
          "output_type": "execute_result",
          "data": {
            "text/plain": [
              "0.9"
            ]
          },
          "metadata": {
            "tags": []
          },
          "execution_count": 88
        }
      ]
    },
    {
      "cell_type": "code",
      "metadata": {
        "id": "uLOHEUegR2Ma",
        "colab_type": "code",
        "colab": {
          "base_uri": "https://localhost:8080/",
          "height": 204
        },
        "outputId": "45e7f02e-aa63-4e43-ab89-60e73acd3230"
      },
      "source": [
        "# now let's try adding early stopping\n",
        "eta = 0.01\n",
        "n_iters = 5001\n",
        "m = len(X_train)\n",
        "epsilon = 1e-7  # to add to 0 terms to prevent nans\n",
        "alpha = 0.1     # regularization hyperparamerter\n",
        "best_loss = np.infty\n",
        "\n",
        "Theta = np.random.randn(n_inputs, n_outputs)    # dim_of_weights by number_of_classes\n",
        "\n",
        "for iter in range(n_iters):\n",
        "    logits = X_train.dot(Theta)\n",
        "    Y_proba = softmax(logits)\n",
        "    xentropy_loss = -np.mean(np.sum(Y_train_oh * np.log(Y_proba + epsilon), axis=1))\n",
        "    l2_loss = 1/2 * np.sum(np.square(Theta[1:]))\n",
        "    loss = xentropy_loss + alpha * l2_loss\n",
        "    error = Y_proba - Y_train_oh\n",
        "    gradients = (1/m) * X_train.T.dot(error) + np.r_[np.zeros([1, n_outputs]), alpha * Theta[1:]]    # only regularize col 2 and 3 of Theta bc the first col is for bias\n",
        "    Theta = Theta - eta * gradients\n",
        "\n",
        "    # check val loss to stop once it increases\n",
        "    logits = X_val.dot(Theta)\n",
        "    Y_proba = softmax(logits)\n",
        "    xentropy_loss = -np.mean(np.sum(Y_val_oh * np.log(Y_proba + epsilon), axis=1))\n",
        "    l2_loss = 1/2 * np.sum(np.square(Theta[1:]))\n",
        "    loss = xentropy_loss + alpha * l2_loss\n",
        "\n",
        "    if iter % 500 == 0:\n",
        "        print(iter, loss)\n",
        "    if loss < best_loss:\n",
        "        best_loss = loss\n",
        "    else:\n",
        "        print(iteration - 1, best_lost)\n",
        "        print(iteration, loss, 'early stop!')\n",
        "        break"
      ],
      "execution_count": 89,
      "outputs": [
        {
          "output_type": "stream",
          "text": [
            "0 5.4044551826526\n",
            "500 0.8975143813565174\n",
            "1000 0.7638778281807005\n",
            "1500 0.6964911465199841\n",
            "2000 0.657185425626267\n",
            "2500 0.6315140938560633\n",
            "3000 0.6133729210488517\n",
            "3500 0.5998397415753632\n",
            "4000 0.5893513823642935\n",
            "4500 0.5809927641590672\n",
            "5000 0.5741892349628452\n"
          ],
          "name": "stdout"
        }
      ]
    },
    {
      "cell_type": "code",
      "metadata": {
        "id": "3ObCbw0NTDuO",
        "colab_type": "code",
        "colab": {
          "base_uri": "https://localhost:8080/",
          "height": 34
        },
        "outputId": "7bae67a1-7ea6-4874-a42c-f477617fa090"
      },
      "source": [
        "# let's check out it's performance\n",
        "logits = X_val.dot(Theta)\n",
        "Y_proba = softmax(logits)\n",
        "y_predict = np.argmax(Y_proba, axis=1)\n",
        "\n",
        "accuracy_score = np.mean(y_predict == y_val)\n",
        "accuracy_score      # same performance"
      ],
      "execution_count": 90,
      "outputs": [
        {
          "output_type": "execute_result",
          "data": {
            "text/plain": [
              "0.9"
            ]
          },
          "metadata": {
            "tags": []
          },
          "execution_count": 90
        }
      ]
    },
    {
      "cell_type": "code",
      "metadata": {
        "id": "Fr5bKPfHT-DA",
        "colab_type": "code",
        "colab": {
          "base_uri": "https://localhost:8080/",
          "height": 287
        },
        "outputId": "2ecfb986-a94b-4068-bfcf-52be8e076fdf"
      },
      "source": [
        "# lastly, let's plot the model's decision boundaries\n",
        "x0, x1 = np.meshgrid(\n",
        "    np.linspace(0, 8, 500).reshape(-1, 1),\n",
        "    np.linspace(0, 3.5, 200).reshape(-1, 1)\n",
        ")\n",
        "X_new = np.c_[x0.ravel(), x1.ravel()]\n",
        "X_new_w_bias = np.c_[np.ones([len(X_new), 1]), X_new]\n",
        "\n",
        "logits = X_new_w_bias.dot(Theta)\n",
        "Y_proba = softmax(logits)\n",
        "y_predict = np.argmax(Y_proba, axis=1)\n",
        "\n",
        "zz1 = Y_proba[:, 1].reshape(x0.shape)\n",
        "zz = y_predict.reshape(x0.shape)\n",
        "\n",
        "plt.figure(figsize=(10, 4))\n",
        "plt.plot(X[y==2, 0], X[y==2, 1], \"g^\", label=\"Iris virginica\")\n",
        "plt.plot(X[y==1, 0], X[y==1, 1], \"bs\", label=\"Iris versicolor\")\n",
        "plt.plot(X[y==0, 0], X[y==0, 1], \"yo\", label=\"Iris setosa\")\n",
        "\n",
        "from matplotlib.colors import ListedColormap\n",
        "custom_cmap = ListedColormap(['#fafab0','#9898ff','#a0faa0'])\n",
        "\n",
        "plt.contourf(x0, x1, zz, cmap=custom_cmap)\n",
        "contour = plt.contour(x0, x1, zz1, cmap=plt.cm.brg)\n",
        "plt.clabel(contour, inline=1, fontsize=12)\n",
        "plt.xlabel(\"Petal length\", fontsize=14)\n",
        "plt.ylabel(\"Petal width\", fontsize=14)\n",
        "plt.legend(loc=\"upper left\", fontsize=14)\n",
        "plt.axis([0, 7, 0, 3.5])\n",
        "plt.show()"
      ],
      "execution_count": 99,
      "outputs": [
        {
          "output_type": "display_data",
          "data": {
            "image/png": "[encoded data removed]",
            "text/plain": [
              "<Figure size 720x288 with 1 Axes>"
            ]
          },
          "metadata": {
            "tags": [],
            "needs_background": "light"
          }
        }
      ]
    },
    {
      "cell_type": "code",
      "metadata": {
        "id": "qEGXCsAsUaTa",
        "colab_type": "code",
        "colab": {
          "base_uri": "https://localhost:8080/",
          "height": 34
        },
        "outputId": "8c3b2753-09a0-4cea-8aeb-0b931de0f14b"
      },
      "source": [
        "# now final test\n",
        "logits = X_test.dot(Theta)\n",
        "Y_proba = softmax(logits)\n",
        "y_predict = np.argmax(Y_proba, axis=1)\n",
        "\n",
        "accuracy_score = np.mean(y_predict == y_test)\n",
        "accuracy_score      # not too bad!"
      ],
      "execution_count": 101,
      "outputs": [
        {
          "output_type": "execute_result",
          "data": {
            "text/plain": [
              "0.9333333333333333"
            ]
          },
          "metadata": {
            "tags": []
          },
          "execution_count": 101
        }
      ]
    },
    {
      "cell_type": "code",
      "metadata": {
        "id": "FYfn5bGvXYUo",
        "colab_type": "code",
        "colab": {
          "base_uri": "https://localhost:8080/",
          "height": 34
        },
        "outputId": "801efc4d-875b-420d-d7ba-7d40d9d7c873"
      },
      "source": [
        "# alternatively, using sklearn makes it very easy to do roughly the same thing\n",
        "from sklearn.linear_model import LogisticRegression\n",
        "from sklearn.metrics import accuracy_score\n",
        "\n",
        "sk_log_reg = LogisticRegression()\n",
        "sk_log_reg.fit(X_train, y_train)    # automatically does Softmax bc y_train has multiple outputs\n",
        "\n",
        "y_predict = sk_log_reg.predict(X_test)\n",
        "\n",
        "accuracy_score(y_test, y_predict)"
      ],
      "execution_count": 110,
      "outputs": [
        {
          "output_type": "execute_result",
          "data": {
            "text/plain": [
              "0.9333333333333333"
            ]
          },
          "metadata": {
            "tags": []
          },
          "execution_count": 110
        }
      ]
    }
  ]
}