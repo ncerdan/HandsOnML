{
  "nbformat": 4,
  "nbformat_minor": 0,
  "metadata": {
    "colab": {
      "name": "05_SVM.ipynb",
      "provenance": [],
      "toc_visible": true,
      "authorship_tag": "ABX9TyOjawBLA/WL41BkmjDF35Fg"
    },
    "kernelspec": {
      "name": "python3",
      "display_name": "Python 3"
    }
  },
  "cells": [
    {
      "cell_type": "markdown",
      "metadata": {
        "id": "Q_OacF1VcV30",
        "colab_type": "text"
      },
      "source": [
        "[![Open In Colab](https://colab.research.google.com/assets/colab-badge.svg)](https://colab.research.google.com/github/ncerdan/HandsOnML/blob/master/Ch_05_SVM.ipynb)"
      ]
    },
    {
      "cell_type": "markdown",
      "metadata": {
        "id": "dmsoBfwZcCbN",
        "colab_type": "text"
      },
      "source": [
        "# Linear SVM Classification"
      ]
    },
    {
      "cell_type": "markdown",
      "metadata": {
        "id": "xErm7JJdeTff",
        "colab_type": "text"
      },
      "source": [
        "## Soft Margin Classification"
      ]
    },
    {
      "cell_type": "code",
      "metadata": {
        "id": "p6qBYTeEcJLY",
        "colab_type": "code",
        "colab": {}
      },
      "source": [
        "import numpy as np\n",
        "from sklearn import datasets\n",
        "from sklearn.pipeline import Pipeline\n",
        "from sklearn.preprocessing import StandardScaler\n",
        "from sklearn.svm import LinearSVC\n",
        "\n",
        "# load the data\n",
        "iris = datasets.load_iris()\n",
        "X = iris['data'][:, (2, 3)] # petal length, petal width\n",
        "y = (iris['target'] == 2).astype(np.float64)    # is iris virginica"
      ],
      "execution_count": 1,
      "outputs": []
    },
    {
      "cell_type": "code",
      "metadata": {
        "id": "pzG6CL1Sez0L",
        "colab_type": "code",
        "colab": {
          "base_uri": "https://localhost:8080/",
          "height": 187
        },
        "outputId": "6e961867-53ee-4e8a-ca6e-2f840995833a"
      },
      "source": [
        "# create a linear SVM Classifier that standardizes inputs\n",
        "# C: controls penalty for margin violations (1 is smaller)\n",
        "# loss: controls loss function\n",
        "# LinearSVC regularizes the bias term so should first center about mean\n",
        "#   StandardScaler() handles this\n",
        "\n",
        "svm_clf = Pipeline([\n",
        "    ('scaler', StandardScaler()),\n",
        "    ('linear_svc', LinearSVC(C=1, loss='hinge'))\n",
        "])\n",
        "\n",
        "svm_clf.fit(X, y)"
      ],
      "execution_count": 2,
      "outputs": [
        {
          "output_type": "execute_result",
          "data": {
            "text/plain": [
              "Pipeline(memory=None,\n",
              "         steps=[('scaler',\n",
              "                 StandardScaler(copy=True, with_mean=True, with_std=True)),\n",
              "                ('linear_svc',\n",
              "                 LinearSVC(C=1, class_weight=None, dual=True,\n",
              "                           fit_intercept=True, intercept_scaling=1,\n",
              "                           loss='hinge', max_iter=1000, multi_class='ovr',\n",
              "                           penalty='l2', random_state=None, tol=0.0001,\n",
              "                           verbose=0))],\n",
              "         verbose=False)"
            ]
          },
          "metadata": {
            "tags": []
          },
          "execution_count": 2
        }
      ]
    },
    {
      "cell_type": "code",
      "metadata": {
        "id": "u8oMgHgUfZoH",
        "colab_type": "code",
        "colab": {
          "base_uri": "https://localhost:8080/",
          "height": 34
        },
        "outputId": "bd5ab275-5303-4ec6-da5e-b69ae13ec7ca"
      },
      "source": [
        "# can use it to predict\n",
        "svm_clf.predict([[5.5, 1.7]])"
      ],
      "execution_count": 3,
      "outputs": [
        {
          "output_type": "execute_result",
          "data": {
            "text/plain": [
              "array([1.])"
            ]
          },
          "metadata": {
            "tags": []
          },
          "execution_count": 3
        }
      ]
    },
    {
      "cell_type": "code",
      "metadata": {
        "id": "JavNSLRxffpp",
        "colab_type": "code",
        "colab": {
          "base_uri": "https://localhost:8080/",
          "height": 34
        },
        "outputId": "95d8eb55-422d-4a2f-e408-a44a5fefbe4d"
      },
      "source": [
        "# could also instead use the plain SVC class with a linear kernel\n",
        "#   NOTE: LinearSVC is much faster than SVC(kernel='linear')\n",
        "from sklearn.svm import SVC\n",
        "\n",
        "other_svm_clf = Pipeline([\n",
        "    ('scaler', StandardScaler()),\n",
        "    ('other_linear_svc', SVC(kernel='linear', C=1))                     \n",
        "])\n",
        "\n",
        "other_svm_clf.fit(X, y)\n",
        "other_svm_clf.predict([[5.5, 1.7]])"
      ],
      "execution_count": 4,
      "outputs": [
        {
          "output_type": "execute_result",
          "data": {
            "text/plain": [
              "array([1.])"
            ]
          },
          "metadata": {
            "tags": []
          },
          "execution_count": 4
        }
      ]
    },
    {
      "cell_type": "code",
      "metadata": {
        "id": "2KacsAHGgAFL",
        "colab_type": "code",
        "colab": {}
      },
      "source": [
        "\"\"\" could also use SGD as follows:\n",
        "from sklearn.linear_model import SGDClassifier\n",
        "\n",
        "sgd_clf = Pipeline([\n",
        "    ('scaler', StandardScaler()),\n",
        "    ('linear_sgd', SGDClassifier(loss='hinge', alpha=1/(m*C)))\n",
        "])\n",
        "\n",
        "sgd_clf.fit(X, y)\n",
        "sgd_clf.predict([[5.5, 1.7]])\n",
        "\"\"\""
      ],
      "execution_count": null,
      "outputs": []
    },
    {
      "cell_type": "markdown",
      "metadata": {
        "id": "c8--DAo-g8YF",
        "colab_type": "text"
      },
      "source": [
        "# Nonlinear SVM CLassification"
      ]
    },
    {
      "cell_type": "code",
      "metadata": {
        "id": "NuxLCKIBgjFX",
        "colab_type": "code",
        "colab": {
          "base_uri": "https://localhost:8080/",
          "height": 272
        },
        "outputId": "37b4a06c-1ffe-488c-bd0e-75d01d46d33b"
      },
      "source": [
        "# can use PolynomialFeatures with LinearSVC\n",
        "from sklearn.datasets import make_moons\n",
        "from sklearn.pipeline import Pipeline\n",
        "from sklearn.preprocessing import PolynomialFeatures\n",
        "\n",
        "X, y = make_moons(n_samples=100, noise=0.15)\n",
        "\n",
        "polynomial_svm_clf = Pipeline([\n",
        "    ('poly_features', PolynomialFeatures(degree=3)),\n",
        "    ('scaler', StandardScaler()),\n",
        "    ('svm_clf', LinearSVC(C=10, loss='hinge'))\n",
        "])\n",
        "\n",
        "polynomial_svm_clf.fit(X, y)"
      ],
      "execution_count": 6,
      "outputs": [
        {
          "output_type": "stream",
          "text": [
            "/usr/local/lib/python3.6/dist-packages/sklearn/svm/_base.py:947: ConvergenceWarning: Liblinear failed to converge, increase the number of iterations.\n",
            "  \"the number of iterations.\", ConvergenceWarning)\n"
          ],
          "name": "stderr"
        },
        {
          "output_type": "execute_result",
          "data": {
            "text/plain": [
              "Pipeline(memory=None,\n",
              "         steps=[('poly_features',\n",
              "                 PolynomialFeatures(degree=3, include_bias=True,\n",
              "                                    interaction_only=False, order='C')),\n",
              "                ('scaler',\n",
              "                 StandardScaler(copy=True, with_mean=True, with_std=True)),\n",
              "                ('svm_clf',\n",
              "                 LinearSVC(C=10, class_weight=None, dual=True,\n",
              "                           fit_intercept=True, intercept_scaling=1,\n",
              "                           loss='hinge', max_iter=1000, multi_class='ovr',\n",
              "                           penalty='l2', random_state=None, tol=0.0001,\n",
              "                           verbose=0))],\n",
              "         verbose=False)"
            ]
          },
          "metadata": {
            "tags": []
          },
          "execution_count": 6
        }
      ]
    },
    {
      "cell_type": "markdown",
      "metadata": {
        "id": "_LArsw2dhzmH",
        "colab_type": "text"
      },
      "source": [
        "## Polynomial Kernel"
      ]
    },
    {
      "cell_type": "code",
      "metadata": {
        "id": "2DBhfSPEhwiG",
        "colab_type": "code",
        "colab": {
          "base_uri": "https://localhost:8080/",
          "height": 187
        },
        "outputId": "76be6041-21d0-4bea-8822-564622ddeb9f"
      },
      "source": [
        "# this trick works, but when using larger polynomial degrees it becomes expensive.\n",
        "# to prevent this it uses the Kernel Trick which allows you to do this without\n",
        "# actually expanding all of the features. This is implemented with the SVC class\n",
        "# coef0: control how much it is influcenced by high vs low degree values\n",
        "from sklearn.svm import SVC\n",
        "poly_kernel_svm_clf = Pipeline([\n",
        "    ('scaler', StandardScaler()),\n",
        "    ('svm_clf', SVC(kernel='poly', degree=3, coef0=1, C=5))\n",
        "])\n",
        "\n",
        "poly_kernel_svm_clf.fit(X, y)"
      ],
      "execution_count": 8,
      "outputs": [
        {
          "output_type": "execute_result",
          "data": {
            "text/plain": [
              "Pipeline(memory=None,\n",
              "         steps=[('scaler',\n",
              "                 StandardScaler(copy=True, with_mean=True, with_std=True)),\n",
              "                ('svm_clf',\n",
              "                 SVC(C=5, break_ties=False, cache_size=200, class_weight=None,\n",
              "                     coef0=1, decision_function_shape='ovr', degree=3,\n",
              "                     gamma='scale', kernel='poly', max_iter=-1,\n",
              "                     probability=False, random_state=None, shrinking=True,\n",
              "                     tol=0.001, verbose=False))],\n",
              "         verbose=False)"
            ]
          },
          "metadata": {
            "tags": []
          },
          "execution_count": 8
        }
      ]
    },
    {
      "cell_type": "markdown",
      "metadata": {
        "id": "QLf5pvazkK5W",
        "colab_type": "text"
      },
      "source": [
        "## Gaussian RBF Kernel"
      ]
    },
    {
      "cell_type": "code",
      "metadata": {
        "id": "0I7TL9n3jf6Q",
        "colab_type": "code",
        "colab": {
          "base_uri": "https://localhost:8080/",
          "height": 204
        },
        "outputId": "2b7fabf6-5a2b-407b-9842-6543429d0ada"
      },
      "source": [
        "# runs Gaussian RBF similarity function using kernel trick\n",
        "# gamma: controls width of bell curve (large gamma = narrower curve)\n",
        "#   so can use this to regularize. large --> more fitting\n",
        "#                                  small --> less fitting\n",
        "\n",
        "rbf_kernerl_svm_clf = Pipeline([\n",
        "    ('scaler', StandardScaler()),\n",
        "    ('svm_clf', SVC(kernel='rbf', gamma=5, C=0.001))\n",
        "])\n",
        "\n",
        "rbf_kernerl_svm_clf.fit(X, y)"
      ],
      "execution_count": 9,
      "outputs": [
        {
          "output_type": "execute_result",
          "data": {
            "text/plain": [
              "Pipeline(memory=None,\n",
              "         steps=[('scaler',\n",
              "                 StandardScaler(copy=True, with_mean=True, with_std=True)),\n",
              "                ('svm_clf',\n",
              "                 SVC(C=0.001, break_ties=False, cache_size=200,\n",
              "                     class_weight=None, coef0=0.0,\n",
              "                     decision_function_shape='ovr', degree=3, gamma=5,\n",
              "                     kernel='rbf', max_iter=-1, probability=False,\n",
              "                     random_state=None, shrinking=True, tol=0.001,\n",
              "                     verbose=False))],\n",
              "         verbose=False)"
            ]
          },
          "metadata": {
            "tags": []
          },
          "execution_count": 9
        }
      ]
    },
    {
      "cell_type": "markdown",
      "metadata": {
        "id": "YYsHviJnoKmX",
        "colab_type": "text"
      },
      "source": [
        "# SVM Regression"
      ]
    },
    {
      "cell_type": "code",
      "metadata": {
        "id": "LGbTFH7LlphC",
        "colab_type": "code",
        "colab": {
          "base_uri": "https://localhost:8080/",
          "height": 68
        },
        "outputId": "199f4126-7d22-4ba3-b83d-33fe9bb0d7cc"
      },
      "source": [
        "# for linear data\n",
        "from sklearn.svm import LinearSVR\n",
        "\n",
        "svm_reg = LinearSVR(epsilon=1.5)\n",
        "svm_reg.fit(X, y)"
      ],
      "execution_count": 10,
      "outputs": [
        {
          "output_type": "execute_result",
          "data": {
            "text/plain": [
              "LinearSVR(C=1.0, dual=True, epsilon=1.5, fit_intercept=True,\n",
              "          intercept_scaling=1.0, loss='epsilon_insensitive', max_iter=1000,\n",
              "          random_state=None, tol=0.0001, verbose=0)"
            ]
          },
          "metadata": {
            "tags": []
          },
          "execution_count": 10
        }
      ]
    },
    {
      "cell_type": "code",
      "metadata": {
        "id": "X0z46ZYopJ5r",
        "colab_type": "code",
        "colab": {
          "base_uri": "https://localhost:8080/",
          "height": 51
        },
        "outputId": "a3a3de03-5713-45b2-8582-384429ed2820"
      },
      "source": [
        "# kernelized for nonlinear data\n",
        "from sklearn.svm import SVR\n",
        "\n",
        "svm_poly_reg = SVR(kernel='poly', degree=2, C=100, epsilon=0.1)\n",
        "svm_poly_reg.fit(X, y)"
      ],
      "execution_count": 11,
      "outputs": [
        {
          "output_type": "execute_result",
          "data": {
            "text/plain": [
              "SVR(C=100, cache_size=200, coef0=0.0, degree=2, epsilon=0.1, gamma='scale',\n",
              "    kernel='poly', max_iter=-1, shrinking=True, tol=0.001, verbose=False)"
            ]
          },
          "metadata": {
            "tags": []
          },
          "execution_count": 11
        }
      ]
    },
    {
      "cell_type": "markdown",
      "metadata": {
        "id": "K_16OiW9qHUu",
        "colab_type": "text"
      },
      "source": [
        "# Exercises"
      ]
    },
    {
      "cell_type": "markdown",
      "metadata": {
        "id": "dxcmU4ZwqKGs",
        "colab_type": "text"
      },
      "source": [
        "## 9.) Train an SVM Classifier on the MNIST dataset using one-vs-rest to make it multi-class"
      ]
    },
    {
      "cell_type": "code",
      "metadata": {
        "id": "FSEpud-_yOmf",
        "colab_type": "code",
        "colab": {}
      },
      "source": [
        "# first let's get the data\n",
        "from sklearn.datasets import fetch_openml\n",
        "\n",
        "mnist = fetch_openml('mnist_784', version=1, cache=True)\n",
        "\n",
        "X = mnist['data']\n",
        "y = mnist['target']\n",
        "\n",
        "X_train = X[:60000]\n",
        "y_train = y[:60000]\n",
        "X_test = X[60000:]\n",
        "y_test = y[60000:]"
      ],
      "execution_count": 13,
      "outputs": []
    },
    {
      "cell_type": "code",
      "metadata": {
        "id": "oR4OqGGr3NnW",
        "colab_type": "code",
        "colab": {}
      },
      "source": [
        "# scaling is important in SVM\n",
        "from sklearn.preprocessing import StandardScaler\n",
        "\n",
        "scaler = StandardScaler()\n",
        "X_train_scaled = scaler.fit_transform(X_train.astype(np.float32))\n",
        "X_test_scaled = scaler.transform(X_test.astype(np.float32))"
      ],
      "execution_count": 18,
      "outputs": []
    },
    {
      "cell_type": "code",
      "metadata": {
        "id": "SZ2HG0Kt088Q",
        "colab_type": "code",
        "colab": {
          "base_uri": "https://localhost:8080/",
          "height": 85
        },
        "outputId": "5e0d1411-fe70-4dce-d5b7-f8d7c91125bc"
      },
      "source": [
        "# let's try a RBF kernel first\n",
        "from sklearn.svm import SVC\n",
        "\n",
        "rbf_clf = SVC(kernel='rbf')\n",
        "\n",
        "# only train on small subset for speed for now\n",
        "rbf_clf.fit(X_train_scaled[:10000], y_train[:10000])"
      ],
      "execution_count": 19,
      "outputs": [
        {
          "output_type": "execute_result",
          "data": {
            "text/plain": [
              "SVC(C=1.0, break_ties=False, cache_size=200, class_weight=None, coef0=0.0,\n",
              "    decision_function_shape='ovr', degree=3, gamma='scale', kernel='rbf',\n",
              "    max_iter=-1, probability=False, random_state=None, shrinking=True,\n",
              "    tol=0.001, verbose=False)"
            ]
          },
          "metadata": {
            "tags": []
          },
          "execution_count": 19
        }
      ]
    },
    {
      "cell_type": "code",
      "metadata": {
        "id": "JB2ZaJIu1TvM",
        "colab_type": "code",
        "colab": {
          "base_uri": "https://localhost:8080/",
          "height": 34
        },
        "outputId": "9ddfa63a-8ad0-49b0-a7c1-a375b51290f2"
      },
      "source": [
        "# let's checkout its performance\n",
        "from sklearn.metrics import accuracy_score\n",
        "y_pred = rbf_clf.predict(X_train_scaled)\n",
        "accuracy_score(y_train, y_pred)     # --> 94.5% is not too bad!"
      ],
      "execution_count": 20,
      "outputs": [
        {
          "output_type": "execute_result",
          "data": {
            "text/plain": [
              "0.9455333333333333"
            ]
          },
          "metadata": {
            "tags": []
          },
          "execution_count": 20
        }
      ]
    },
    {
      "cell_type": "code",
      "metadata": {
        "id": "9VR2w1pG31ZG",
        "colab_type": "code",
        "colab": {
          "base_uri": "https://localhost:8080/",
          "height": 1000
        },
        "outputId": "9116c8ad-1ed8-4b34-b647-63a83e6a034b"
      },
      "source": [
        "# now lets do a random search on hyperparams to try and optimize\n",
        "from sklearn.model_selection import RandomizedSearchCV\n",
        "from scipy.stats import uniform, reciprocal\n",
        "\n",
        "param_distrs = {'gamma': reciprocal(0.001, 0.1), 'C': uniform(1, 10)}\n",
        "rand_search_cv = RandomizedSearchCV(rbf_clf, param_distrs, n_iter=10, verbose=2, cv=3)\n",
        "\n",
        "# use very small sets to go faster\n",
        "rand_search_cv.fit(X_train_scaled[:1000], y_train[:1000])"
      ],
      "execution_count": 23,
      "outputs": [
        {
          "output_type": "stream",
          "text": [
            "Fitting 3 folds for each of 10 candidates, totalling 30 fits\n",
            "[CV] C=7.679152436041923, gamma=0.01958133161609739 ..................\n"
          ],
          "name": "stdout"
        },
        {
          "output_type": "stream",
          "text": [
            "[Parallel(n_jobs=1)]: Using backend SequentialBackend with 1 concurrent workers.\n"
          ],
          "name": "stderr"
        },
        {
          "output_type": "stream",
          "text": [
            "[CV] ... C=7.679152436041923, gamma=0.01958133161609739, total=   1.3s\n",
            "[CV] C=7.679152436041923, gamma=0.01958133161609739 ..................\n"
          ],
          "name": "stdout"
        },
        {
          "output_type": "stream",
          "text": [
            "[Parallel(n_jobs=1)]: Done   1 out of   1 | elapsed:    1.3s remaining:    0.0s\n"
          ],
          "name": "stderr"
        },
        {
          "output_type": "stream",
          "text": [
            "[CV] ... C=7.679152436041923, gamma=0.01958133161609739, total=   1.3s\n",
            "[CV] C=7.679152436041923, gamma=0.01958133161609739 ..................\n",
            "[CV] ... C=7.679152436041923, gamma=0.01958133161609739, total=   1.3s\n",
            "[CV] C=4.100926758624821, gamma=0.03654242289779093 ..................\n",
            "[CV] ... C=4.100926758624821, gamma=0.03654242289779093, total=   1.3s\n",
            "[CV] C=4.100926758624821, gamma=0.03654242289779093 ..................\n",
            "[CV] ... C=4.100926758624821, gamma=0.03654242289779093, total=   1.3s\n",
            "[CV] C=4.100926758624821, gamma=0.03654242289779093 ..................\n",
            "[CV] ... C=4.100926758624821, gamma=0.03654242289779093, total=   1.3s\n",
            "[CV] C=8.509401151212021, gamma=0.07824535370623982 ..................\n",
            "[CV] ... C=8.509401151212021, gamma=0.07824535370623982, total=   1.3s\n",
            "[CV] C=8.509401151212021, gamma=0.07824535370623982 ..................\n",
            "[CV] ... C=8.509401151212021, gamma=0.07824535370623982, total=   1.3s\n",
            "[CV] C=8.509401151212021, gamma=0.07824535370623982 ..................\n",
            "[CV] ... C=8.509401151212021, gamma=0.07824535370623982, total=   1.3s\n",
            "[CV] C=9.754483877901915, gamma=0.0013552049904738226 ................\n",
            "[CV] . C=9.754483877901915, gamma=0.0013552049904738226, total=   1.0s\n",
            "[CV] C=9.754483877901915, gamma=0.0013552049904738226 ................\n",
            "[CV] . C=9.754483877901915, gamma=0.0013552049904738226, total=   0.9s\n",
            "[CV] C=9.754483877901915, gamma=0.0013552049904738226 ................\n",
            "[CV] . C=9.754483877901915, gamma=0.0013552049904738226, total=   0.9s\n",
            "[CV] C=8.60621194062804, gamma=0.09599233048550761 ...................\n",
            "[CV] .... C=8.60621194062804, gamma=0.09599233048550761, total=   1.3s\n",
            "[CV] C=8.60621194062804, gamma=0.09599233048550761 ...................\n",
            "[CV] .... C=8.60621194062804, gamma=0.09599233048550761, total=   1.3s\n",
            "[CV] C=8.60621194062804, gamma=0.09599233048550761 ...................\n",
            "[CV] .... C=8.60621194062804, gamma=0.09599233048550761, total=   1.3s\n",
            "[CV] C=5.198286871319815, gamma=0.02185328992569816 ..................\n",
            "[CV] ... C=5.198286871319815, gamma=0.02185328992569816, total=   1.3s\n",
            "[CV] C=5.198286871319815, gamma=0.02185328992569816 ..................\n",
            "[CV] ... C=5.198286871319815, gamma=0.02185328992569816, total=   1.3s\n",
            "[CV] C=5.198286871319815, gamma=0.02185328992569816 ..................\n",
            "[CV] ... C=5.198286871319815, gamma=0.02185328992569816, total=   1.3s\n",
            "[CV] C=1.2532539324453942, gamma=0.0034630156441672515 ...............\n",
            "[CV]  C=1.2532539324453942, gamma=0.0034630156441672515, total=   1.2s\n",
            "[CV] C=1.2532539324453942, gamma=0.0034630156441672515 ...............\n",
            "[CV]  C=1.2532539324453942, gamma=0.0034630156441672515, total=   1.1s\n",
            "[CV] C=1.2532539324453942, gamma=0.0034630156441672515 ...............\n",
            "[CV]  C=1.2532539324453942, gamma=0.0034630156441672515, total=   1.2s\n",
            "[CV] C=6.283647582480876, gamma=0.0025694845793592692 ................\n",
            "[CV] . C=6.283647582480876, gamma=0.0025694845793592692, total=   1.1s\n",
            "[CV] C=6.283647582480876, gamma=0.0025694845793592692 ................\n",
            "[CV] . C=6.283647582480876, gamma=0.0025694845793592692, total=   1.1s\n",
            "[CV] C=6.283647582480876, gamma=0.0025694845793592692 ................\n",
            "[CV] . C=6.283647582480876, gamma=0.0025694845793592692, total=   1.1s\n",
            "[CV] C=4.935354011782927, gamma=0.0011264367733838313 ................\n",
            "[CV] . C=4.935354011782927, gamma=0.0011264367733838313, total=   0.9s\n",
            "[CV] C=4.935354011782927, gamma=0.0011264367733838313 ................\n",
            "[CV] . C=4.935354011782927, gamma=0.0011264367733838313, total=   0.9s\n",
            "[CV] C=4.935354011782927, gamma=0.0011264367733838313 ................\n",
            "[CV] . C=4.935354011782927, gamma=0.0011264367733838313, total=   0.9s\n",
            "[CV] C=7.165089814668603, gamma=0.09007847319243195 ..................\n",
            "[CV] ... C=7.165089814668603, gamma=0.09007847319243195, total=   1.3s\n",
            "[CV] C=7.165089814668603, gamma=0.09007847319243195 ..................\n",
            "[CV] ... C=7.165089814668603, gamma=0.09007847319243195, total=   1.3s\n",
            "[CV] C=7.165089814668603, gamma=0.09007847319243195 ..................\n",
            "[CV] ... C=7.165089814668603, gamma=0.09007847319243195, total=   1.3s\n"
          ],
          "name": "stdout"
        },
        {
          "output_type": "stream",
          "text": [
            "[Parallel(n_jobs=1)]: Done  30 out of  30 | elapsed:   35.7s finished\n"
          ],
          "name": "stderr"
        },
        {
          "output_type": "execute_result",
          "data": {
            "text/plain": [
              "RandomizedSearchCV(cv=3, error_score=nan,\n",
              "                   estimator=SVC(C=1.0, break_ties=False, cache_size=200,\n",
              "                                 class_weight=None, coef0=0.0,\n",
              "                                 decision_function_shape='ovr', degree=3,\n",
              "                                 gamma='scale', kernel='rbf', max_iter=-1,\n",
              "                                 probability=False, random_state=None,\n",
              "                                 shrinking=True, tol=0.001, verbose=False),\n",
              "                   iid='deprecated', n_iter=10, n_jobs=None,\n",
              "                   param_distributions={'C': <scipy.stats._distn_infrastructure.rv_frozen object at 0x7fb08f6191d0>,\n",
              "                                        'gamma': <scipy.stats._distn_infrastructure.rv_frozen object at 0x7fb08f619668>},\n",
              "                   pre_dispatch='2*n_jobs', random_state=None, refit=True,\n",
              "                   return_train_score=False, scoring=None, verbose=2)"
            ]
          },
          "metadata": {
            "tags": []
          },
          "execution_count": 23
        }
      ]
    },
    {
      "cell_type": "code",
      "metadata": {
        "id": "kd4zcjXc66F_",
        "colab_type": "code",
        "colab": {
          "base_uri": "https://localhost:8080/",
          "height": 85
        },
        "outputId": "6dfc020d-f7d3-43f3-a61c-5d8e383552bf"
      },
      "source": [
        "# let's see what we found\n",
        "rand_search_cv.best_estimator_"
      ],
      "execution_count": 24,
      "outputs": [
        {
          "output_type": "execute_result",
          "data": {
            "text/plain": [
              "SVC(C=4.935354011782927, break_ties=False, cache_size=200, class_weight=None,\n",
              "    coef0=0.0, decision_function_shape='ovr', degree=3,\n",
              "    gamma=0.0011264367733838313, kernel='rbf', max_iter=-1, probability=False,\n",
              "    random_state=None, shrinking=True, tol=0.001, verbose=False)"
            ]
          },
          "metadata": {
            "tags": []
          },
          "execution_count": 24
        }
      ]
    },
    {
      "cell_type": "code",
      "metadata": {
        "id": "gExcj3Zk7SDL",
        "colab_type": "code",
        "colab": {
          "base_uri": "https://localhost:8080/",
          "height": 34
        },
        "outputId": "ff81ce79-b928-4aff-c10f-a91c77f3b81e"
      },
      "source": [
        "# what was it's score on just the 1000 data points?\n",
        "rand_search_cv.best_score_  # --> not too bad for such a limited dataset"
      ],
      "execution_count": 27,
      "outputs": [
        {
          "output_type": "execute_result",
          "data": {
            "text/plain": [
              "0.8639987292681903"
            ]
          },
          "metadata": {
            "tags": []
          },
          "execution_count": 27
        }
      ]
    },
    {
      "cell_type": "code",
      "metadata": {
        "id": "ga56Pp9r7cGI",
        "colab_type": "code",
        "colab": {
          "base_uri": "https://localhost:8080/",
          "height": 85
        },
        "outputId": "d5de0d29-4b24-4981-8bfa-6e631c609915"
      },
      "source": [
        "# now let's train it on the whole data set and see how it does\n",
        "rand_search_cv.best_estimator_.fit(X_train_scaled, y_train)"
      ],
      "execution_count": 28,
      "outputs": [
        {
          "output_type": "execute_result",
          "data": {
            "text/plain": [
              "SVC(C=4.935354011782927, break_ties=False, cache_size=200, class_weight=None,\n",
              "    coef0=0.0, decision_function_shape='ovr', degree=3,\n",
              "    gamma=0.0011264367733838313, kernel='rbf', max_iter=-1, probability=False,\n",
              "    random_state=None, shrinking=True, tol=0.001, verbose=False)"
            ]
          },
          "metadata": {
            "tags": []
          },
          "execution_count": 28
        }
      ]
    },
    {
      "cell_type": "code",
      "metadata": {
        "id": "fMANCIV87oQX",
        "colab_type": "code",
        "colab": {
          "base_uri": "https://localhost:8080/",
          "height": 34
        },
        "outputId": "fda943f7-f7f7-4799-85fd-69d4aedfeb35"
      },
      "source": [
        "# and let's check its accuracy\n",
        "y_pred = rand_search_cv.best_estimator_.predict(X_train_scaled)\n",
        "accuracy_score(y_train, y_pred)"
      ],
      "execution_count": 30,
      "outputs": [
        {
          "output_type": "execute_result",
          "data": {
            "text/plain": [
              "0.9963166666666666"
            ]
          },
          "metadata": {
            "tags": []
          },
          "execution_count": 30
        }
      ]
    },
    {
      "cell_type": "code",
      "metadata": {
        "id": "4eUBWzF2-3fK",
        "colab_type": "code",
        "colab": {
          "base_uri": "https://localhost:8080/",
          "height": 34
        },
        "outputId": "d7a9db17-86af-4e4d-ed6f-05daf73c310a"
      },
      "source": [
        "# seem's pretty good. now let's check it's testing accuracy\n",
        "y_test_pred = rand_search_cv.best_estimator_.predict(X_test_scaled)\n",
        "accuracy_score(y_test, y_test_pred)"
      ],
      "execution_count": 31,
      "outputs": [
        {
          "output_type": "execute_result",
          "data": {
            "text/plain": [
              "0.9728"
            ]
          },
          "metadata": {
            "tags": []
          },
          "execution_count": 31
        }
      ]
    },
    {
      "cell_type": "code",
      "metadata": {
        "id": "XlBBDys__VB_",
        "colab_type": "code",
        "colab": {}
      },
      "source": [
        "# 97% accuracy! That's pretty good! \n",
        "# It's lower than the 99% shown from the training score, so that means my\n",
        "# model is probably slightly overfit -- but not too bad overall!"
      ],
      "execution_count": 33,
      "outputs": []
    }
  ]
}