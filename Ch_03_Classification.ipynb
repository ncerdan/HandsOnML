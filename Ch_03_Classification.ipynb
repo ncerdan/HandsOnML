{
  "nbformat": 4,
  "nbformat_minor": 0,
  "metadata": {
    "kernelspec": {
      "name": "python3",
      "display_name": "Python 3"
    },
    "colab": {
      "name": "03_Classification.ipynb",
      "provenance": [],
      "toc_visible": true
    }
  },
  "cells": [
    {
      "cell_type": "markdown",
      "metadata": {
        "id": "aPnDzczRgEsu",
        "colab_type": "text"
      },
      "source": [
        "[![Open In Colab](https://colab.research.google.com/assets/colab-badge.svg)](https://colab.research.google.com/github/ncerdan/HandsOnML/blob/master/Ch_03_Classification.ipynb)"
      ]
    },
    {
      "cell_type": "markdown",
      "metadata": {
        "id": "AxgkWLBtBE3e",
        "colab_type": "text"
      },
      "source": [
        "# Setup"
      ]
    },
    {
      "cell_type": "code",
      "metadata": {
        "id": "RfuJZ-cwBE3g",
        "colab_type": "code",
        "colab": {}
      },
      "source": [
        "# Python ≥3.5 is required\n",
        "import sys\n",
        "assert sys.version_info >= (3, 5)\n",
        "\n",
        "# Scikit-Learn ≥0.20 is required\n",
        "import sklearn\n",
        "assert sklearn.__version__ >= \"0.20\"\n",
        "\n",
        "# Common imports\n",
        "import numpy as np\n",
        "import os\n",
        "\n",
        "# to make this notebook's output stable across runs\n",
        "np.random.seed(42)\n",
        "\n",
        "# To plot pretty figures\n",
        "%matplotlib inline\n",
        "import matplotlib as mpl\n",
        "import matplotlib.pyplot as plt\n",
        "mpl.rc('axes', labelsize=14)\n",
        "mpl.rc('xtick', labelsize=12)\n",
        "mpl.rc('ytick', labelsize=12)"
      ],
      "execution_count": null,
      "outputs": []
    },
    {
      "cell_type": "markdown",
      "metadata": {
        "id": "WWJc2V3rBE3n",
        "colab_type": "text"
      },
      "source": [
        "# MNIST"
      ]
    },
    {
      "cell_type": "code",
      "metadata": {
        "id": "ztiKQyfjBE3o",
        "colab_type": "code",
        "colab": {
          "base_uri": "https://localhost:8080/",
          "height": 34
        },
        "outputId": "92c49a1b-ab94-4087-9c0a-3e7fd8ca706a"
      },
      "source": [
        "# sklearn can fetch this data set\n",
        "from sklearn.datasets import fetch_openml\n",
        "mnist = fetch_openml('mnist_784', version=1)\n",
        "mnist.keys()"
      ],
      "execution_count": null,
      "outputs": [
        {
          "output_type": "execute_result",
          "data": {
            "text/plain": [
              "dict_keys(['data', 'target', 'frame', 'feature_names', 'target_names', 'DESCR', 'details', 'categories', 'url'])"
            ]
          },
          "metadata": {
            "tags": []
          },
          "execution_count": 2
        }
      ]
    },
    {
      "cell_type": "code",
      "metadata": {
        "id": "wnhUD69hBE3s",
        "colab_type": "code",
        "colab": {
          "base_uri": "https://localhost:8080/",
          "height": 292
        },
        "outputId": "62f06681-b31b-4975-8e44-d6da7d5661de"
      },
      "source": [
        "# lets look at its structure\n",
        "print(mnist['DESCR'])\n",
        "X, y = mnist['data'], mnist['target']\n",
        "print(X.shape)    # (70000, 784) bc it has 70K images, each 28x28\n",
        "print(y.shape)"
      ],
      "execution_count": null,
      "outputs": [
        {
          "output_type": "stream",
          "text": [
            "**Author**: Yann LeCun, Corinna Cortes, Christopher J.C. Burges  \n",
            "**Source**: [MNIST Website](http://yann.lecun.com/exdb/mnist/) - Date unknown  \n",
            "**Please cite**:  \n",
            "\n",
            "The MNIST database of handwritten digits with 784 features, raw data available at: http://yann.lecun.com/exdb/mnist/. It can be split in a training set of the first 60,000 examples, and a test set of 10,000 examples  \n",
            "\n",
            "It is a subset of a larger set available from NIST. The digits have been size-normalized and centered in a fixed-size image. It is a good database for people who want to try learning techniques and pattern recognition methods on real-world data while spending minimal efforts on preprocessing and formatting. The original black and white (bilevel) images from NIST were size normalized to fit in a 20x20 pixel box while preserving their aspect ratio. The resulting images contain grey levels as a result of the anti-aliasing technique used by the normalization algorithm. the images were centered in a 28x28 image by computing the center of mass of the pixels, and translating the image so as to position this point at the center of the 28x28 field.  \n",
            "\n",
            "With some classification methods (particularly template-based methods, such as SVM and K-nearest neighbors), the error rate improves when the digits are centered by bounding box rather than center of mass. If you do this kind of pre-processing, you should report it in your publications. The MNIST database was constructed from NIST's NIST originally designated SD-3 as their training set and SD-1 as their test set. However, SD-3 is much cleaner and easier to recognize than SD-1. The reason for this can be found on the fact that SD-3 was collected among Census Bureau employees, while SD-1 was collected among high-school students. Drawing sensible conclusions from learning experiments requires that the result be independent of the choice of training set and test among the complete set of samples. Therefore it was necessary to build a new database by mixing NIST's datasets.  \n",
            "\n",
            "The MNIST training set is composed of 30,000 patterns from SD-3 and 30,000 patterns from SD-1. Our test set was composed of 5,000 patterns from SD-3 and 5,000 patterns from SD-1. The 60,000 pattern training set contained examples from approximately 250 writers. We made sure that the sets of writers of the training set and test set were disjoint. SD-1 contains 58,527 digit images written by 500 different writers. In contrast to SD-3, where blocks of data from each writer appeared in sequence, the data in SD-1 is scrambled. Writer identities for SD-1 is available and we used this information to unscramble the writers. We then split SD-1 in two: characters written by the first 250 writers went into our new training set. The remaining 250 writers were placed in our test set. Thus we had two sets with nearly 30,000 examples each. The new training set was completed with enough examples from SD-3, starting at pattern # 0, to make a full set of 60,000 training patterns. Similarly, the new test set was completed with SD-3 examples starting at pattern # 35,000 to make a full set with 60,000 test patterns. Only a subset of 10,000 test images (5,000 from SD-1 and 5,000 from SD-3) is available on this site. The full 60,000 sample training set is available.\n",
            "\n",
            "Downloaded from openml.org.\n",
            "(70000, 784)\n",
            "(70000,)\n"
          ],
          "name": "stdout"
        }
      ]
    },
    {
      "cell_type": "code",
      "metadata": {
        "id": "hMVkPnquBE3x",
        "colab_type": "code",
        "colab": {
          "base_uri": "https://localhost:8080/",
          "height": 266
        },
        "outputId": "ba1cb7ca-698c-4c33-b7e1-30e8fc5649d9"
      },
      "source": [
        "# lets look at one digit\n",
        "some_digit = X[0]\n",
        "some_digit_image = some_digit.reshape(28, 28)\n",
        "\n",
        "plt.imshow(some_digit_image, cmap='binary')\n",
        "plt.axis('off')\n",
        "plt.show()\n",
        "\n",
        "# to confirm\n",
        "y[0]    "
      ],
      "execution_count": null,
      "outputs": [
        {
          "output_type": "display_data",
          "data": {
            "image/png": "[encoded data removed]",
            "text/plain": [
              "<Figure size 432x288 with 1 Axes>"
            ]
          },
          "metadata": {
            "tags": [],
            "needs_background": "light"
          }
        },
        {
          "output_type": "execute_result",
          "data": {
            "application/vnd.google.colaboratory.intrinsic+json": {
              "type": "string"
            },
            "text/plain": [
              "'5'"
            ]
          },
          "metadata": {
            "tags": []
          },
          "execution_count": 4
        }
      ]
    },
    {
      "cell_type": "code",
      "metadata": {
        "id": "of74C9VkBE30",
        "colab_type": "code",
        "colab": {
          "base_uri": "https://localhost:8080/",
          "height": 34
        },
        "outputId": "82c25a85-d25f-40ee-d3f5-cfef0d7d04c1"
      },
      "source": [
        "# notice y[0] is a string --> cast to int\n",
        "y = y.astype(np.uint8)\n",
        "y[0]    "
      ],
      "execution_count": null,
      "outputs": [
        {
          "output_type": "execute_result",
          "data": {
            "text/plain": [
              "5"
            ]
          },
          "metadata": {
            "tags": []
          },
          "execution_count": 5
        }
      ]
    },
    {
      "cell_type": "markdown",
      "metadata": {
        "id": "TCIJLLoKBE34",
        "colab_type": "text"
      },
      "source": [
        "## Splitting Train / Test"
      ]
    },
    {
      "cell_type": "code",
      "metadata": {
        "id": "HT7nUsUDBE35",
        "colab_type": "code",
        "colab": {}
      },
      "source": [
        "# MNIST comes already split, and training set shuffled for good CV\n",
        "#.   first 60k = train, last 10k = test\n",
        "X_train, X_test, y_train, y_test = X[:60000], X[60000:], y[:60000], y[60000:]"
      ],
      "execution_count": null,
      "outputs": []
    },
    {
      "cell_type": "markdown",
      "metadata": {
        "id": "HL91DChqBE3-",
        "colab_type": "text"
      },
      "source": [
        "# Training Binary Classifier"
      ]
    },
    {
      "cell_type": "code",
      "metadata": {
        "id": "7Pdbd28rBE3_",
        "colab_type": "code",
        "colab": {}
      },
      "source": [
        "# lets simplify example to just finding whether or not a digit is a 5\n",
        "y_train_5 = (y_train == 5)\n",
        "y_test_5 = (y_test == 5)"
      ],
      "execution_count": null,
      "outputs": []
    },
    {
      "cell_type": "code",
      "metadata": {
        "id": "RsFU6RF7BE4D",
        "colab_type": "code",
        "colab": {
          "base_uri": "https://localhost:8080/",
          "height": 119
        },
        "outputId": "4d42c57a-b297-47c2-8679-7d6921bf2b97"
      },
      "source": [
        "# train a Stochastic Gradient Decent Classifier\n",
        "from sklearn.linear_model import SGDClassifier\n",
        "\n",
        "sgd_clf = SGDClassifier(random_state=42)\n",
        "sgd_clf.fit(X_train, y_train_5)"
      ],
      "execution_count": null,
      "outputs": [
        {
          "output_type": "execute_result",
          "data": {
            "text/plain": [
              "SGDClassifier(alpha=0.0001, average=False, class_weight=None,\n",
              "              early_stopping=False, epsilon=0.1, eta0=0.0, fit_intercept=True,\n",
              "              l1_ratio=0.15, learning_rate='optimal', loss='hinge',\n",
              "              max_iter=1000, n_iter_no_change=5, n_jobs=None, penalty='l2',\n",
              "              power_t=0.5, random_state=42, shuffle=True, tol=0.001,\n",
              "              validation_fraction=0.1, verbose=0, warm_start=False)"
            ]
          },
          "metadata": {
            "tags": []
          },
          "execution_count": 9
        }
      ]
    },
    {
      "cell_type": "code",
      "metadata": {
        "id": "3d572FdGBE4I",
        "colab_type": "code",
        "colab": {
          "base_uri": "https://localhost:8080/",
          "height": 34
        },
        "outputId": "54023e3f-8479-4417-bf5a-96ec0a81f0b2"
      },
      "source": [
        "# try it out real quick\n",
        "sgd_clf.predict([some_digit])"
      ],
      "execution_count": null,
      "outputs": [
        {
          "output_type": "execute_result",
          "data": {
            "text/plain": [
              "array([ True])"
            ]
          },
          "metadata": {
            "tags": []
          },
          "execution_count": 10
        }
      ]
    },
    {
      "cell_type": "markdown",
      "metadata": {
        "id": "jIiDDX_4BE4M",
        "colab_type": "text"
      },
      "source": [
        "# Performance Measures"
      ]
    },
    {
      "cell_type": "code",
      "metadata": {
        "id": "gXcqgLG9BE4N",
        "colab_type": "code",
        "colab": {}
      },
      "source": [
        "# many ways to measure performance of a Classifier"
      ],
      "execution_count": null,
      "outputs": []
    },
    {
      "cell_type": "markdown",
      "metadata": {
        "id": "uxAhB5x7BE4Q",
        "colab_type": "text"
      },
      "source": [
        "## Measuring Accuracy using Cross-Validation"
      ]
    },
    {
      "cell_type": "code",
      "metadata": {
        "id": "duuTLVgtBE4R",
        "colab_type": "code",
        "colab": {
          "base_uri": "https://localhost:8080/",
          "height": 68
        },
        "outputId": "5d148299-9750-4248-d6e0-107092317197"
      },
      "source": [
        "# could implement our own stratified cross-validation\n",
        "from sklearn.model_selection import StratifiedKFold\n",
        "from sklearn.base import clone\n",
        "\n",
        "# creates folds using stratified sampling\n",
        "skfolds = StratifiedKFold(n_splits=3)\n",
        "\n",
        "# iterates through each n_splits folds and creates its own model\n",
        "for train_index, test_index in skfolds.split(X_train, y_train_5):\n",
        "    clone_clf = clone(sgd_clf)\n",
        "    \n",
        "    X_train_folds = X_train[train_index]\n",
        "    y_train_folds = y_train_5[train_index]\n",
        "    X_test_folds = X_train[test_index]\n",
        "    y_test_folds = y_train_5[test_index]\n",
        "    \n",
        "    clone_clf.fit(X_train_folds, y_train_folds)\n",
        "    y_pred = clone_clf.predict(X_test_folds)\n",
        "    n_correct = sum(y_pred == y_test_folds)\n",
        "    \n",
        "    print(n_correct / len(y_pred))"
      ],
      "execution_count": null,
      "outputs": [
        {
          "output_type": "stream",
          "text": [
            "0.95035\n",
            "0.96035\n",
            "0.9604\n"
          ],
          "name": "stdout"
        }
      ]
    },
    {
      "cell_type": "code",
      "metadata": {
        "id": "cGSGKgDEBE4W",
        "colab_type": "code",
        "colab": {
          "base_uri": "https://localhost:8080/",
          "height": 34
        },
        "outputId": "a68796ae-7f73-4d4c-9839-3053977b5d96"
      },
      "source": [
        "# but lets use cross_val_score() anayway\n",
        "from sklearn.model_selection import cross_val_score\n",
        "cross_val_score(sgd_clf, X_train, y_train_5, cv=3, scoring='accuracy')"
      ],
      "execution_count": null,
      "outputs": [
        {
          "output_type": "execute_result",
          "data": {
            "text/plain": [
              "array([0.95035, 0.96035, 0.9604 ])"
            ]
          },
          "metadata": {
            "tags": []
          },
          "execution_count": 13
        }
      ]
    },
    {
      "cell_type": "code",
      "metadata": {
        "id": "EjPghA7HBE4Z",
        "colab_type": "code",
        "colab": {
          "base_uri": "https://localhost:8080/",
          "height": 34
        },
        "outputId": "3d7699da-2554-4095-8b5b-a5ed8a285370"
      },
      "source": [
        "# these accuracies seem super high!\n",
        "# but lets check the score of a dumb classifier that always classifies as not-5\n",
        "from sklearn.base import BaseEstimator\n",
        "\n",
        "# define dumb classifier\n",
        "class Never5Classifier(BaseEstimator):\n",
        "    def fit(self, X, y=None):\n",
        "        return self\n",
        "    def predict(self, X):\n",
        "        return np.zeros((len(X), 1), dtype=bool)\n",
        "    \n",
        "# test its accuracy\n",
        "cross_val_score(Never5Classifier(), X_train, y_train_5, cv=3, scoring='accuracy')"
      ],
      "execution_count": null,
      "outputs": [
        {
          "output_type": "execute_result",
          "data": {
            "text/plain": [
              "array([0.91125, 0.90855, 0.90915])"
            ]
          },
          "metadata": {
            "tags": []
          },
          "execution_count": 14
        }
      ]
    },
    {
      "cell_type": "code",
      "metadata": {
        "id": "3KlhZwlKBE4e",
        "colab_type": "code",
        "colab": {}
      },
      "source": [
        "# Still a high accuracy! This is because only ~10% of data is 5's --> skewed dataset\n",
        "# this is why accuracy usually isn't the best performance measure for classification"
      ],
      "execution_count": null,
      "outputs": []
    },
    {
      "cell_type": "markdown",
      "metadata": {
        "id": "DV1HOZT_BE4h",
        "colab_type": "text"
      },
      "source": [
        "## Confusion Matrix"
      ]
    },
    {
      "cell_type": "code",
      "metadata": {
        "id": "EcOyjUbiBE4h",
        "colab_type": "code",
        "colab": {}
      },
      "source": [
        "from sklearn.model_selection import cross_val_predict\n",
        "\n",
        "# similar to cross_val_score but returns predictions of each fold based on training from all other folds\n",
        "#.  this is considered 'clean' bc predicts on items that were never used for training\n",
        "y_train_pred = cross_val_predict(sgd_clf, X_train, y_train_5, cv=3)   # shape = (60000,)"
      ],
      "execution_count": null,
      "outputs": []
    },
    {
      "cell_type": "code",
      "metadata": {
        "id": "dTFNYyR2BE4j",
        "colab_type": "code",
        "colab": {
          "base_uri": "https://localhost:8080/",
          "height": 51
        },
        "outputId": "b0b9410d-6386-48c0-f578-2fa699a20bda"
      },
      "source": [
        "from sklearn.metrics import confusion_matrix\n",
        "\n",
        "# make confusion matrix from correct values and CV predictions\n",
        "confusion_matrix(y_train_5, y_train_pred)\n",
        "\n",
        "# Output:\n",
        "# row = actual class, col = predicted class\n",
        "# [[non-5's predicted non-5,    non-5's predicted 5],\n",
        "#  [5's predicted non-5,        5's predicted 5]]"
      ],
      "execution_count": null,
      "outputs": [
        {
          "output_type": "execute_result",
          "data": {
            "text/plain": [
              "array([[53892,   687],\n",
              "       [ 1891,  3530]])"
            ]
          },
          "metadata": {
            "tags": []
          },
          "execution_count": 17
        }
      ]
    },
    {
      "cell_type": "code",
      "metadata": {
        "id": "zQ76oLumBE4m",
        "colab_type": "code",
        "colab": {
          "base_uri": "https://localhost:8080/",
          "height": 51
        },
        "outputId": "868a1725-617c-485e-fcab-80aa74aa6980"
      },
      "source": [
        "# perfect model would have a diagonal matrix\n",
        "y_train_perfect_pred = y_train_5\n",
        "confusion_matrix(y_train_5, y_train_perfect_pred)"
      ],
      "execution_count": null,
      "outputs": [
        {
          "output_type": "execute_result",
          "data": {
            "text/plain": [
              "array([[54579,     0],\n",
              "       [    0,  5421]])"
            ]
          },
          "metadata": {
            "tags": []
          },
          "execution_count": 18
        }
      ]
    },
    {
      "cell_type": "markdown",
      "metadata": {
        "id": "QXUyOGWhBE4q",
        "colab_type": "text"
      },
      "source": [
        "## Precision and Recall"
      ]
    },
    {
      "cell_type": "code",
      "metadata": {
        "id": "xeQ0H0FrBE4q",
        "colab_type": "code",
        "colab": {
          "base_uri": "https://localhost:8080/",
          "height": 51
        },
        "outputId": "4bb6de42-ea29-4260-9646-09c57ab706b1"
      },
      "source": [
        "from sklearn.metrics import recall_score, precision_score\n",
        "print(precision_score(y_train_5, y_train_pred))     # percentage of how many classified 5's are actually 5's\n",
        "print(recall_score(y_train_5, y_train_pred))        # percentage of how many actual 5's are classified as 5's"
      ],
      "execution_count": null,
      "outputs": [
        {
          "output_type": "stream",
          "text": [
            "0.8370879772350012\n",
            "0.6511713705958311\n"
          ],
          "name": "stdout"
        }
      ]
    },
    {
      "cell_type": "code",
      "metadata": {
        "id": "PYEzqfdBBE4u",
        "colab_type": "code",
        "colab": {
          "base_uri": "https://localhost:8080/",
          "height": 34
        },
        "outputId": "ff5acfec-b05c-44aa-edc0-c82e635ed68a"
      },
      "source": [
        "# F_1 score combines the two together\n",
        "from sklearn.metrics import f1_score\n",
        "print(f1_score(y_train_5, y_train_pred))"
      ],
      "execution_count": null,
      "outputs": [
        {
          "output_type": "stream",
          "text": [
            "0.7325171197343846\n"
          ],
          "name": "stdout"
        }
      ]
    },
    {
      "cell_type": "markdown",
      "metadata": {
        "id": "QjpcSb8qBE4x",
        "colab_type": "text"
      },
      "source": [
        "## Precision / Recall Trade-Off"
      ]
    },
    {
      "cell_type": "code",
      "metadata": {
        "id": "xqrpHAZ6BE4x",
        "colab_type": "code",
        "colab": {
          "base_uri": "https://localhost:8080/",
          "height": 68
        },
        "outputId": "e64812b8-51e8-4727-a8b9-e66dc8feee5a"
      },
      "source": [
        "# low threshold  --> high recall, low precision\n",
        "# high threshold --> low recall, high precision\n",
        "\n",
        "# sklearn does not let you control threshold, but you can manually get score and use your own threshold\n",
        "# SGDClassifier uses threshold of 0\n",
        "y_scores = sgd_clf.decision_function([some_digit])\n",
        "print(y_scores)\n",
        "threshold1 = 0\n",
        "threshold2 = 2400\n",
        "print('Regular:', (y_scores > threshold1))\n",
        "print('Manual: ', (y_scores > threshold2))"
      ],
      "execution_count": null,
      "outputs": [
        {
          "output_type": "stream",
          "text": [
            "[2164.22030239]\n",
            "Regular: [ True]\n",
            "Manual:  [False]\n"
          ],
          "name": "stdout"
        }
      ]
    },
    {
      "cell_type": "code",
      "metadata": {
        "id": "GJDSFBZtBE40",
        "colab_type": "code",
        "colab": {
          "base_uri": "https://localhost:8080/",
          "height": 268
        },
        "outputId": "9ba1e1d4-8315-4db0-d7b0-15cf95f7f101"
      },
      "source": [
        "# how to find good threshold:\n",
        "# sets method='decision_function' so it returns decision scores instead of predictions\n",
        "y_scores = cross_val_predict(sgd_clf, X_train, y_train_5, cv=3,\n",
        "                             method='decision_function')\n",
        "\n",
        "# compute precision and recall for all thresholds\n",
        "from sklearn.metrics import precision_recall_curve\n",
        "precisions, recalls, thresholds = precision_recall_curve(y_train_5, y_scores)\n",
        "\n",
        "# plot to analyze\n",
        "def plot_precision_recall_vs_threshold(precisions, recalls, thresholds):\n",
        "    plt.plot(thresholds, precisions[:-1], 'b--', label='Precision')\n",
        "    plt.plot(thresholds, recalls[:-1], 'g-', label='Recall')\n",
        "    plt.legend()\n",
        "    \n",
        "plot_precision_recall_vs_threshold(precisions, recalls, thresholds)\n",
        "plt.show()"
      ],
      "execution_count": null,
      "outputs": [
        {
          "output_type": "display_data",
          "data": {
            "image/png": "[encoded data removed]",
            "text/plain": [
              "<Figure size 432x288 with 1 Axes>"
            ]
          },
          "metadata": {
            "tags": [],
            "needs_background": "light"
          }
        }
      ]
    },
    {
      "cell_type": "code",
      "metadata": {
        "id": "iEhL_rbLBE42",
        "colab_type": "code",
        "colab": {
          "base_uri": "https://localhost:8080/",
          "height": 268
        },
        "outputId": "b4516093-44ec-4534-f6e0-b0fcbe6ee7cb"
      },
      "source": [
        "# could also plot precision vs recall\n",
        "plt.plot(recalls, precisions)\n",
        "plt.show()\n",
        "\n",
        "# in this case it would probably make sense to pick a recall before precision drops steeply, say, .6 or so"
      ],
      "execution_count": null,
      "outputs": [
        {
          "output_type": "display_data",
          "data": {
            "image/png": "[encoded data removed]",
            "text/plain": [
              "<Figure size 432x288 with 1 Axes>"
            ]
          },
          "metadata": {
            "tags": [],
            "needs_background": "light"
          }
        }
      ]
    },
    {
      "cell_type": "code",
      "metadata": {
        "id": "Cx4W6ggGBE45",
        "colab_type": "code",
        "colab": {
          "base_uri": "https://localhost:8080/",
          "height": 51
        },
        "outputId": "9603c502-eeed-41d9-901f-a9aa37557f26"
      },
      "source": [
        "# could also search for lowest threshold that gives you at least 90% precision\n",
        "threshold_90_precision = thresholds[np.argmax(precisions >= 0.90)]\n",
        "\n",
        "# to use it\n",
        "y_train_pred_90 = (y_scores >= threshold_90_precision)\n",
        "\n",
        "# lets check its stats\n",
        "print('Precision:', precision_score(y_train_5, y_train_pred_90))   # will be just over 0.90\n",
        "print('Recall:   ', recall_score(y_train_5, y_train_pred_90))      # will be worse bc trade-off"
      ],
      "execution_count": null,
      "outputs": [
        {
          "output_type": "stream",
          "text": [
            "Precision: 0.9000345901072293\n",
            "Recall:    0.4799852425751706\n"
          ],
          "name": "stdout"
        }
      ]
    },
    {
      "cell_type": "markdown",
      "metadata": {
        "id": "RepvcfZmBE47",
        "colab_type": "text"
      },
      "source": [
        "## The ROC Curve"
      ]
    },
    {
      "cell_type": "code",
      "metadata": {
        "id": "tYI0VlNgBE47",
        "colab_type": "code",
        "colab": {
          "base_uri": "https://localhost:8080/",
          "height": 268
        },
        "outputId": "034ca1e6-064f-4947-96e9-4a717eb874c9"
      },
      "source": [
        "from sklearn.metrics import roc_curve\n",
        "\n",
        "fpr, tpr, thresholds = roc_curve(y_train_5, y_scores)\n",
        "\n",
        "def plot_roc_curve(fpr, tpr, label=None):\n",
        "    plt.plot(fpr, tpr, linewidth=2, label=label)\n",
        "    plt.plot([0, 1], [0, 1], 'k--')\n",
        "    \n",
        "plot_roc_curve(fpr, tpr)\n",
        "plt.show()\n",
        "# notice there is still a tradeoff between FPR and TPR\n",
        "# dotted diagonal = random classifier\n",
        "# a good classifier stays as far from the line as possible"
      ],
      "execution_count": null,
      "outputs": [
        {
          "output_type": "display_data",
          "data": {
            "image/png": "[encoded data removed]",
            "text/plain": [
              "<Figure size 432x288 with 1 Axes>"
            ]
          },
          "metadata": {
            "tags": [],
            "needs_background": "light"
          }
        }
      ]
    },
    {
      "cell_type": "code",
      "metadata": {
        "id": "ZnpxxHMyBE4-",
        "colab_type": "code",
        "colab": {
          "base_uri": "https://localhost:8080/",
          "height": 34
        },
        "outputId": "e32420e9-c151-4344-d837-88708471f5ec"
      },
      "source": [
        "# can measure by its Area Under the Curve (AUC)\n",
        "from sklearn.metrics import roc_auc_score\n",
        "roc_auc_score(y_train_5, y_scores)\n",
        "\n",
        "# notice that this score is really good. Use PR Curve when dealing with smaller positive class (5's)\n",
        "#.  or when you care more about false positives than false negatives"
      ],
      "execution_count": null,
      "outputs": [
        {
          "output_type": "execute_result",
          "data": {
            "text/plain": [
              "0.9604938554008616"
            ]
          },
          "metadata": {
            "tags": []
          },
          "execution_count": 26
        }
      ]
    },
    {
      "cell_type": "code",
      "metadata": {
        "id": "2GVgGjDfBE5A",
        "colab_type": "code",
        "colab": {
          "base_uri": "https://localhost:8080/",
          "height": 268
        },
        "outputId": "83d94f94-5e78-465e-ea71-32084cffbf35"
      },
      "source": [
        "# Now lets make a RandomForest and compare its ROC curve\n",
        "\n",
        "from sklearn.ensemble import RandomForestClassifier\n",
        "\n",
        "forest_clf = RandomForestClassifier(random_state=42)\n",
        "\n",
        "# doesn't have decision_function, instead has predict_proba\n",
        "y_proba_forest = cross_val_predict(forest_clf, X_train, y_train_5, cv=3,\n",
        "                                   method='predict_proba')\n",
        "\n",
        "# lets use positive class's probabilities\n",
        "y_scores_forest = y_proba_forest[:, 1]\n",
        "fpr_forest, tpr_forest, thresholds_forest = roc_curve(y_train_5, y_scores_forest)\n",
        "\n",
        "plt.plot(fpr, tpr, 'b:', label='SGD')\n",
        "plt.plot(fpr_forest, tpr_forest, label='Random Forest')\n",
        "plt.legend(loc='lower right')\n",
        "plt.show()"
      ],
      "execution_count": null,
      "outputs": [
        {
          "output_type": "display_data",
          "data": {
            "image/png": "[encoded data removed]",
            "text/plain": [
              "<Figure size 432x288 with 1 Axes>"
            ]
          },
          "metadata": {
            "tags": [],
            "needs_background": "light"
          }
        }
      ]
    },
    {
      "cell_type": "code",
      "metadata": {
        "id": "XqqYoyWJBE5C",
        "colab_type": "code",
        "colab": {
          "base_uri": "https://localhost:8080/",
          "height": 34
        },
        "outputId": "4214a89b-2813-4a15-fe78-d44b5a1b6da9"
      },
      "source": [
        "# better curve means it performs better. means score will also be higher\n",
        "roc_auc_score(y_train_5, y_scores_forest)\n",
        "\n",
        "# looking at precision and recall also yield good results!"
      ],
      "execution_count": null,
      "outputs": [
        {
          "output_type": "execute_result",
          "data": {
            "text/plain": [
              "0.9983436731328145"
            ]
          },
          "metadata": {
            "tags": []
          },
          "execution_count": 27
        }
      ]
    },
    {
      "cell_type": "markdown",
      "metadata": {
        "id": "nof1UpEcBE5F",
        "colab_type": "text"
      },
      "source": [
        "# Multi-Class Classification"
      ]
    },
    {
      "cell_type": "code",
      "metadata": {
        "id": "E78TeW7SBE5F",
        "colab_type": "code",
        "colab": {
          "base_uri": "https://localhost:8080/",
          "height": 34
        },
        "outputId": "82be70ae-dd94-451a-e51a-8766e70081fd"
      },
      "source": [
        "# sklearn automatically makes SVC multi-class via One vs One construction\n",
        "# 10 labels --> 45 binary SVC's\n",
        "from sklearn.svm import SVC\n",
        "svm_clf = SVC()\n",
        "svm_clf.fit(X_train, y_train)   # y_train NOT y_train_5\n",
        "svm_clf.predict([some_digit])"
      ],
      "execution_count": null,
      "outputs": [
        {
          "output_type": "execute_result",
          "data": {
            "text/plain": [
              "array([5], dtype=uint8)"
            ]
          },
          "metadata": {
            "tags": []
          },
          "execution_count": 28
        }
      ]
    },
    {
      "cell_type": "code",
      "metadata": {
        "id": "QAF9g0yTBE5H",
        "colab_type": "code",
        "colab": {
          "base_uri": "https://localhost:8080/",
          "height": 68
        },
        "outputId": "1c32f57d-04fe-42aa-d37d-4c168ac4b992"
      },
      "source": [
        "# this will now return scores for each class\n",
        "some_digit_scores = svm_clf.decision_function([some_digit])\n",
        "\n",
        "# you'll see that the 5-indexed score is highest --> that is why it predicted 5 above\n",
        "print(some_digit_scores)\n",
        "\n",
        "# list of target classes are stored in classes_ attr, ordered by value\n",
        "print(svm_clf.classes_)"
      ],
      "execution_count": null,
      "outputs": [
        {
          "output_type": "stream",
          "text": [
            "[[ 1.72501977  2.72809088  7.2510018   8.3076379  -0.31087254  9.3132482\n",
            "   1.70975103  2.76765202  6.23049537  4.84771048]]\n",
            "[0 1 2 3 4 5 6 7 8 9]\n"
          ],
          "name": "stdout"
        }
      ]
    },
    {
      "cell_type": "code",
      "metadata": {
        "id": "iYi9ecz0BE5J",
        "colab_type": "code",
        "colab": {}
      },
      "source": [
        "# can also force sklearn to use a particular binary-to-multiclass strategy\n",
        "#     COMMENTED OUT BC VERY SLOW\n",
        "# from sklearn.multiclass import OneVsRestClassifier # also ahs OneVsOneClassifier\n",
        "# ovr_clf = OneVsRestClassifier(SVC())\n",
        "# ovr_clf.fit(X_train, y_train)\n",
        "\n",
        "# ovr_clf.predict([some_digit])"
      ],
      "execution_count": null,
      "outputs": []
    },
    {
      "cell_type": "code",
      "metadata": {
        "id": "XeyTf5rQBE5L",
        "colab_type": "code",
        "colab": {
          "base_uri": "https://localhost:8080/",
          "height": 34
        },
        "outputId": "2550ef08-e0a8-47c7-e67e-e02978bdef65"
      },
      "source": [
        "# training a multi-class SGDClassifier (or RandomForest) is just as easy!\n",
        "# AND it won't do OvO or OvA bc SGD can handle multi-class as-is\n",
        "sgd_clf.fit(X_train, y_train)    # not y_train_5\n",
        "sgd_clf.predict([some_digit])"
      ],
      "execution_count": null,
      "outputs": [
        {
          "output_type": "execute_result",
          "data": {
            "text/plain": [
              "array([3], dtype=uint8)"
            ]
          },
          "metadata": {
            "tags": []
          },
          "execution_count": 28
        }
      ]
    },
    {
      "cell_type": "code",
      "metadata": {
        "id": "aV96TRzcBE5M",
        "colab_type": "code",
        "colab": {
          "base_uri": "https://localhost:8080/",
          "height": 85
        },
        "outputId": "19d6f095-6822-4caf-b36d-cd657f34c4f3"
      },
      "source": [
        "# lets look at the scores --> strong guess of 5, little suspicious of 3\n",
        "sgd_clf.decision_function([some_digit])"
      ],
      "execution_count": null,
      "outputs": [
        {
          "output_type": "execute_result",
          "data": {
            "text/plain": [
              "array([[-31893.03095419, -34419.69069632,  -9530.63950739,\n",
              "          1823.73154031, -22320.14822878,  -1385.80478895,\n",
              "        -26188.91070951, -16147.51323997,  -4604.35491274,\n",
              "        -12050.767298  ]])"
            ]
          },
          "metadata": {
            "tags": []
          },
          "execution_count": 29
        }
      ]
    },
    {
      "cell_type": "code",
      "metadata": {
        "id": "HDlKHZDddVZs",
        "colab_type": "code",
        "colab": {
          "base_uri": "https://localhost:8080/",
          "height": 34
        },
        "outputId": "799be3c7-233f-44c4-bead-36a883e40235"
      },
      "source": [
        "# now lets evaluate this classifier\n",
        "cross_val_score(sgd_clf, X_train, y_train, cv=3, scoring='accuracy')\n",
        "\n",
        "# get's pretty good scores!"
      ],
      "execution_count": null,
      "outputs": [
        {
          "output_type": "execute_result",
          "data": {
            "text/plain": [
              "array([0.87365, 0.85835, 0.8689 ])"
            ]
          },
          "metadata": {
            "tags": []
          },
          "execution_count": 30
        }
      ]
    },
    {
      "cell_type": "code",
      "metadata": {
        "id": "aIea_np0BE5O",
        "colab_type": "code",
        "colab": {
          "base_uri": "https://localhost:8080/",
          "height": 34
        },
        "outputId": "2d82919c-5b9c-4f56-a058-b4c97ad268e9"
      },
      "source": [
        "# can improve the scores a little bit more by standardization\n",
        "from sklearn.preprocessing import StandardScaler\n",
        "scaler = StandardScaler()\n",
        "X_train_scaled = scaler.fit_transform(X_train.astype(np.float64))\n",
        "print(cross_val_score(sgd_clf, X_train_scaled, y_train, cv=3, scoring='accuracy'))"
      ],
      "execution_count": null,
      "outputs": [
        {
          "output_type": "stream",
          "text": [
            "[0.8983 0.891  0.9018]\n"
          ],
          "name": "stdout"
        }
      ]
    },
    {
      "cell_type": "markdown",
      "metadata": {
        "id": "RWngvOZzBE5Q",
        "colab_type": "text"
      },
      "source": [
        "# Error Analysis"
      ]
    },
    {
      "cell_type": "code",
      "metadata": {
        "id": "O_dQgROpBE5R",
        "colab_type": "code",
        "colab": {
          "base_uri": "https://localhost:8080/",
          "height": 187
        },
        "outputId": "fad31834-f901-4588-af1f-39b2e75a4ad5"
      },
      "source": [
        "# lets look at the confusion matrix\n",
        "y_train_pred = cross_val_predict(sgd_clf, X_train_scaled, y_train, cv=3)\n",
        "conf_mx = confusion_matrix(y_train, y_train_pred)\n",
        "conf_mx"
      ],
      "execution_count": null,
      "outputs": [
        {
          "output_type": "execute_result",
          "data": {
            "text/plain": [
              "array([[5577,    0,   22,    5,    8,   43,   36,    6,  225,    1],\n",
              "       [   0, 6400,   37,   24,    4,   44,    4,    7,  212,   10],\n",
              "       [  27,   27, 5220,   92,   73,   27,   67,   36,  378,   11],\n",
              "       [  22,   17,  117, 5227,    2,  203,   27,   40,  403,   73],\n",
              "       [  12,   14,   41,    9, 5182,   12,   34,   27,  347,  164],\n",
              "       [  27,   15,   30,  168,   53, 4444,   75,   14,  535,   60],\n",
              "       [  30,   15,   42,    3,   44,   97, 5552,    3,  131,    1],\n",
              "       [  21,   10,   51,   30,   49,   12,    3, 5684,  195,  210],\n",
              "       [  17,   63,   48,   86,    3,  126,   25,   10, 5429,   44],\n",
              "       [  25,   18,   30,   64,  118,   36,    1,  179,  371, 5107]])"
            ]
          },
          "metadata": {
            "tags": []
          },
          "execution_count": 32
        }
      ]
    },
    {
      "cell_type": "code",
      "metadata": {
        "id": "mPuPFr-ySzHy",
        "colab_type": "code",
        "colab": {
          "base_uri": "https://localhost:8080/",
          "height": 278
        },
        "outputId": "cded3abe-347e-432e-aad4-3ea82459792e"
      },
      "source": [
        "# also useful to visualize it\n",
        "plt.matshow(conf_mx, cmap=plt.cm.gray)\n",
        "plt.show()"
      ],
      "execution_count": null,
      "outputs": [
        {
          "output_type": "display_data",
          "data": {
            "image/png": "[encoded data removed]",
            "text/plain": [
              "<Figure size 288x288 with 1 Axes>"
            ]
          },
          "metadata": {
            "tags": [],
            "needs_background": "light"
          }
        }
      ]
    },
    {
      "cell_type": "code",
      "metadata": {
        "id": "wdzU58DvS-s5",
        "colab_type": "code",
        "colab": {
          "base_uri": "https://localhost:8080/",
          "height": 278
        },
        "outputId": "c9bd26f4-1db5-4706-81ed-15ccf10b05f0"
      },
      "source": [
        "# lets look at error rates instead of absolute number of errors\n",
        "#   this makes size of each class less relevant\n",
        "row_sums = conf_mx.sum(axis=1, keepdims=True)   # gets total count for each row\n",
        "norm_conf_mx = conf_mx / row_sums\n",
        "\n",
        "# fill diagonal with 0 to keep only the errors, and plot\n",
        "np.fill_diagonal(norm_conf_mx, 0)\n",
        "plt.matshow(norm_conf_mx, cmap=plt.cm.gray)\n",
        "plt.show()\n",
        "\n",
        "# results from below image: \n",
        "#   - many numbers get misclassified as 8's\n",
        "#   - 8's tend to get classified properly\n",
        "#   - not symmetrical\n",
        "#   - 3's and 5's get confused both ways"
      ],
      "execution_count": null,
      "outputs": [
        {
          "output_type": "display_data",
          "data": {
            "image/png": "[encoded data removed]",
            "text/plain": [
              "<Figure size 288x288 with 1 Axes>"
            ]
          },
          "metadata": {
            "tags": [],
            "needs_background": "light"
          }
        }
      ]
    },
    {
      "cell_type": "code",
      "metadata": {
        "id": "SOx2inDMU1Je",
        "colab_type": "code",
        "colab": {}
      },
      "source": [
        "# can also look at individual errors\n",
        "cl_a, cl_b = 3, 5\n",
        "X_aa = X_train[(y_train == cl_a) & (y_train_pred == cl_a)]  # was 3, predicted 3\n",
        "X_ab = X_train[(y_train == cl_a) & (y_train_pred == cl_b)]  # was 3, predicted 5\n",
        "X_ba = X_train[(y_train == cl_b) & (y_train_pred == cl_a)]  # was 5, predicted 3\n",
        "X_bb = X_train[(y_train == cl_b) & (y_train_pred == cl_b)]  # was 5, predicted 5\n",
        "\n",
        "# upon visualizing these you'll see most errors were NOT unavoidable\n",
        "#   3/5 challenge could probably be minimized by preprocessing data and centering images"
      ],
      "execution_count": null,
      "outputs": []
    },
    {
      "cell_type": "markdown",
      "metadata": {
        "id": "W2TEHuf_V4dh",
        "colab_type": "text"
      },
      "source": [
        "# Multilabel Classification"
      ]
    },
    {
      "cell_type": "code",
      "metadata": {
        "id": "AuXvu8VWV8sq",
        "colab_type": "code",
        "colab": {
          "base_uri": "https://localhost:8080/",
          "height": 68
        },
        "outputId": "2109c426-4d4b-4457-e59d-5d810f6c6c68"
      },
      "source": [
        "# outputs binary tag for each output label\n",
        "\n",
        "# lets make one with K-Nearest Neighbors\n",
        "from sklearn.neighbors import KNeighborsClassifier\n",
        "\n",
        "y_train_large = (y_train >= 7)\n",
        "y_train_odd = (y_train % 2 == 1)\n",
        "y_multilabel = np.c_[y_train_large, y_train_odd]    # shape (60000, 2)\n",
        "\n",
        "knn_clf = KNeighborsClassifier()\n",
        "knn_clf.fit(X_train, y_multilabel)"
      ],
      "execution_count": null,
      "outputs": [
        {
          "output_type": "execute_result",
          "data": {
            "text/plain": [
              "KNeighborsClassifier(algorithm='auto', leaf_size=30, metric='minkowski',\n",
              "                     metric_params=None, n_jobs=None, n_neighbors=5, p=2,\n",
              "                     weights='uniform')"
            ]
          },
          "metadata": {
            "tags": []
          },
          "execution_count": 36
        }
      ]
    },
    {
      "cell_type": "code",
      "metadata": {
        "id": "RG_4Fu5CW4DR",
        "colab_type": "code",
        "colab": {
          "base_uri": "https://localhost:8080/",
          "height": 34
        },
        "outputId": "78c539c9-c9a0-4b91-8329-b718a428ea15"
      },
      "source": [
        "# try it\n",
        "knn_clf.predict([some_digit])   # will output 2 labels (5 >= 7?, 5 odd?)\n",
        "\n",
        "# gets it right!"
      ],
      "execution_count": null,
      "outputs": [
        {
          "output_type": "execute_result",
          "data": {
            "text/plain": [
              "array([[False,  True]])"
            ]
          },
          "metadata": {
            "tags": []
          },
          "execution_count": 38
        }
      ]
    },
    {
      "cell_type": "code",
      "metadata": {
        "id": "XaZKoLP-XVf3",
        "colab_type": "code",
        "colab": {}
      },
      "source": [
        "# can measure performance by averaging score over all output labels\n",
        "#   in this case, we'll do F1 score\n",
        "y_train_knn_pred = cross_val_predict(knn_clf, X_train, y_multilabel, cv=3)\n",
        "f1_score(y_multilabel, y_train_knn_pred, average='macro')\n",
        "\n",
        "# the above case weighs each class's f1 equally. could instead do a weighted\n",
        "#   average by using average='weighted'"
      ],
      "execution_count": null,
      "outputs": []
    },
    {
      "cell_type": "markdown",
      "metadata": {
        "id": "3haGa14vYkmd",
        "colab_type": "text"
      },
      "source": [
        "# Multioutput Classification"
      ]
    },
    {
      "cell_type": "code",
      "metadata": {
        "id": "rPKabAdKYno8",
        "colab_type": "code",
        "colab": {}
      },
      "source": [
        "# outputs one or more non-binary\n",
        "# this example will clean noise from noisy image by 'classifying' it as an image"
      ],
      "execution_count": null,
      "outputs": []
    },
    {
      "cell_type": "code",
      "metadata": {
        "id": "ou1SqYu7ZcKk",
        "colab_type": "code",
        "colab": {}
      },
      "source": [
        "# first make input images noisy\n",
        "noise = np.random.randint(0, 100, (len(X_train), 784))\n",
        "X_train_mod = X_train + noise\n",
        "noise = np.random.randint(0, 100, (len(X_test), 784))\n",
        "X_test_mod = X_test + noise\n",
        "\n",
        "# then set y data as original images (bc they're not noisy)\n",
        "y_train_mod = X_train\n",
        "y_test_mod = X_test"
      ],
      "execution_count": null,
      "outputs": []
    },
    {
      "cell_type": "code",
      "metadata": {
        "id": "qtKMvJTgZ_we",
        "colab_type": "code",
        "colab": {
          "base_uri": "https://localhost:8080/",
          "height": 183
        },
        "outputId": "254a743f-adaf-4a79-a251-b6f54728c6eb"
      },
      "source": [
        "# lets take a quick look at test data to see what we did\n",
        "some_index = 0\n",
        "\n",
        "noisy_digit = X_test_mod[some_index]\n",
        "noisy_digit_image = noisy_digit.reshape(28, 28)\n",
        "quiet_digit = y_test_mod[some_index]\n",
        "quiet_digit_image = quiet_digit.reshape(28, 28)\n",
        "\n",
        "plt.subplot(121); plt.imshow(noisy_digit_image, cmap='binary'); plt.axis('off')\n",
        "plt.subplot(122); plt.imshow(quiet_digit_image, cmap='binary'); plt.axis('off')\n",
        "plt.show()"
      ],
      "execution_count": null,
      "outputs": [
        {
          "output_type": "display_data",
          "data": {
            "image/png": "[encoded data removed]",
            "text/plain": [
              "<Figure size 432x288 with 2 Axes>"
            ]
          },
          "metadata": {
            "tags": [],
            "needs_background": "light"
          }
        }
      ]
    },
    {
      "cell_type": "code",
      "metadata": {
        "id": "wiP6baqKa4rr",
        "colab_type": "code",
        "colab": {
          "base_uri": "https://localhost:8080/",
          "height": 248
        },
        "outputId": "3cd49f0c-e1d6-428a-a39c-f3206488a507"
      },
      "source": [
        "# train model\n",
        "from sklearn.neighbors import KNeighborsClassifier\n",
        "knn_clf = KNeighborsClassifier()\n",
        "knn_clf.fit(X_train_mod, y_train_mod)\n",
        "\n",
        "# make cleaning prediction\n",
        "clean_digit = knn_clf.predict([X_test_mod[some_index]])\n",
        "\n",
        "# visualize it\n",
        "clean_digit_image = clean_digit.reshape(28, 28)\n",
        "plt.imshow(clean_digit_image, cmap='binary')\n",
        "plt.axis('off')\n",
        "plt.show()\n",
        "\n",
        "# result: pretty good! not exactly like above but very close and much less noisy\n",
        "#   than the original noisy version"
      ],
      "execution_count": null,
      "outputs": [
        {
          "output_type": "display_data",
          "data": {
            "image/png": "[encoded data removed]",
            "text/plain": [
              "<Figure size 432x288 with 1 Axes>"
            ]
          },
          "metadata": {
            "tags": [],
            "needs_background": "light"
          }
        }
      ]
    },
    {
      "cell_type": "markdown",
      "metadata": {
        "id": "OEdzH39OboNe",
        "colab_type": "text"
      },
      "source": [
        "# Exercises"
      ]
    },
    {
      "cell_type": "markdown",
      "metadata": {
        "id": "FWtmdwF1cEIb",
        "colab_type": "text"
      },
      "source": [
        "## 1.) Make classifier with over 97% accuracy\n"
      ]
    },
    {
      "cell_type": "code",
      "metadata": {
        "id": "h4uRnrNOcN7H",
        "colab_type": "code",
        "colab": {
          "base_uri": "https://localhost:8080/",
          "height": 544
        },
        "outputId": "51813991-5a7e-4e14-dc21-7466af67efac"
      },
      "source": [
        "# search for best hyperparams of KNN\n",
        "from sklearn.neighbors import KNeighborsClassifier\n",
        "from sklearn.model_selection import GridSearchCV\n",
        "\n",
        "# try 4 combinations\n",
        "param_grid = [\n",
        "    {'n_neighbors': [2, 4], 'weights': ['uniform', 'distance']},\n",
        "]\n",
        "\n",
        "grid_search = GridSearchCV(KNeighborsClassifier(), param_grid, cv=3, verbose=3)\n",
        "\n",
        "grid_search.fit(X_train, y_train)\n",
        "\n",
        "print(grid_search.best_params_)\n",
        "print(grid_search.best_score_)"
      ],
      "execution_count": null,
      "outputs": [
        {
          "output_type": "stream",
          "text": [
            "Fitting 3 folds for each of 4 candidates, totalling 12 fits\n",
            "[CV] n_neighbors=2, weights=uniform ..................................\n"
          ],
          "name": "stdout"
        },
        {
          "output_type": "stream",
          "text": [
            "[Parallel(n_jobs=1)]: Using backend SequentialBackend with 1 concurrent workers.\n"
          ],
          "name": "stderr"
        },
        {
          "output_type": "stream",
          "text": [
            "[CV] ...... n_neighbors=2, weights=uniform, score=0.960, total=24.5min\n",
            "[CV] n_neighbors=2, weights=uniform ..................................\n"
          ],
          "name": "stdout"
        },
        {
          "output_type": "stream",
          "text": [
            "[Parallel(n_jobs=1)]: Done   1 out of   1 | elapsed: 24.5min remaining:    0.0s\n"
          ],
          "name": "stderr"
        },
        {
          "output_type": "stream",
          "text": [
            "[CV] ...... n_neighbors=2, weights=uniform, score=0.960, total=24.2min\n",
            "[CV] n_neighbors=2, weights=uniform ..................................\n"
          ],
          "name": "stdout"
        },
        {
          "output_type": "stream",
          "text": [
            "[Parallel(n_jobs=1)]: Done   2 out of   2 | elapsed: 48.7min remaining:    0.0s\n"
          ],
          "name": "stderr"
        },
        {
          "output_type": "stream",
          "text": [
            "[CV] ...... n_neighbors=2, weights=uniform, score=0.962, total=24.3min\n",
            "[CV] n_neighbors=2, weights=distance .................................\n",
            "[CV] ..... n_neighbors=2, weights=distance, score=0.969, total=24.2min\n",
            "[CV] n_neighbors=2, weights=distance .................................\n",
            "[CV] ..... n_neighbors=2, weights=distance, score=0.967, total=24.2min\n",
            "[CV] n_neighbors=2, weights=distance .................................\n",
            "[CV] ..... n_neighbors=2, weights=distance, score=0.967, total=24.1min\n",
            "[CV] n_neighbors=4, weights=uniform ..................................\n",
            "[CV] ...... n_neighbors=4, weights=uniform, score=0.966, total=24.2min\n",
            "[CV] n_neighbors=4, weights=uniform ..................................\n",
            "[CV] ...... n_neighbors=4, weights=uniform, score=0.966, total=24.3min\n",
            "[CV] n_neighbors=4, weights=uniform ..................................\n",
            "[CV] ...... n_neighbors=4, weights=uniform, score=0.967, total=24.2min\n",
            "[CV] n_neighbors=4, weights=distance .................................\n",
            "[CV] ..... n_neighbors=4, weights=distance, score=0.971, total=24.1min\n",
            "[CV] n_neighbors=4, weights=distance .................................\n",
            "[CV] ..... n_neighbors=4, weights=distance, score=0.970, total=24.1min\n",
            "[CV] n_neighbors=4, weights=distance .................................\n",
            "[CV] ..... n_neighbors=4, weights=distance, score=0.970, total=24.1min\n"
          ],
          "name": "stdout"
        },
        {
          "output_type": "stream",
          "text": [
            "[Parallel(n_jobs=1)]: Done  12 out of  12 | elapsed: 290.5min finished\n"
          ],
          "name": "stderr"
        },
        {
          "output_type": "stream",
          "text": [
            "{'n_neighbors': 4, 'weights': 'distance'}\n",
            "0.9703500000000002\n"
          ],
          "name": "stdout"
        }
      ]
    },
    {
      "cell_type": "code",
      "metadata": {
        "id": "VIXciepwpB-j",
        "colab_type": "code",
        "colab": {
          "base_uri": "https://localhost:8080/",
          "height": 34
        },
        "outputId": "0f56ae2f-83ca-43b3-ec02-06caddcf6b66"
      },
      "source": [
        "# test its accuracy\n",
        "from sklearn.metrics import accuracy_score\n",
        "\n",
        "my_pred = grid_search.predict(X_test)\n",
        "print(accuracy_score(y_test, my_pred))      # SUCCESS!"
      ],
      "execution_count": null,
      "outputs": [
        {
          "output_type": "stream",
          "text": [
            "0.9714\n"
          ],
          "name": "stdout"
        }
      ]
    }
  ]
}