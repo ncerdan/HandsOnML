{
 "cells": [
  {
   "cell_type": "markdown",
   "metadata": {
    "id": "WASVS1VZl_mH"
   },
   "source": [
    "[![Open In Colab](https://colab.research.google.com/assets/colab-badge.svg)](https://colab.research.google.com/github/ncerdan/HandsOnML/blob/master/Ch_09_Unsupervised_Learning.ipynb)"
   ]
  },
  {
   "cell_type": "markdown",
   "metadata": {
    "id": "zIjD8sVzmKVX"
   },
   "source": [
    "# Clustering"
   ]
  },
  {
   "cell_type": "markdown",
   "metadata": {
    "id": "Bh3i5VWimM6B"
   },
   "source": [
    "## K-Means"
   ]
  },
  {
   "cell_type": "code",
   "execution_count": 1,
   "metadata": {
    "id": "-O2vHzNxpbWl"
   },
   "outputs": [],
   "source": [
    "# make out dataset\n",
    "from sklearn.datasets import make_blobs\n",
    "import numpy as np\n",
    "\n",
    "blob_centers = np.array([\n",
    "    [ 0.2,  2.3],\n",
    "    [-1.5 ,  2.3],\n",
    "    [-2.8,  1.8],\n",
    "    [-2.8,  2.8],\n",
    "    [-2.8,  1.3]                     \n",
    "])\n",
    "\n",
    "blob_std = np.array([0.4, 0.3, 0.1, 0.1, 0.1])\n",
    "\n",
    "X, y = make_blobs(n_samples=2000, centers=blob_centers, cluster_std=blob_std)"
   ]
  },
  {
   "cell_type": "code",
   "execution_count": 2,
   "metadata": {
    "colab": {
     "base_uri": "https://localhost:8080/",
     "height": 284
    },
    "id": "eweEstl2qBIq",
    "outputId": "b62c4ffa-0dfd-4f2b-d104-c5094fb52e11"
   },
   "outputs": [
    {
     "data": {
      "image/png": "[encoded data removed]",
      "text/plain": [
       "<Figure size 576x288 with 1 Axes>"
      ]
     },
     "metadata": {
      "needs_background": "light"
     },
     "output_type": "display_data"
    }
   ],
   "source": [
    "# now lets plot them\n",
    "import matplotlib.pyplot as plt\n",
    "\n",
    "def plot_clusters(X, y=None):\n",
    "    plt.scatter(X[:, 0], X[:, 1], c=y, s=1)\n",
    "    plt.xlabel(\"$x_1$\", fontsize=14)\n",
    "    plt.ylabel(\"$x_2$\", fontsize=14, rotation=0)\n",
    "\n",
    "plt.figure(figsize=(8, 4))\n",
    "plot_clusters(X)\n",
    "plt.show()"
   ]
  },
  {
   "cell_type": "code",
   "execution_count": 3,
   "metadata": {
    "id": "z4HVjRw_mVAs"
   },
   "outputs": [],
   "source": [
    "# now let's train on the clusters\n",
    "from sklearn.cluster import KMeans\n",
    "k = 5\n",
    "kmeans = KMeans(n_clusters=k)\n",
    "y_pred = kmeans.fit_predict(X)\n"
   ]
  },
  {
   "cell_type": "code",
   "execution_count": 4,
   "metadata": {
    "colab": {
     "base_uri": "https://localhost:8080/",
     "height": 51
    },
    "id": "WyMOVx_YqiPc",
    "outputId": "1ed607d7-4696-4aa9-be71-7bcd3fb1df42"
   },
   "outputs": [
    {
     "name": "stdout",
     "output_type": "stream",
     "text": [
      "[1 0 1 ... 3 3 0]\n",
      "[1 0 1 ... 3 3 0]\n"
     ]
    }
   ],
   "source": [
    "# KMeans instance saves the label of each instance it was trained on\n",
    "print(kmeans.labels_)\n",
    "print(y_pred)"
   ]
  },
  {
   "cell_type": "code",
   "execution_count": 5,
   "metadata": {
    "colab": {
     "base_uri": "https://localhost:8080/",
     "height": 102
    },
    "id": "7_24-_RMq1a6",
    "outputId": "8745ef2f-8150-46d9-d900-aa4b9c5fe96c"
   },
   "outputs": [
    {
     "data": {
      "text/plain": [
       "array([[ 0.19422877,  2.29384999],\n",
       "       [-2.79728177,  1.80416956],\n",
       "       [-1.50588959,  2.30756599],\n",
       "       [-2.79575793,  2.79259384],\n",
       "       [-2.79802679,  1.30359601]])"
      ]
     },
     "execution_count": 5,
     "metadata": {},
     "output_type": "execute_result"
    }
   ],
   "source": [
    "# it also stores the centroids\n",
    "kmeans.cluster_centers_"
   ]
  },
  {
   "cell_type": "code",
   "execution_count": 6,
   "metadata": {
    "colab": {
     "base_uri": "https://localhost:8080/",
     "height": 34
    },
    "id": "MRBmIjjtq545",
    "outputId": "12b5cd02-b580-47f5-cab3-c01acce9c70b"
   },
   "outputs": [
    {
     "data": {
      "text/plain": [
       "array([0, 0, 3, 3], dtype=int32)"
      ]
     },
     "execution_count": 6,
     "metadata": {},
     "output_type": "execute_result"
    }
   ],
   "source": [
    "# now you can easily predict new data\n",
    "X_new = np.array([[0, 2], [3, 2], [-3, 3], [-3, 2.5]])\n",
    "kmeans.predict(X_new)"
   ]
  },
  {
   "cell_type": "code",
   "execution_count": 7,
   "metadata": {
    "colab": {
     "base_uri": "https://localhost:8080/",
     "height": 85
    },
    "id": "zYQTOZOQrEX3",
    "outputId": "d110843d-1660-4755-d6b0-c1af80d5440d"
   },
   "outputs": [
    {
     "data": {
      "text/plain": [
       "array([[0.35223945, 2.80412819, 1.53697765, 2.90593657, 2.88338906],\n",
       "       [2.8211168 , 5.80058838, 4.51637441, 5.84970212, 5.83969975],\n",
       "       [3.27135221, 1.21289122, 1.64676373, 0.29108785, 1.7083851 ],\n",
       "       [3.20087414, 0.72475836, 1.50645171, 0.35682766, 1.21333247]])"
      ]
     },
     "execution_count": 7,
     "metadata": {},
     "output_type": "execute_result"
    }
   ],
   "source": [
    "# you can see the score of each class for data as follows\n",
    "kmeans.transform(X_new)"
   ]
  },
  {
   "cell_type": "markdown",
   "metadata": {
    "id": "K6X5nUlBsZO3"
   },
   "source": [
    "### Centroid Initialization Methods"
   ]
  },
  {
   "cell_type": "code",
   "execution_count": 8,
   "metadata": {
    "id": "ELLGUGcorai5"
   },
   "outputs": [],
   "source": [
    "# you can manual set the init if you happen to know roughly where they should be\n",
    "good_init = np.array([[-3, 3], [-3, 2], [-3, 1], [-1, 2], [0, 2]])\n",
    "kmeans = KMeans(n_clusters=5, init=good_init, n_init=1)     # n_inits controls how many times to run the algorithm (default = 10)"
   ]
  },
  {
   "cell_type": "code",
   "execution_count": 9,
   "metadata": {
    "colab": {
     "base_uri": "https://localhost:8080/",
     "height": 34
    },
    "id": "WGBHFsijsrSN",
    "outputId": "c5abd452-d570-458b-df51-ae34fd104f57"
   },
   "outputs": [
    {
     "data": {
      "text/plain": [
       "223.3308591241992"
      ]
     },
     "execution_count": 9,
     "metadata": {},
     "output_type": "execute_result"
    }
   ],
   "source": [
    "# can view a models performance via its inertia (runs n_init times and picks one with lowest inertia)\n",
    "kmeans.fit(X)\n",
    "kmeans.inertia_"
   ]
  },
  {
   "cell_type": "code",
   "execution_count": 10,
   "metadata": {
    "colab": {
     "base_uri": "https://localhost:8080/",
     "height": 34
    },
    "id": "6_9jwdOntKgO",
    "outputId": "138b0f82-8caa-46ea-f79a-84d5d6b323d3"
   },
   "outputs": [
    {
     "data": {
      "text/plain": [
       "-223.33085912419912"
      ]
     },
     "execution_count": 10,
     "metadata": {},
     "output_type": "execute_result"
    }
   ],
   "source": [
    "# its score contains the negative inertia\n",
    "kmeans.score(X)"
   ]
  },
  {
   "cell_type": "markdown",
   "metadata": {
    "id": "EdOVP4uCt6iM"
   },
   "source": [
    "### Accelerated K-Means and Mini-Batch K-Means"
   ]
  },
  {
   "cell_type": "code",
   "execution_count": 11,
   "metadata": {
    "id": "peiR3cn6thMh"
   },
   "outputs": [],
   "source": [
    "# sklearn runs accelerated by default"
   ]
  },
  {
   "cell_type": "code",
   "execution_count": 12,
   "metadata": {
    "colab": {
     "base_uri": "https://localhost:8080/",
     "height": 85
    },
    "id": "KbDG-vf5uV1B",
    "outputId": "c324be83-52da-4bfd-b015-f95696accb3f"
   },
   "outputs": [
    {
     "data": {
      "text/plain": [
       "MiniBatchKMeans(n_clusters=5)"
      ]
     },
     "execution_count": 12,
     "metadata": {},
     "output_type": "execute_result"
    }
   ],
   "source": [
    "# sklearn implements the mini-batch version as follows\n",
    "from sklearn.cluster import MiniBatchKMeans\n",
    "\n",
    "minibatch_kmeans = MiniBatchKMeans(n_clusters=5)\n",
    "minibatch_kmeans.fit(X)"
   ]
  },
  {
   "cell_type": "code",
   "execution_count": 13,
   "metadata": {
    "id": "Fd5Dwl4puenH"
   },
   "outputs": [],
   "source": [
    "# if data does not fit in memory you can either use np.memmap (see Chp 8) or just\n",
    "# run partial_fit on each mini-batch "
   ]
  },
  {
   "cell_type": "markdown",
   "metadata": {
    "id": "D1hrv-gYu5k4"
   },
   "source": [
    "### Finding the Optimal Number of Clusters\n"
   ]
  },
  {
   "cell_type": "code",
   "execution_count": 14,
   "metadata": {
    "colab": {
     "base_uri": "https://localhost:8080/",
     "height": 34
    },
    "id": "BSqCxaFousOM",
    "outputId": "4ba3bdcf-9183-4fb2-dacf-1f45f37c4900"
   },
   "outputs": [
    {
     "data": {
      "text/plain": [
       "0.6486207551011575"
      ]
     },
     "execution_count": 14,
     "metadata": {},
     "output_type": "execute_result"
    }
   ],
   "source": [
    "# to see the silhouette score you can use this function\n",
    "from sklearn.metrics import silhouette_score\n",
    "\n",
    "silhouette_score(X, kmeans.labels_)"
   ]
  },
  {
   "cell_type": "markdown",
   "metadata": {
    "id": "0E1ZkW2WvEWx"
   },
   "source": [
    "## Using Clustering for Image Segmentation"
   ]
  },
  {
   "cell_type": "code",
   "execution_count": 18,
   "metadata": {
    "id": "FpA2nNzxpOhP"
   },
   "outputs": [
    {
     "data": {
      "text/plain": [
       "(533, 800, 3)"
      ]
     },
     "execution_count": 18,
     "metadata": {},
     "output_type": "execute_result"
    }
   ],
   "source": [
    "# load the image\n",
    "from matplotlib.image import imread\n",
    "import os\n",
    "\n",
    "image = imread(os.path.join('images', 'ladybug.png'))\n",
    "image.shape"
   ]
  },
  {
   "cell_type": "code",
   "execution_count": 22,
   "metadata": {},
   "outputs": [],
   "source": [
    "# run clustering for color segmentation\n",
    "X = image.reshape(-1, 3)\n",
    "kmeans = KMeans(n_clusters=8).fit(X)\n",
    "segmented_img = kmeans.cluster_centers_[kmeans.labels_]   # converts each instace to have value of its center\n",
    "segmented_img = segmented_img.reshape(image.shape)"
   ]
  },
  {
   "cell_type": "markdown",
   "metadata": {},
   "source": [
    "## Using Clustering for Preprocessing"
   ]
  },
  {
   "cell_type": "code",
   "execution_count": null,
   "metadata": {},
   "outputs": [],
   "source": [
    "TODO"
   ]
  }
 ],
 "metadata": {
  "colab": {
   "authorship_tag": "ABX9TyM/uaHhXAEKm3c9Gq4ymoqw",
   "name": "Ch_09_Unsupervised_Learning.ipynb",
   "provenance": [],
   "toc_visible": true
  },
  "kernelspec": {
   "display_name": "homl_py3",
   "language": "python",
   "name": "homl_py3"
  },
  "language_info": {
   "codemirror_mode": {
    "name": "ipython",
    "version": 3
   },
   "file_extension": ".py",
   "mimetype": "text/x-python",
   "name": "python",
   "nbconvert_exporter": "python",
   "pygments_lexer": "ipython3",
   "version": "3.8.5"
  }
 },
 "nbformat": 4,
 "nbformat_minor": 1
}
