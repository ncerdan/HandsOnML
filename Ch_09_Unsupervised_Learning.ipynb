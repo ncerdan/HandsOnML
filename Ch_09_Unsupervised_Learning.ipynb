{
  "nbformat": 4,
  "nbformat_minor": 0,
  "metadata": {
    "colab": {
      "name": "Ch_09_Unsupervised_Learning.ipynb",
      "provenance": [],
      "toc_visible": true
    },
    "kernelspec": {
      "display_name": "homl_py3",
      "language": "python",
      "name": "homl_py3"
    },
    "language_info": {
      "codemirror_mode": {
        "name": "ipython",
        "version": 3
      },
      "file_extension": ".py",
      "mimetype": "text/x-python",
      "name": "python",
      "nbconvert_exporter": "python",
      "pygments_lexer": "ipython3",
      "version": "3.8.5"
    }
  },
  "cells": [
    {
      "cell_type": "markdown",
      "metadata": {
        "id": "WASVS1VZl_mH"
      },
      "source": [
        "[![Open In Colab](https://colab.research.google.com/assets/colab-badge.svg)](https://colab.research.google.com/github/ncerdan/HandsOnML/blob/master/Ch_09_Unsupervised_Learning.ipynb)"
      ]
    },
    {
      "cell_type": "markdown",
      "metadata": {
        "id": "zIjD8sVzmKVX"
      },
      "source": [
        "# Clustering"
      ]
    },
    {
      "cell_type": "markdown",
      "metadata": {
        "id": "Bh3i5VWimM6B"
      },
      "source": [
        "## K-Means"
      ]
    },
    {
      "cell_type": "code",
      "metadata": {
        "id": "-O2vHzNxpbWl"
      },
      "source": [
        "# make out dataset\n",
        "from sklearn.datasets import make_blobs\n",
        "import numpy as np\n",
        "\n",
        "blob_centers = np.array([\n",
        "    [ 0.2,  2.3],\n",
        "    [-1.5 ,  2.3],\n",
        "    [-2.8,  1.8],\n",
        "    [-2.8,  2.8],\n",
        "    [-2.8,  1.3]                     \n",
        "])\n",
        "\n",
        "blob_std = np.array([0.4, 0.3, 0.1, 0.1, 0.1])\n",
        "\n",
        "X, y = make_blobs(n_samples=2000, centers=blob_centers, cluster_std=blob_std)"
      ],
      "execution_count": 2,
      "outputs": []
    },
    {
      "cell_type": "code",
      "metadata": {
        "id": "eweEstl2qBIq",
        "outputId": "e4ed127e-ea3d-4180-da8c-61f9187a3540",
        "colab": {
          "base_uri": "https://localhost:8080/",
          "height": 287
        }
      },
      "source": [
        "# now lets plot them\n",
        "import matplotlib.pyplot as plt\n",
        "\n",
        "def plot_clusters(X, y=None):\n",
        "    plt.scatter(X[:, 0], X[:, 1], c=y, s=1)\n",
        "    plt.xlabel(\"$x_1$\", fontsize=14)\n",
        "    plt.ylabel(\"$x_2$\", fontsize=14, rotation=0)\n",
        "\n",
        "plt.figure(figsize=(8, 4))\n",
        "plot_clusters(X)\n",
        "plt.show()"
      ],
      "execution_count": 3,
      "outputs": [
        {
          "output_type": "display_data",
          "data": {
            "image/png": "[encoded data removed]",
            "text/plain": [
              "<Figure size 576x288 with 1 Axes>"
            ]
          },
          "metadata": {
            "tags": [],
            "needs_background": "light"
          }
        }
      ]
    },
    {
      "cell_type": "code",
      "metadata": {
        "id": "z4HVjRw_mVAs"
      },
      "source": [
        "# now let's train on the clusters\n",
        "from sklearn.cluster import KMeans\n",
        "k = 5\n",
        "kmeans = KMeans(n_clusters=k)\n",
        "y_pred = kmeans.fit_predict(X)\n"
      ],
      "execution_count": 4,
      "outputs": []
    },
    {
      "cell_type": "code",
      "metadata": {
        "id": "WyMOVx_YqiPc",
        "outputId": "62818db8-ad74-4861-ffba-d5cd5a157172",
        "colab": {
          "base_uri": "https://localhost:8080/",
          "height": 51
        }
      },
      "source": [
        "# KMeans instance saves the label of each instance it was trained on\n",
        "print(kmeans.labels_)\n",
        "print(y_pred)"
      ],
      "execution_count": 5,
      "outputs": [
        {
          "output_type": "stream",
          "text": [
            "[1 2 2 ... 3 4 2]\n",
            "[1 2 2 ... 3 4 2]\n"
          ],
          "name": "stdout"
        }
      ]
    },
    {
      "cell_type": "code",
      "metadata": {
        "id": "7_24-_RMq1a6",
        "outputId": "f4493842-85b0-4396-fd5b-25ccb7ec36a7",
        "colab": {
          "base_uri": "https://localhost:8080/",
          "height": 102
        }
      },
      "source": [
        "# it also stores the centroids\n",
        "kmeans.cluster_centers_"
      ],
      "execution_count": 6,
      "outputs": [
        {
          "output_type": "execute_result",
          "data": {
            "text/plain": [
              "array([[-2.80231767,  1.80139944],\n",
              "       [ 0.20404944,  2.30548137],\n",
              "       [-1.4730556 ,  2.32436007],\n",
              "       [-2.79439618,  2.79406388],\n",
              "       [-2.80119472,  1.3032836 ]])"
            ]
          },
          "metadata": {
            "tags": []
          },
          "execution_count": 6
        }
      ]
    },
    {
      "cell_type": "code",
      "metadata": {
        "id": "MRBmIjjtq545",
        "outputId": "31049781-fd95-43ad-ac56-7285a4378bec",
        "colab": {
          "base_uri": "https://localhost:8080/",
          "height": 34
        }
      },
      "source": [
        "# now you can easily predict new data\n",
        "X_new = np.array([[0, 2], [3, 2], [-3, 3], [-3, 2.5]])\n",
        "kmeans.predict(X_new)"
      ],
      "execution_count": 7,
      "outputs": [
        {
          "output_type": "execute_result",
          "data": {
            "text/plain": [
              "array([1, 1, 3, 3], dtype=int32)"
            ]
          },
          "metadata": {
            "tags": []
          },
          "execution_count": 7
        }
      ]
    },
    {
      "cell_type": "code",
      "metadata": {
        "id": "zYQTOZOQrEX3",
        "outputId": "e0e46661-8d6c-49d6-919e-d96246cb23b8",
        "colab": {
          "base_uri": "https://localhost:8080/",
          "height": 85
        }
      },
      "source": [
        "# you can see the score of each class for data as follows\n",
        "kmeans.transform(X_new)"
      ],
      "execution_count": 8,
      "outputs": [
        {
          "output_type": "execute_result",
          "data": {
            "text/plain": [
              "array([[2.80934627, 0.36736227, 1.50834421, 2.90502796, 2.88653868],\n",
              "       [5.8057155 , 2.81258927, 4.48480054, 5.84855235, 5.84288233],\n",
              "       [1.21479282, 3.27845832, 1.66974504, 0.29100278, 1.70832376],\n",
              "       [0.72603102, 3.20994865, 1.53701288, 0.35881262, 1.21311734]])"
            ]
          },
          "metadata": {
            "tags": []
          },
          "execution_count": 8
        }
      ]
    },
    {
      "cell_type": "markdown",
      "metadata": {
        "id": "K6X5nUlBsZO3"
      },
      "source": [
        "### Centroid Initialization Methods"
      ]
    },
    {
      "cell_type": "code",
      "metadata": {
        "id": "ELLGUGcorai5"
      },
      "source": [
        "# you can manual set the init if you happen to know roughly where they should be\n",
        "good_init = np.array([[-3, 3], [-3, 2], [-3, 1], [-1, 2], [0, 2]])\n",
        "kmeans = KMeans(n_clusters=5, init=good_init, n_init=1)     # n_inits controls how many times to run the algorithm (default = 10)"
      ],
      "execution_count": 9,
      "outputs": []
    },
    {
      "cell_type": "code",
      "metadata": {
        "id": "WGBHFsijsrSN",
        "outputId": "3e471f5a-2310-49b8-aea6-7d067aad9c7d",
        "colab": {
          "base_uri": "https://localhost:8080/",
          "height": 34
        }
      },
      "source": [
        "# can view a models performance via its inertia (runs n_init times and picks one with lowest inertia)\n",
        "kmeans.fit(X)\n",
        "kmeans.inertia_"
      ],
      "execution_count": 10,
      "outputs": [
        {
          "output_type": "execute_result",
          "data": {
            "text/plain": [
              "222.230809752018"
            ]
          },
          "metadata": {
            "tags": []
          },
          "execution_count": 10
        }
      ]
    },
    {
      "cell_type": "code",
      "metadata": {
        "id": "6_9jwdOntKgO",
        "outputId": "6d1a6327-873d-4bd1-ffe2-33b29dfe6d7a",
        "colab": {
          "base_uri": "https://localhost:8080/",
          "height": 34
        }
      },
      "source": [
        "# its score contains the negative inertia\n",
        "kmeans.score(X)"
      ],
      "execution_count": 11,
      "outputs": [
        {
          "output_type": "execute_result",
          "data": {
            "text/plain": [
              "-222.23080975201788"
            ]
          },
          "metadata": {
            "tags": []
          },
          "execution_count": 11
        }
      ]
    },
    {
      "cell_type": "markdown",
      "metadata": {
        "id": "EdOVP4uCt6iM"
      },
      "source": [
        "### Accelerated K-Means and Mini-Batch K-Means"
      ]
    },
    {
      "cell_type": "code",
      "metadata": {
        "id": "peiR3cn6thMh"
      },
      "source": [
        "# sklearn runs accelerated by default"
      ],
      "execution_count": 12,
      "outputs": []
    },
    {
      "cell_type": "code",
      "metadata": {
        "id": "KbDG-vf5uV1B",
        "outputId": "7e1390c1-157f-454a-c9eb-d2101e5b50ac",
        "colab": {
          "base_uri": "https://localhost:8080/",
          "height": 85
        }
      },
      "source": [
        "# sklearn implements the mini-batch version as follows\n",
        "from sklearn.cluster import MiniBatchKMeans\n",
        "\n",
        "minibatch_kmeans = MiniBatchKMeans(n_clusters=5)\n",
        "minibatch_kmeans.fit(X)"
      ],
      "execution_count": 13,
      "outputs": [
        {
          "output_type": "execute_result",
          "data": {
            "text/plain": [
              "MiniBatchKMeans(batch_size=100, compute_labels=True, init='k-means++',\n",
              "                init_size=None, max_iter=100, max_no_improvement=10,\n",
              "                n_clusters=5, n_init=3, random_state=None,\n",
              "                reassignment_ratio=0.01, tol=0.0, verbose=0)"
            ]
          },
          "metadata": {
            "tags": []
          },
          "execution_count": 13
        }
      ]
    },
    {
      "cell_type": "code",
      "metadata": {
        "id": "Fd5Dwl4puenH"
      },
      "source": [
        "# if data does not fit in memory you can either use np.memmap (see Chp 8) or just\n",
        "# run partial_fit on each mini-batch "
      ],
      "execution_count": 14,
      "outputs": []
    },
    {
      "cell_type": "markdown",
      "metadata": {
        "id": "D1hrv-gYu5k4"
      },
      "source": [
        "### Finding the Optimal Number of Clusters\n"
      ]
    },
    {
      "cell_type": "code",
      "metadata": {
        "id": "BSqCxaFousOM",
        "outputId": "16a2be26-e90e-4e84-8778-460e2cc6a869",
        "colab": {
          "base_uri": "https://localhost:8080/",
          "height": 0
        }
      },
      "source": [
        "# to see the silhouette score you can use this function\n",
        "from sklearn.metrics import silhouette_score\n",
        "\n",
        "silhouette_score(X, kmeans.labels_)"
      ],
      "execution_count": 15,
      "outputs": [
        {
          "output_type": "execute_result",
          "data": {
            "text/plain": [
              "0.6507664920271871"
            ]
          },
          "metadata": {
            "tags": []
          },
          "execution_count": 15
        }
      ]
    },
    {
      "cell_type": "markdown",
      "metadata": {
        "id": "0E1ZkW2WvEWx"
      },
      "source": [
        "## Using Clustering for Image Segmentation"
      ]
    },
    {
      "cell_type": "code",
      "metadata": {
        "id": "FpA2nNzxpOhP"
      },
      "source": [
        "# load the image\n",
        "from matplotlib.image import imread\n",
        "import os\n",
        "\n",
        "image = imread(os.path.join('images', 'ladybug.png'))   # only works when running on local NOT on colab\n",
        "image.shape"
      ],
      "execution_count": null,
      "outputs": []
    },
    {
      "cell_type": "code",
      "metadata": {
        "id": "fbU79TaQ3-PV"
      },
      "source": [
        "# run clustering for color segmentation\n",
        "X = image.reshape(-1, 3)\n",
        "kmeans = KMeans(n_clusters=8).fit(X)\n",
        "segmented_img = kmeans.cluster_centers_[kmeans.labels_]   # converts each instace to have value of its center\n",
        "segmented_img = segmented_img.reshape(image.shape)"
      ],
      "execution_count": null,
      "outputs": []
    },
    {
      "cell_type": "markdown",
      "metadata": {
        "id": "m_jNt8_G3-PX"
      },
      "source": [
        "## Using Clustering for Preprocessing"
      ]
    },
    {
      "cell_type": "code",
      "metadata": {
        "id": "WJMnYjPZ3-PY"
      },
      "source": [
        "# first load the data set\n",
        "from sklearn.datasets import load_digits\n",
        "\n",
        "X_digits, y_digits = load_digits(return_X_y=True)"
      ],
      "execution_count": null,
      "outputs": []
    },
    {
      "cell_type": "code",
      "metadata": {
        "id": "Vs8mMmkm5jOS"
      },
      "source": [
        "# split up data set\n",
        "from sklearn.model_selection import train_test_split\n",
        "\n",
        "X_train, X_test, y_train, y_test = train_test_split(X_digits, y_digits)"
      ],
      "execution_count": null,
      "outputs": []
    },
    {
      "cell_type": "code",
      "metadata": {
        "id": "-YZZ4sT-5soZ",
        "outputId": "097312a6-409f-42c8-e874-dca3f359a4d8",
        "colab": {
          "base_uri": "https://localhost:8080/",
          "height": 258
        }
      },
      "source": [
        "# first try a classifier without any preprocessing\n",
        "from sklearn.linear_model import LogisticRegression\n",
        "\n",
        "log_reg = LogisticRegression()\n",
        "log_reg.fit(X_train, y_train)"
      ],
      "execution_count": null,
      "outputs": [
        {
          "output_type": "stream",
          "text": [
            "/usr/local/lib/python3.6/dist-packages/sklearn/linear_model/_logistic.py:940: ConvergenceWarning: lbfgs failed to converge (status=1):\n",
            "STOP: TOTAL NO. of ITERATIONS REACHED LIMIT.\n",
            "\n",
            "Increase the number of iterations (max_iter) or scale the data as shown in:\n",
            "    https://scikit-learn.org/stable/modules/preprocessing.html\n",
            "Please also refer to the documentation for alternative solver options:\n",
            "    https://scikit-learn.org/stable/modules/linear_model.html#logistic-regression\n",
            "  extra_warning_msg=_LOGISTIC_SOLVER_CONVERGENCE_MSG)\n"
          ],
          "name": "stderr"
        },
        {
          "output_type": "execute_result",
          "data": {
            "text/plain": [
              "LogisticRegression(C=1.0, class_weight=None, dual=False, fit_intercept=True,\n",
              "                   intercept_scaling=1, l1_ratio=None, max_iter=100,\n",
              "                   multi_class='auto', n_jobs=None, penalty='l2',\n",
              "                   random_state=None, solver='lbfgs', tol=0.0001, verbose=0,\n",
              "                   warm_start=False)"
            ]
          },
          "metadata": {
            "tags": []
          },
          "execution_count": 40
        }
      ]
    },
    {
      "cell_type": "code",
      "metadata": {
        "id": "OY65NFsa54tm",
        "outputId": "865c485c-3b73-4f9a-b69c-ab2366d880d0",
        "colab": {
          "base_uri": "https://localhost:8080/",
          "height": 34
        }
      },
      "source": [
        "# and check its score\n",
        "log_reg.score(X_test, y_test)"
      ],
      "execution_count": null,
      "outputs": [
        {
          "output_type": "execute_result",
          "data": {
            "text/plain": [
              "0.9622222222222222"
            ]
          },
          "metadata": {
            "tags": []
          },
          "execution_count": 41
        }
      ]
    },
    {
      "cell_type": "code",
      "metadata": {
        "id": "1Z6NDZiX6AOH",
        "outputId": "07b97721-7a63-4ffa-eec9-8a969458c415",
        "colab": {
          "base_uri": "https://localhost:8080/",
          "height": 428
        }
      },
      "source": [
        "# let's create a pipeline with K-Means preprocessing\n",
        "from sklearn.pipeline import Pipeline\n",
        "\n",
        "pipeline = Pipeline([\n",
        "    ('kmeans', KMeans(n_clusters=50)),\n",
        "    ('log_reg', LogisticRegression())\n",
        "])\n",
        "\n",
        "pipeline.fit(X_train, y_train)"
      ],
      "execution_count": null,
      "outputs": [
        {
          "output_type": "stream",
          "text": [
            "/usr/local/lib/python3.6/dist-packages/sklearn/linear_model/_logistic.py:940: ConvergenceWarning: lbfgs failed to converge (status=1):\n",
            "STOP: TOTAL NO. of ITERATIONS REACHED LIMIT.\n",
            "\n",
            "Increase the number of iterations (max_iter) or scale the data as shown in:\n",
            "    https://scikit-learn.org/stable/modules/preprocessing.html\n",
            "Please also refer to the documentation for alternative solver options:\n",
            "    https://scikit-learn.org/stable/modules/linear_model.html#logistic-regression\n",
            "  extra_warning_msg=_LOGISTIC_SOLVER_CONVERGENCE_MSG)\n"
          ],
          "name": "stderr"
        },
        {
          "output_type": "execute_result",
          "data": {
            "text/plain": [
              "Pipeline(memory=None,\n",
              "         steps=[('kmeans',\n",
              "                 KMeans(algorithm='auto', copy_x=True, init='k-means++',\n",
              "                        max_iter=300, n_clusters=50, n_init=10, n_jobs=None,\n",
              "                        precompute_distances='auto', random_state=None,\n",
              "                        tol=0.0001, verbose=0)),\n",
              "                ('log_reg',\n",
              "                 LogisticRegression(C=1.0, class_weight=None, dual=False,\n",
              "                                    fit_intercept=True, intercept_scaling=1,\n",
              "                                    l1_ratio=None, max_iter=100,\n",
              "                                    multi_class='auto', n_jobs=None,\n",
              "                                    penalty='l2', random_state=None,\n",
              "                                    solver='lbfgs', tol=0.0001, verbose=0,\n",
              "                                    warm_start=False))],\n",
              "         verbose=False)"
            ]
          },
          "metadata": {
            "tags": []
          },
          "execution_count": 48
        }
      ]
    },
    {
      "cell_type": "code",
      "metadata": {
        "id": "utdtDYe06ecC",
        "outputId": "3adde1f5-f8a8-4da8-8743-01859d1fa7ba",
        "colab": {
          "base_uri": "https://localhost:8080/",
          "height": 34
        }
      },
      "source": [
        "# and check its score\n",
        "pipeline.score(X_test, y_test)  # look it got better"
      ],
      "execution_count": null,
      "outputs": [
        {
          "output_type": "execute_result",
          "data": {
            "text/plain": [
              "0.9644444444444444"
            ]
          },
          "metadata": {
            "tags": []
          },
          "execution_count": 49
        }
      ]
    },
    {
      "cell_type": "code",
      "metadata": {
        "id": "VHIsmlbB6jFJ"
      },
      "source": [
        "# now let's try using gridsearch to find the best number of clusters\n",
        "from sklearn.model_selection import GridSearchCV\n",
        "\n",
        "param_grid = dict(kmeans__n_clusters=range(2, 100))\n",
        "grid_clf = GridSearchCV(pipeline, param_grid, cv=3, verbose=2)\n",
        "grid_clf.fit(X_train, y_train)"
      ],
      "execution_count": null,
      "outputs": []
    },
    {
      "cell_type": "code",
      "metadata": {
        "id": "5FBDrnGf7M6v",
        "outputId": "e43f05e0-9b11-429b-fdd8-71ca52a2e1c7",
        "colab": {
          "base_uri": "https://localhost:8080/",
          "height": 34
        }
      },
      "source": [
        "# let's see what it found\n",
        "grid_clf.best_params_"
      ],
      "execution_count": null,
      "outputs": [
        {
          "output_type": "execute_result",
          "data": {
            "text/plain": [
              "{'kmeans__n_clusters': 90}"
            ]
          },
          "metadata": {
            "tags": []
          },
          "execution_count": 51
        }
      ]
    },
    {
      "cell_type": "code",
      "metadata": {
        "id": "wG_EC6cN8KHn",
        "outputId": "10467837-42b7-4248-de60-9b8f4ef22a2a",
        "colab": {
          "base_uri": "https://localhost:8080/",
          "height": 34
        }
      },
      "source": [
        "# now let's see its performance\n",
        "grid_clf.score(X_test, y_test)      # should in theory be better"
      ],
      "execution_count": null,
      "outputs": [
        {
          "output_type": "execute_result",
          "data": {
            "text/plain": [
              "0.9555555555555556"
            ]
          },
          "metadata": {
            "tags": []
          },
          "execution_count": 54
        }
      ]
    },
    {
      "cell_type": "markdown",
      "metadata": {
        "id": "0432LjQO8Xxk"
      },
      "source": [
        "## Using Clustering for Semi-Supervised Learning"
      ]
    },
    {
      "cell_type": "code",
      "metadata": {
        "id": "P_rGjEu98O--",
        "outputId": "a9f0eea4-0469-4a76-f194-bb3f3d042d04",
        "colab": {
          "base_uri": "https://localhost:8080/",
          "height": 258
        }
      },
      "source": [
        "# create a data set that has few labels\n",
        "n_labeled = 50\n",
        "log_reg = LogisticRegression()\n",
        "log_reg.fit(X_train[:n_labeled], y_train[:n_labeled])"
      ],
      "execution_count": null,
      "outputs": [
        {
          "output_type": "stream",
          "text": [
            "/usr/local/lib/python3.6/dist-packages/sklearn/linear_model/_logistic.py:940: ConvergenceWarning: lbfgs failed to converge (status=1):\n",
            "STOP: TOTAL NO. of ITERATIONS REACHED LIMIT.\n",
            "\n",
            "Increase the number of iterations (max_iter) or scale the data as shown in:\n",
            "    https://scikit-learn.org/stable/modules/preprocessing.html\n",
            "Please also refer to the documentation for alternative solver options:\n",
            "    https://scikit-learn.org/stable/modules/linear_model.html#logistic-regression\n",
            "  extra_warning_msg=_LOGISTIC_SOLVER_CONVERGENCE_MSG)\n"
          ],
          "name": "stderr"
        },
        {
          "output_type": "execute_result",
          "data": {
            "text/plain": [
              "LogisticRegression(C=1.0, class_weight=None, dual=False, fit_intercept=True,\n",
              "                   intercept_scaling=1, l1_ratio=None, max_iter=100,\n",
              "                   multi_class='auto', n_jobs=None, penalty='l2',\n",
              "                   random_state=None, solver='lbfgs', tol=0.0001, verbose=0,\n",
              "                   warm_start=False)"
            ]
          },
          "metadata": {
            "tags": []
          },
          "execution_count": 55
        }
      ]
    },
    {
      "cell_type": "code",
      "metadata": {
        "id": "b9YRco8_92kL",
        "outputId": "5ad3804f-a0e1-4ce1-b71f-e5256777b0cd",
        "colab": {
          "base_uri": "https://localhost:8080/",
          "height": 34
        }
      },
      "source": [
        "# check its score\n",
        "log_reg.score(X_test, y_test)"
      ],
      "execution_count": null,
      "outputs": [
        {
          "output_type": "execute_result",
          "data": {
            "text/plain": [
              "0.7755555555555556"
            ]
          },
          "metadata": {
            "tags": []
          },
          "execution_count": 56
        }
      ]
    },
    {
      "cell_type": "code",
      "metadata": {
        "id": "eUx2N26l95WZ"
      },
      "source": [
        "# now create representative images\n",
        "k = 50\n",
        "kmeans = KMeans(n_clusters=k)\n",
        "X_digits_dist = kmeans.fit_transform(X_train)\n",
        "representative_digits_ids = np.argmin(X_digits_dist, axis=0)\n",
        "X_representative_digits = X_train[representative_digits_ids]"
      ],
      "execution_count": null,
      "outputs": []
    },
    {
      "cell_type": "code",
      "metadata": {
        "id": "y6YbLEAi_SF7",
        "outputId": "3882d3b4-b2e0-4796-d8b6-5455af9e5cd1",
        "colab": {
          "base_uri": "https://localhost:8080/",
          "height": 140
        }
      },
      "source": [
        "# plot the representatives\n",
        "plt.figure(figsize=(8, 2))\n",
        "for index, X_representative_digit in enumerate(X_representative_digits):\n",
        "    plt.subplot(k // 10, 10, index + 1)\n",
        "    plt.imshow(X_representative_digit.reshape(8, 8), cmap=\"binary\", interpolation=\"bilinear\")\n",
        "    plt.axis('off')\n",
        "\n",
        "plt.show()"
      ],
      "execution_count": null,
      "outputs": [
        {
          "output_type": "display_data",
          "data": {
            "image/png": "[encoded data removed]",
            "text/plain": [
              "<Figure size 576x144 with 50 Axes>"
            ]
          },
          "metadata": {
            "tags": [],
            "needs_background": "light"
          }
        }
      ]
    },
    {
      "cell_type": "code",
      "metadata": {
        "id": "2cFepZsd_SPp"
      },
      "source": [
        "# create the labels\n",
        "y_representative_digits = np.array([\n",
        "    5, 1, 2, 8, 0, 4, 9, 9, 5, 7,\n",
        "    6, 3, 1, 4, 4, 2, 6, 5, 3, 1,\n",
        "    6, 0, 9, 2, 7, 1, 4, 3, 8, 7,\n",
        "    2, 2, 7, 8, 6, 8, 8, 1, 7, 5,\n",
        "    1, 2, 9, 0, 7, 3, 4, 8, 8, 5\n",
        "])"
      ],
      "execution_count": null,
      "outputs": []
    },
    {
      "cell_type": "code",
      "metadata": {
        "id": "qyYkUffL-7O5",
        "outputId": "6dbd3b4b-3ceb-42c3-e219-e7586ffa42c8",
        "colab": {
          "base_uri": "https://localhost:8080/",
          "height": 258
        }
      },
      "source": [
        "# now lets train in\n",
        "log_reg = LogisticRegression()\n",
        "log_reg.fit(X_representative_digits, y_representative_digits)"
      ],
      "execution_count": null,
      "outputs": [
        {
          "output_type": "stream",
          "text": [
            "/usr/local/lib/python3.6/dist-packages/sklearn/linear_model/_logistic.py:940: ConvergenceWarning: lbfgs failed to converge (status=1):\n",
            "STOP: TOTAL NO. of ITERATIONS REACHED LIMIT.\n",
            "\n",
            "Increase the number of iterations (max_iter) or scale the data as shown in:\n",
            "    https://scikit-learn.org/stable/modules/preprocessing.html\n",
            "Please also refer to the documentation for alternative solver options:\n",
            "    https://scikit-learn.org/stable/modules/linear_model.html#logistic-regression\n",
            "  extra_warning_msg=_LOGISTIC_SOLVER_CONVERGENCE_MSG)\n"
          ],
          "name": "stderr"
        },
        {
          "output_type": "execute_result",
          "data": {
            "text/plain": [
              "LogisticRegression(C=1.0, class_weight=None, dual=False, fit_intercept=True,\n",
              "                   intercept_scaling=1, l1_ratio=None, max_iter=100,\n",
              "                   multi_class='auto', n_jobs=None, penalty='l2',\n",
              "                   random_state=None, solver='lbfgs', tol=0.0001, verbose=0,\n",
              "                   warm_start=False)"
            ]
          },
          "metadata": {
            "tags": []
          },
          "execution_count": 67
        }
      ]
    },
    {
      "cell_type": "code",
      "metadata": {
        "id": "SFbCbjps_Frq",
        "outputId": "84f4a7d5-d615-406f-fa0c-fee63206e1db",
        "colab": {
          "base_uri": "https://localhost:8080/",
          "height": 34
        }
      },
      "source": [
        "# check its performance\n",
        "log_reg.score(X_test, y_test)   # does better than before!"
      ],
      "execution_count": null,
      "outputs": [
        {
          "output_type": "execute_result",
          "data": {
            "text/plain": [
              "0.8688888888888889"
            ]
          },
          "metadata": {
            "tags": []
          },
          "execution_count": 69
        }
      ]
    },
    {
      "cell_type": "code",
      "metadata": {
        "id": "oSO6qaoL_ylv"
      },
      "source": [
        "# we can also propogate labels\n",
        "y_train_propogate = np.empty(len(X_train), dtype=np.int32)\n",
        "for i in range(k):\n",
        "    y_train_propogate[kmeans.labels_==i] = y_representative_digits[i]"
      ],
      "execution_count": null,
      "outputs": []
    },
    {
      "cell_type": "code",
      "metadata": {
        "id": "f3QEzX85AVIf",
        "outputId": "aa4f269b-837f-4e82-f08d-033babf8a84b",
        "colab": {
          "base_uri": "https://localhost:8080/",
          "height": 258
        }
      },
      "source": [
        "# now lets train again\n",
        "log_reg = LogisticRegression()\n",
        "log_reg.fit(X_train, y_train_propogate)"
      ],
      "execution_count": null,
      "outputs": [
        {
          "output_type": "stream",
          "text": [
            "/usr/local/lib/python3.6/dist-packages/sklearn/linear_model/_logistic.py:940: ConvergenceWarning: lbfgs failed to converge (status=1):\n",
            "STOP: TOTAL NO. of ITERATIONS REACHED LIMIT.\n",
            "\n",
            "Increase the number of iterations (max_iter) or scale the data as shown in:\n",
            "    https://scikit-learn.org/stable/modules/preprocessing.html\n",
            "Please also refer to the documentation for alternative solver options:\n",
            "    https://scikit-learn.org/stable/modules/linear_model.html#logistic-regression\n",
            "  extra_warning_msg=_LOGISTIC_SOLVER_CONVERGENCE_MSG)\n"
          ],
          "name": "stderr"
        },
        {
          "output_type": "execute_result",
          "data": {
            "text/plain": [
              "LogisticRegression(C=1.0, class_weight=None, dual=False, fit_intercept=True,\n",
              "                   intercept_scaling=1, l1_ratio=None, max_iter=100,\n",
              "                   multi_class='auto', n_jobs=None, penalty='l2',\n",
              "                   random_state=None, solver='lbfgs', tol=0.0001, verbose=0,\n",
              "                   warm_start=False)"
            ]
          },
          "metadata": {
            "tags": []
          },
          "execution_count": 71
        }
      ]
    },
    {
      "cell_type": "code",
      "metadata": {
        "id": "xeUac7WZAaRV",
        "outputId": "03d7f743-27c8-4a94-c476-d23b2a69f13b",
        "colab": {
          "base_uri": "https://localhost:8080/",
          "height": 34
        }
      },
      "source": [
        "# and its performance:\n",
        "log_reg.score(X_test, y_test)       # even better!"
      ],
      "execution_count": null,
      "outputs": [
        {
          "output_type": "execute_result",
          "data": {
            "text/plain": [
              "0.9088888888888889"
            ]
          },
          "metadata": {
            "tags": []
          },
          "execution_count": 73
        }
      ]
    },
    {
      "cell_type": "code",
      "metadata": {
        "id": "D-GehXYCAdFy"
      },
      "source": [
        "# now we can try to limit this propogation to only the top 20%\n",
        "percentile_closest = 20\n",
        "\n",
        "X_cluster_dist = X_digits_dist[np.arange(len(X_train)), kmeans.labels_]\n",
        "for i in range(k):\n",
        "    in_cluster = (kmeans.labels_ == i)\n",
        "    cluster_dist = X_cluster_dist[in_cluster]\n",
        "    cutoff_dist = np.percentile(cluster_dist, percentile_closest)\n",
        "    above_cutoff = (X_cluster_dist > cutoff_dist)\n",
        "    X_cluster_dist[in_cluster & above_cutoff] = -1\n",
        "\n",
        "partially_propogated = (X_cluster_dist != -1)\n",
        "X_train_partially_propogated = X_train[partially_propogated]\n",
        "y_train_partially_propogated = y_train[partially_propogated]"
      ],
      "execution_count": null,
      "outputs": []
    },
    {
      "cell_type": "code",
      "metadata": {
        "id": "XnZhGcWvBioo",
        "outputId": "4cf66e94-edcd-4624-f77f-000a3b6cf65c",
        "colab": {
          "base_uri": "https://localhost:8080/",
          "height": 258
        }
      },
      "source": [
        "# now let's train the data\n",
        "log_reg = LogisticRegression()\n",
        "log_reg.fit(X_train_partially_propogated, y_train_partially_propogated)"
      ],
      "execution_count": null,
      "outputs": [
        {
          "output_type": "stream",
          "text": [
            "/usr/local/lib/python3.6/dist-packages/sklearn/linear_model/_logistic.py:940: ConvergenceWarning: lbfgs failed to converge (status=1):\n",
            "STOP: TOTAL NO. of ITERATIONS REACHED LIMIT.\n",
            "\n",
            "Increase the number of iterations (max_iter) or scale the data as shown in:\n",
            "    https://scikit-learn.org/stable/modules/preprocessing.html\n",
            "Please also refer to the documentation for alternative solver options:\n",
            "    https://scikit-learn.org/stable/modules/linear_model.html#logistic-regression\n",
            "  extra_warning_msg=_LOGISTIC_SOLVER_CONVERGENCE_MSG)\n"
          ],
          "name": "stderr"
        },
        {
          "output_type": "execute_result",
          "data": {
            "text/plain": [
              "LogisticRegression(C=1.0, class_weight=None, dual=False, fit_intercept=True,\n",
              "                   intercept_scaling=1, l1_ratio=None, max_iter=100,\n",
              "                   multi_class='auto', n_jobs=None, penalty='l2',\n",
              "                   random_state=None, solver='lbfgs', tol=0.0001, verbose=0,\n",
              "                   warm_start=False)"
            ]
          },
          "metadata": {
            "tags": []
          },
          "execution_count": 76
        }
      ]
    },
    {
      "cell_type": "code",
      "metadata": {
        "id": "57wHiejzBrkT",
        "outputId": "29be8074-9c82-4a2d-ef97-07d3a17baab8",
        "colab": {
          "base_uri": "https://localhost:8080/",
          "height": 34
        }
      },
      "source": [
        "# and check it's performance\n",
        "log_reg.score(X_test, y_test)   # and now it got even better"
      ],
      "execution_count": null,
      "outputs": [
        {
          "output_type": "execute_result",
          "data": {
            "text/plain": [
              "0.92"
            ]
          },
          "metadata": {
            "tags": []
          },
          "execution_count": 78
        }
      ]
    },
    {
      "cell_type": "code",
      "metadata": {
        "id": "gRfmfc4rBvy0",
        "outputId": "6df93748-1d36-4b85-aef4-2e4e00418838",
        "colab": {
          "base_uri": "https://localhost:8080/",
          "height": 34
        }
      },
      "source": [
        "# this words well because most of the propogated labels are correct\n",
        "np.mean(y_train_partially_propogated == y_train[partially_propogated])"
      ],
      "execution_count": null,
      "outputs": [
        {
          "output_type": "execute_result",
          "data": {
            "text/plain": [
              "1.0"
            ]
          },
          "metadata": {
            "tags": []
          },
          "execution_count": 79
        }
      ]
    },
    {
      "cell_type": "markdown",
      "metadata": {
        "id": "xrDqEdhuCNzK"
      },
      "source": [
        "## DBSCAN"
      ]
    },
    {
      "cell_type": "code",
      "metadata": {
        "id": "WZMRIvUzB9Xz",
        "outputId": "52ec6947-b946-4745-ae16-031bfca8ba79",
        "colab": {
          "base_uri": "https://localhost:8080/",
          "height": 51
        }
      },
      "source": [
        "# let's make the data set and train DBSCAN on it\n",
        "from sklearn.datasets import make_moons\n",
        "from sklearn.cluster import DBSCAN\n",
        "\n",
        "X, y = make_moons(n_samples=1000, noise=0.05)\n",
        "dbscan = DBSCAN(eps=0.05, min_samples=5)\n",
        "dbscan.fit(X)"
      ],
      "execution_count": null,
      "outputs": [
        {
          "output_type": "execute_result",
          "data": {
            "text/plain": [
              "DBSCAN(algorithm='auto', eps=0.05, leaf_size=30, metric='euclidean',\n",
              "       metric_params=None, min_samples=5, n_jobs=None, p=None)"
            ]
          },
          "metadata": {
            "tags": []
          },
          "execution_count": 80
        }
      ]
    },
    {
      "cell_type": "code",
      "metadata": {
        "id": "6XRbz1DUGXyT",
        "outputId": "65eb5167-e42e-451e-d815-8bcb0b0b038b",
        "colab": {
          "base_uri": "https://localhost:8080/",
          "height": 1000
        }
      },
      "source": [
        "# you can view the labels here\n",
        "dbscan.labels_      # -1 means anomaly"
      ],
      "execution_count": null,
      "outputs": [
        {
          "output_type": "execute_result",
          "data": {
            "text/plain": [
              "array([ 0,  0,  0,  1,  0,  0,  0,  5, -1,  1,  0,  2,  0,  3,  7,  7,  4,\n",
              "        1,  4,  0,  2,  0,  5,  0,  0,  0,  0,  1,  0,  0,  5,  3,  0,  0,\n",
              "        0,  0,  0,  3,  0, -1,  3,  5,  0,  0,  0,  0, -1,  4,  4,  3,  0,\n",
              "        4,  7,  5,  0,  6,  0,  5,  0,  5,  2, -1,  0,  0,  0,  0,  0,  4,\n",
              "        4,  5,  4,  5,  5,  1,  4,  3,  3,  3,  3,  2,  0,  2,  2, -1,  0,\n",
              "        0,  0,  0,  2,  0,  5,  0, -1,  0,  4,  0,  1,  5, -1,  3,  0,  0,\n",
              "        1,  0,  0,  4,  0,  0,  2,  4,  5,  4,  4,  2,  0,  3,  4,  0,  0,\n",
              "        4,  2,  0,  0,  6,  5, -1,  0,  2,  3,  4,  0,  0,  0,  2,  7, -1,\n",
              "        4, -1,  0,  4,  3,  1,  0,  5,  4,  0,  0,  2,  3,  0, -1,  0,  1,\n",
              "        3,  0,  0,  5,  4,  0, -1,  1,  0,  0,  4,  0,  1,  0,  1,  3,  1,\n",
              "        3,  5,  5,  3,  3,  0,  0,  3,  4,  0,  0,  5,  0,  0,  7,  0,  4,\n",
              "        5,  3,  0,  0,  3,  1,  3,  0,  0,  4,  2,  0,  0,  3,  0,  0,  2,\n",
              "        4,  4,  4,  5,  0,  0,  0,  0,  1,  5,  5,  1,  0,  2,  0,  3,  5,\n",
              "        0,  0,  5,  5,  4,  2,  0,  6,  4,  0,  0,  0,  4,  4,  4,  7,  0,\n",
              "        0,  7,  3, -1, -1,  2,  5,  0,  4,  1,  4, -1,  0,  0,  5,  4,  7,\n",
              "        0,  5,  0,  0,  4,  3,  5,  0,  3,  3,  0,  0,  4,  0,  3,  5,  0,\n",
              "        0,  1,  1,  3,  0,  0,  4,  0,  3,  0,  0,  0,  3,  3,  5,  5,  0,\n",
              "        3, -1,  5,  0,  2,  0,  0,  4,  0,  0,  0,  0,  0,  0,  3, -1,  0,\n",
              "        3,  1, -1,  5,  4,  4,  0,  1,  0,  5,  0,  4,  0,  5, -1,  0,  0,\n",
              "        5,  2,  0,  3,  0,  5,  5,  3, -1,  7,  4, -1,  7,  0,  0,  3,  4,\n",
              "        0,  5,  3, -1,  2,  0,  0,  7,  3,  2, -1,  5,  0,  0, -1,  0,  4,\n",
              "        5,  0,  3, -1,  0,  4,  3,  7, -1,  0,  0,  5,  4,  4,  0,  4, -1,\n",
              "        3,  3,  0, -1,  5,  0,  4,  5,  3,  0,  0,  3,  6,  7,  0,  3,  0,\n",
              "        0,  5,  5,  0,  4,  3,  0,  0,  4,  7,  5,  5,  5,  4,  2, -1,  2,\n",
              "        0,  0,  0,  3,  3,  0,  4,  0,  0,  1,  4,  0, -1,  0,  0,  0,  0,\n",
              "       -1,  0, -1,  0,  7,  0,  0, -1,  4,  0, -1,  0,  1,  4,  0,  7,  3,\n",
              "        0,  2,  1,  0,  0,  3,  0,  0,  0,  5,  0,  0,  0,  0,  0,  4,  3,\n",
              "        0,  0,  7,  4,  1,  0,  0,  1,  4,  0,  0,  0,  0,  3,  3,  4,  0,\n",
              "        4,  4,  5,  1, -1,  0,  0,  5,  3,  0,  2,  0,  7, -1,  0,  5,  5,\n",
              "        0,  2,  2,  5,  0,  3,  4,  7,  0,  2,  0,  5,  5,  0,  5,  0,  0,\n",
              "        0,  2,  1,  2,  3,  0,  0,  5,  0,  1,  4,  0,  3,  4,  0,  4,  7,\n",
              "        0,  2,  4,  0,  0,  3,  3,  5,  0,  0,  3,  0,  7,  4,  5,  3,  5,\n",
              "        5,  1,  0,  5,  0,  3,  4,  0,  7,  1,  4,  0,  5,  0,  4,  5,  3,\n",
              "        5,  4,  1,  0,  0,  3,  1,  0,  0,  3,  1,  0,  0,  2,  3,  3, -1,\n",
              "        0,  0,  2,  0, -1,  3,  0,  0,  0,  0,  0,  7,  0,  1,  0,  0,  5,\n",
              "        5,  2,  1,  7,  3,  0,  0,  0,  5, -1,  3,  0,  4, -1, -1, -1, -1,\n",
              "        0,  0,  1,  2,  2,  1,  2,  5,  0,  2,  2,  2,  0,  0,  3,  3,  3,\n",
              "        3,  3,  3,  1,  0,  0,  4,  4,  2,  0, -1,  4,  0,  5,  5,  0,  2,\n",
              "        4,  2,  0,  1, -1,  4,  0,  0,  4,  0,  0,  0,  0,  0,  0,  1,  0,\n",
              "        5,  3,  4,  0,  5,  0,  0, -1,  5,  4,  0,  5,  0,  0,  3,  3,  2,\n",
              "        3,  2,  0,  3,  1,  1,  3,  7,  0,  4,  3,  0,  0,  4, -1,  5,  3,\n",
              "        3,  4,  4,  3,  0,  5,  1,  2,  4,  1,  0,  5,  1,  3, -1,  2,  2,\n",
              "        2,  4,  7,  3,  1,  0, -1,  5,  1,  0,  3,  0, -1,  0,  0,  2, -1,\n",
              "        5,  3, -1,  0,  3,  2,  2,  0,  3,  4,  0,  0,  0,  0,  7,  4,  0,\n",
              "       -1, -1, -1,  1,  3,  5,  5,  4,  5,  5,  0,  0,  2,  7,  0,  5,  0,\n",
              "        0,  0,  5,  3,  0,  0,  4,  4,  0,  2, -1,  5,  0,  0,  1,  0,  3,\n",
              "        2,  4, -1,  5, -1,  3, -1, -1,  3,  0,  0,  0,  0,  0,  0,  4,  3,\n",
              "        0, -1,  2,  0,  5,  4,  5,  0,  0,  0,  4,  3,  0, -1, -1,  0, -1,\n",
              "        5,  0,  5,  0,  3,  0, -1,  0, -1,  0,  0,  2,  4,  3,  0,  0,  0,\n",
              "        0,  1,  4,  5,  0,  3,  2,  0, -1, -1,  0,  0,  5,  0,  0,  0, -1,\n",
              "        0,  3,  4,  4,  7,  0,  0,  3,  3,  0,  5,  4,  7,  4,  3,  7,  5,\n",
              "        0,  0,  0,  0,  3,  0,  4,  0,  0,  0,  0,  5,  0,  0,  0, -1,  3,\n",
              "        0,  7,  0,  0,  0,  3,  6,  0,  0,  3,  5,  0,  2,  4,  5,  0,  3,\n",
              "        7,  5,  0,  0, -1, -1,  3,  0,  0,  0,  0,  5,  1,  3,  1,  1,  3,\n",
              "        5,  3,  1,  5,  0,  1,  0,  0,  0,  0,  4,  0,  0,  1,  2,  0,  3,\n",
              "        0,  5,  5,  0, -1,  0,  7,  4,  7, -1,  5,  0,  0, -1, -1,  0,  4,\n",
              "        3, -1,  3,  0,  4,  3,  5,  0,  0,  0,  0,  1,  5,  4,  0,  5,  0,\n",
              "        4,  0,  0,  4,  0,  1,  0,  0, -1,  0,  0,  0,  6,  5,  0,  2,  5,\n",
              "        4,  7,  4,  3,  3,  1,  0,  5, -1,  0,  3,  0,  0,  4])"
            ]
          },
          "metadata": {
            "tags": []
          },
          "execution_count": 82
        }
      ]
    },
    {
      "cell_type": "code",
      "metadata": {
        "id": "7VgKQom_Ga6D",
        "outputId": "00da1a8e-fb4e-467b-c20b-d94c193b80d1",
        "colab": {
          "base_uri": "https://localhost:8080/",
          "height": 34
        }
      },
      "source": [
        "# this can show the indeces of the core instances\n",
        "# dbscan.core_sample_indices_\n",
        "\n",
        "# this shows how many core instances there are\n",
        "print(len(dbscan.components_))"
      ],
      "execution_count": null,
      "outputs": [
        {
          "output_type": "stream",
          "text": [
            "808\n"
          ],
          "name": "stdout"
        }
      ]
    },
    {
      "cell_type": "code",
      "metadata": {
        "id": "fjWCfAllGp9u",
        "outputId": "e79360f7-fbb1-412b-ef21-480132d17370",
        "colab": {
          "base_uri": "https://localhost:8080/",
          "height": 51
        }
      },
      "source": [
        "# notice that there are a lot of clusters. this is wrong!\n",
        "# let's try increasing eps\n",
        "dbscan = DBSCAN(eps=0.2, min_samples=5)\n",
        "dbscan.fit(X)"
      ],
      "execution_count": null,
      "outputs": [
        {
          "output_type": "execute_result",
          "data": {
            "text/plain": [
              "DBSCAN(algorithm='auto', eps=0.2, leaf_size=30, metric='euclidean',\n",
              "       metric_params=None, min_samples=5, n_jobs=None, p=None)"
            ]
          },
          "metadata": {
            "tags": []
          },
          "execution_count": 85
        }
      ]
    },
    {
      "cell_type": "code",
      "metadata": {
        "id": "xqK8R5oRHPiF",
        "outputId": "08080fbd-de8d-48eb-d2f8-d1b7b5b32af4",
        "colab": {
          "base_uri": "https://localhost:8080/",
          "height": 799
        }
      },
      "source": [
        "# let's see how many classes there are\n",
        "dbscan.labels_      # now there are only two!"
      ],
      "execution_count": null,
      "outputs": [
        {
          "output_type": "execute_result",
          "data": {
            "text/plain": [
              "array([0, 0, 0, 1, 0, 0, 0, 1, 1, 1, 0, 0, 0, 1, 1, 1, 1, 1, 1, 0, 0, 0,\n",
              "       1, 0, 0, 0, 0, 1, 0, 0, 1, 1, 0, 0, 0, 0, 0, 1, 0, 0, 1, 1, 0, 0,\n",
              "       0, 0, 1, 1, 1, 1, 0, 1, 1, 1, 0, 1, 0, 1, 0, 1, 0, 1, 0, 0, 0, 0,\n",
              "       0, 1, 1, 1, 1, 1, 1, 1, 1, 1, 1, 1, 1, 0, 0, 0, 0, 1, 0, 0, 0, 0,\n",
              "       0, 0, 1, 0, 1, 0, 1, 0, 1, 1, 1, 1, 0, 0, 1, 0, 0, 1, 0, 0, 0, 1,\n",
              "       1, 1, 1, 0, 0, 1, 1, 0, 0, 1, 0, 0, 0, 1, 1, 0, 0, 0, 1, 1, 0, 0,\n",
              "       0, 0, 1, 0, 1, 1, 0, 1, 1, 1, 0, 1, 1, 0, 0, 0, 1, 0, 0, 0, 1, 1,\n",
              "       0, 0, 1, 1, 0, 1, 1, 0, 0, 1, 0, 1, 0, 1, 1, 1, 1, 1, 1, 1, 1, 0,\n",
              "       0, 1, 1, 0, 0, 1, 0, 0, 1, 0, 1, 1, 1, 0, 0, 1, 1, 1, 0, 0, 1, 0,\n",
              "       0, 0, 1, 0, 0, 0, 1, 1, 1, 1, 0, 0, 0, 0, 1, 1, 1, 1, 0, 0, 0, 1,\n",
              "       1, 0, 0, 1, 1, 1, 0, 0, 1, 1, 0, 0, 0, 1, 1, 1, 1, 0, 0, 1, 1, 1,\n",
              "       0, 0, 1, 0, 1, 1, 1, 0, 0, 0, 1, 1, 1, 0, 1, 0, 0, 1, 1, 1, 0, 1,\n",
              "       1, 0, 0, 1, 0, 1, 1, 0, 0, 1, 1, 1, 0, 0, 1, 0, 1, 0, 0, 0, 1, 1,\n",
              "       1, 1, 0, 1, 1, 1, 0, 0, 0, 0, 1, 0, 0, 0, 0, 0, 0, 1, 0, 0, 1, 1,\n",
              "       0, 1, 1, 1, 0, 1, 0, 1, 0, 1, 0, 1, 1, 0, 0, 1, 0, 0, 1, 0, 1, 1,\n",
              "       1, 1, 1, 1, 0, 1, 0, 0, 1, 1, 0, 1, 1, 0, 0, 0, 0, 1, 1, 0, 0, 1,\n",
              "       0, 0, 1, 0, 1, 1, 0, 1, 1, 0, 1, 1, 1, 1, 0, 0, 1, 1, 1, 0, 1, 1,\n",
              "       1, 1, 0, 1, 1, 0, 1, 1, 1, 0, 0, 1, 1, 1, 0, 1, 0, 0, 1, 1, 0, 1,\n",
              "       1, 0, 0, 1, 1, 1, 1, 1, 1, 0, 0, 0, 0, 0, 0, 1, 1, 0, 1, 0, 0, 1,\n",
              "       1, 0, 0, 0, 0, 0, 0, 0, 0, 1, 0, 1, 0, 0, 1, 1, 0, 0, 0, 1, 1, 0,\n",
              "       1, 1, 0, 0, 1, 0, 0, 1, 0, 0, 0, 1, 0, 0, 0, 0, 0, 1, 1, 0, 0, 1,\n",
              "       1, 1, 0, 0, 1, 1, 0, 0, 0, 0, 1, 1, 1, 0, 1, 1, 1, 1, 1, 0, 0, 1,\n",
              "       1, 0, 0, 0, 1, 0, 0, 1, 1, 0, 0, 0, 1, 0, 1, 1, 1, 0, 0, 0, 1, 1,\n",
              "       0, 1, 0, 0, 0, 0, 1, 0, 1, 0, 0, 1, 0, 1, 1, 0, 1, 1, 0, 1, 1, 0,\n",
              "       0, 1, 0, 0, 1, 1, 1, 0, 0, 1, 0, 1, 1, 1, 1, 1, 1, 1, 0, 1, 0, 1,\n",
              "       1, 0, 1, 1, 1, 0, 1, 0, 1, 1, 1, 1, 1, 1, 0, 0, 1, 1, 0, 0, 1, 1,\n",
              "       0, 0, 0, 1, 1, 0, 0, 0, 0, 0, 0, 1, 0, 0, 0, 0, 0, 1, 0, 1, 0, 0,\n",
              "       1, 1, 0, 1, 1, 1, 0, 0, 0, 1, 0, 1, 0, 1, 1, 1, 0, 0, 0, 0, 1, 0,\n",
              "       0, 1, 0, 1, 0, 0, 0, 0, 0, 0, 1, 1, 1, 1, 1, 1, 1, 0, 0, 1, 1, 0,\n",
              "       0, 1, 1, 0, 1, 1, 0, 0, 1, 0, 0, 1, 0, 1, 0, 0, 1, 0, 0, 0, 0, 0,\n",
              "       0, 1, 0, 1, 1, 1, 0, 1, 0, 0, 1, 1, 1, 0, 1, 0, 0, 1, 1, 0, 1, 0,\n",
              "       0, 1, 1, 1, 1, 1, 0, 1, 1, 0, 0, 1, 0, 1, 1, 1, 1, 1, 1, 0, 1, 1,\n",
              "       0, 1, 1, 0, 1, 1, 1, 1, 0, 0, 0, 1, 1, 1, 1, 0, 1, 1, 1, 0, 1, 0,\n",
              "       0, 0, 0, 0, 0, 1, 1, 1, 0, 1, 0, 0, 0, 1, 1, 0, 0, 0, 0, 1, 1, 0,\n",
              "       0, 1, 0, 1, 1, 1, 1, 1, 1, 1, 0, 0, 0, 1, 0, 1, 0, 0, 0, 1, 1, 0,\n",
              "       0, 1, 1, 0, 0, 0, 1, 0, 0, 1, 0, 1, 0, 1, 1, 1, 1, 1, 0, 0, 1, 0,\n",
              "       0, 0, 0, 0, 0, 1, 1, 0, 1, 0, 0, 1, 1, 1, 0, 0, 0, 1, 1, 0, 0, 0,\n",
              "       0, 0, 1, 0, 1, 0, 1, 0, 1, 0, 0, 0, 0, 0, 1, 1, 0, 0, 0, 0, 1, 1,\n",
              "       1, 0, 1, 0, 0, 1, 0, 0, 0, 1, 0, 0, 0, 0, 0, 1, 1, 1, 1, 0, 0, 1,\n",
              "       1, 0, 1, 1, 1, 1, 1, 1, 1, 0, 0, 0, 0, 1, 0, 1, 0, 0, 0, 0, 1, 0,\n",
              "       0, 0, 1, 1, 0, 1, 0, 0, 0, 1, 1, 0, 0, 1, 1, 0, 0, 1, 1, 0, 1, 1,\n",
              "       1, 0, 0, 1, 0, 1, 0, 0, 0, 0, 1, 1, 1, 1, 1, 1, 1, 1, 1, 1, 0, 1,\n",
              "       0, 0, 0, 0, 1, 0, 0, 1, 0, 0, 1, 0, 1, 1, 0, 1, 0, 1, 1, 1, 1, 1,\n",
              "       0, 0, 1, 0, 0, 1, 1, 0, 1, 0, 1, 1, 1, 0, 0, 0, 0, 1, 1, 1, 0, 1,\n",
              "       0, 1, 0, 0, 1, 0, 1, 0, 0, 1, 0, 0, 0, 1, 1, 0, 0, 1, 1, 1, 1, 1,\n",
              "       1, 1, 0, 1, 1, 0, 1, 0, 0, 1])"
            ]
          },
          "metadata": {
            "tags": []
          },
          "execution_count": 88
        }
      ]
    },
    {
      "cell_type": "code",
      "metadata": {
        "id": "62uj1Qj-HUhG",
        "outputId": "186ecebe-7f7a-49df-a60d-be582c41e0fc",
        "colab": {
          "base_uri": "https://localhost:8080/",
          "height": 68
        }
      },
      "source": [
        "# this class does not come with a predict() function, so instead you\n",
        "# have to use your own classifier\n",
        "from sklearn.neighbors import KNeighborsClassifier\n",
        "\n",
        "knn = KNeighborsClassifier(n_neighbors=50)\n",
        "knn.fit(dbscan.components_, dbscan.labels_[dbscan.core_sample_indices_])    # notice that we only train on core instances"
      ],
      "execution_count": null,
      "outputs": [
        {
          "output_type": "execute_result",
          "data": {
            "text/plain": [
              "KNeighborsClassifier(algorithm='auto', leaf_size=30, metric='minkowski',\n",
              "                     metric_params=None, n_jobs=None, n_neighbors=50, p=2,\n",
              "                     weights='uniform')"
            ]
          },
          "metadata": {
            "tags": []
          },
          "execution_count": 92
        }
      ]
    },
    {
      "cell_type": "code",
      "metadata": {
        "id": "31n9YOKnH8lZ",
        "outputId": "09ab33e5-1509-4932-f05d-185be4d90ed7",
        "colab": {
          "base_uri": "https://localhost:8080/",
          "height": 102
        }
      },
      "source": [
        "# now that its trained, we can predict new data points\n",
        "X_new = np.array([[-0.5, 0], [0, 0.5], [1, -0.1], [2, 1]])\n",
        "print(knn.predict(X_new))\n",
        "print(knn.predict_proba(X_new))"
      ],
      "execution_count": null,
      "outputs": [
        {
          "output_type": "stream",
          "text": [
            "[1 0 1 0]\n",
            "[[0.24 0.76]\n",
            " [1.   0.  ]\n",
            " [0.22 0.78]\n",
            " [1.   0.  ]]\n"
          ],
          "name": "stdout"
        }
      ]
    },
    {
      "cell_type": "markdown",
      "metadata": {
        "id": "wRcAJ3cKNWVB"
      },
      "source": [
        "# Gaussian Mixtures"
      ]
    },
    {
      "cell_type": "code",
      "metadata": {
        "id": "5TaJptpuIJ7p",
        "outputId": "9254ebd2-fed9-435b-b228-e410ac24edf4",
        "colab": {
          "base_uri": "https://localhost:8080/",
          "height": 102
        }
      },
      "source": [
        "from sklearn.mixture import GaussianMixture\n",
        "\n",
        "gm = GaussianMixture(n_components=3, n_init=10)\n",
        "gm.fit(X)"
      ],
      "execution_count": 16,
      "outputs": [
        {
          "output_type": "execute_result",
          "data": {
            "text/plain": [
              "GaussianMixture(covariance_type='full', init_params='kmeans', max_iter=100,\n",
              "                means_init=None, n_components=3, n_init=10,\n",
              "                precisions_init=None, random_state=None, reg_covar=1e-06,\n",
              "                tol=0.001, verbose=0, verbose_interval=10, warm_start=False,\n",
              "                weights_init=None)"
            ]
          },
          "metadata": {
            "tags": []
          },
          "execution_count": 16
        }
      ]
    },
    {
      "cell_type": "code",
      "metadata": {
        "id": "LXiXsjH3oI3f",
        "outputId": "d3619ad6-35e0-4ebf-bf26-24b581a542da",
        "colab": {
          "base_uri": "https://localhost:8080/",
          "height": 221
        }
      },
      "source": [
        "# now lets look at the estimated parameters\n",
        "print(gm.weights_)\n",
        "print(gm.means_)\n",
        "print(gm.covariances_)"
      ],
      "execution_count": 17,
      "outputs": [
        {
          "output_type": "stream",
          "text": [
            "[0.19999841 0.59999184 0.20000975]\n",
            "[[-1.49884245  2.32506107]\n",
            " [-2.8038381   1.96681948]\n",
            " [ 0.18836316  2.30521645]]\n",
            "[[[ 8.85933378e-02  4.15274842e-03]\n",
            "  [ 4.15274842e-03  8.02016424e-02]]\n",
            "\n",
            " [[ 9.71591273e-03 -5.95041161e-05]\n",
            "  [-5.95041161e-05  3.96009074e-01]]\n",
            "\n",
            " [[ 1.67181633e-01 -7.51903441e-03]\n",
            "  [-7.51903441e-03  1.75681158e-01]]]\n"
          ],
          "name": "stdout"
        }
      ]
    },
    {
      "cell_type": "code",
      "metadata": {
        "id": "uAIWPbhKoTeT",
        "outputId": "c27cc7f9-cf1a-4305-cf89-50953d809e6c",
        "colab": {
          "base_uri": "https://localhost:8080/",
          "height": 51
        }
      },
      "source": [
        "# can see if/when the EM algorithm converged\n",
        "print(gm.converged_)\n",
        "print(gm.n_iter_)"
      ],
      "execution_count": 18,
      "outputs": [
        {
          "output_type": "stream",
          "text": [
            "True\n",
            "3\n"
          ],
          "name": "stdout"
        }
      ]
    },
    {
      "cell_type": "code",
      "metadata": {
        "id": "lmcRX-l0o4oU",
        "outputId": "5dea4831-64bb-4404-e0c7-44fe5520c84f",
        "colab": {
          "base_uri": "https://localhost:8080/",
          "height": 119
        }
      },
      "source": [
        "# now it can easily do both hard and soft classification\n",
        "\n",
        "# hard\n",
        "print(gm.predict(X[:5]))\n",
        "\n",
        "# soft\n",
        "print(gm.predict_proba(X[:5]))"
      ],
      "execution_count": 19,
      "outputs": [
        {
          "output_type": "stream",
          "text": [
            "[2 0 0 2 0]\n",
            "[[2.06870545e-004 3.24545836e-152 9.99793129e-001]\n",
            " [9.98353204e-001 1.04393246e-054 1.64679567e-003]\n",
            " [9.99615490e-001 1.74675697e-043 3.84509686e-004]\n",
            " [3.66868763e-002 3.00280524e-111 9.63313124e-001]\n",
            " [9.99978888e-001 4.73745329e-028 2.11116362e-005]]\n"
          ],
          "name": "stdout"
        }
      ]
    },
    {
      "cell_type": "code",
      "metadata": {
        "id": "BWbK8ZSypIZU",
        "outputId": "17b1a155-dae2-40af-c1e8-c05c9cf2c5bd",
        "colab": {
          "base_uri": "https://localhost:8080/",
          "height": 136
        }
      },
      "source": [
        "# since its a generative model, you can sample new data points\n",
        "X_new, y_new = gm.sample(6)\n",
        "print(X_new)\n",
        "print(y_new)"
      ],
      "execution_count": 21,
      "outputs": [
        {
          "output_type": "stream",
          "text": [
            "[[-2.73968389  1.82119642]\n",
            " [-2.83449893  2.2912512 ]\n",
            " [-2.8214151   1.74145312]\n",
            " [-2.83380345  2.23370234]\n",
            " [-2.86170888  1.47970252]\n",
            " [-2.80721433  1.91193056]]\n",
            "[1 1 1 1 1 1]\n"
          ],
          "name": "stdout"
        }
      ]
    },
    {
      "cell_type": "code",
      "metadata": {
        "id": "zPbDykSdpbSa",
        "outputId": "d31b9084-2cef-453a-c605-871ff4e9336b",
        "colab": {
          "base_uri": "https://localhost:8080/",
          "height": 34
        }
      },
      "source": [
        "# can also estimate the density of the model at a given instance\n",
        "# the score_sample() function returns the log of the estimated PDF,\n",
        "# so the higher the score the higher the estimated density. therefore,\n",
        "# if you compute the exponential of these scores, you will get the pdf\n",
        "gm.score_samples(X[:5])"
      ],
      "execution_count": 23,
      "outputs": [
        {
          "output_type": "execute_result",
          "data": {
            "text/plain": [
              "array([-2.19168163, -1.37944729, -1.92519714, -3.78724079, -1.47806188])"
            ]
          },
          "metadata": {
            "tags": []
          },
          "execution_count": 23
        }
      ]
    },
    {
      "cell_type": "markdown",
      "metadata": {
        "id": "aRky5Z4SrUyO"
      },
      "source": [
        "## Anomaly Detection Using Gaussian Mixture Models"
      ]
    },
    {
      "cell_type": "code",
      "metadata": {
        "id": "SBjdKl4oqHU9"
      },
      "source": [
        "densities = gm.score_samples(X)\n",
        "density_threshold = np.percentile(densities, 4)     # for 4%\n",
        "anomalies = X[densities < density_threshold]"
      ],
      "execution_count": 24,
      "outputs": []
    },
    {
      "cell_type": "markdown",
      "metadata": {
        "id": "FbeteQPguI2x"
      },
      "source": [
        "## Selecting the Number of Clusters"
      ]
    },
    {
      "cell_type": "code",
      "metadata": {
        "id": "-xYDF1fDsDrh",
        "outputId": "f55e1b28-4845-440b-a6e6-8155224005cc",
        "colab": {
          "base_uri": "https://localhost:8080/",
          "height": 51
        }
      },
      "source": [
        "# can see a models BIC and AIC:\n",
        "print('BIC: ', gm.bic(X))\n",
        "print('AIC: ', gm.aic(X))"
      ],
      "execution_count": 25,
      "outputs": [
        {
          "output_type": "stream",
          "text": [
            "BIC:  5178.489767329595\n",
            "AIC:  5083.27442551738\n"
          ],
          "name": "stdout"
        }
      ]
    },
    {
      "cell_type": "markdown",
      "metadata": {
        "id": "gOEJSqp6u2bz"
      },
      "source": [
        "## Bayesian Gaussian Mixture Models"
      ]
    },
    {
      "cell_type": "code",
      "metadata": {
        "id": "AArIEykOuXFh",
        "outputId": "4e90ec9c-34a4-4edf-846d-35255521622d",
        "colab": {
          "base_uri": "https://localhost:8080/",
          "height": 34
        }
      },
      "source": [
        "# you can use Bayesian GM by overshooting the number of components and\n",
        "# it will set weights close to 0 for those gaussians that are unused\n",
        "from sklearn.mixture import BayesianGaussianMixture\n",
        "\n",
        "bgm = BayesianGaussianMixture(n_components=10, n_init=10)\n",
        "bgm.fit(X)\n",
        "np.round(bgm.weights_, 2)   # only used 5 clusters"
      ],
      "execution_count": 27,
      "outputs": [
        {
          "output_type": "execute_result",
          "data": {
            "text/plain": [
              "array([0.2, 0.2, 0.2, 0.2, 0.2, 0. , 0. , 0. , 0. , 0. ])"
            ]
          },
          "metadata": {
            "tags": []
          },
          "execution_count": 27
        }
      ]
    }
  ]
}