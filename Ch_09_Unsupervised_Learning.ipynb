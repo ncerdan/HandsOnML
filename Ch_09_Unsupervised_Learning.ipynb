{
  "nbformat": 4,
  "nbformat_minor": 0,
  "metadata": {
    "colab": {
      "name": "Ch_09_Unsupervised_Learning.ipynb",
      "provenance": [],
      "toc_visible": true,
      "authorship_tag": "ABX9TyPK+gtpSvKjl1Gdp8Jq84ac"
    },
    "kernelspec": {
      "name": "python3",
      "display_name": "Python 3"
    }
  },
  "cells": [
    {
      "cell_type": "markdown",
      "metadata": {
        "id": "WASVS1VZl_mH"
      },
      "source": [
        "[![Open In Colab](https://colab.research.google.com/assets/colab-badge.svg)](https://colab.research.google.com/github/ncerdan/HandsOnML/blob/master/Ch_09_Unsupervised_Learning.ipynb)"
      ]
    },
    {
      "cell_type": "markdown",
      "metadata": {
        "id": "zIjD8sVzmKVX"
      },
      "source": [
        "# Clustering"
      ]
    },
    {
      "cell_type": "markdown",
      "metadata": {
        "id": "Bh3i5VWimM6B"
      },
      "source": [
        "## K-Means"
      ]
    },
    {
      "cell_type": "code",
      "metadata": {
        "id": "-O2vHzNxpbWl"
      },
      "source": [
        "# make out dataset\n",
        "from sklearn.datasets import make_blobs\n",
        "import numpy as np\n",
        "\n",
        "blob_centers = np.array([\n",
        "    [ 0.2,  2.3],\n",
        "    [-1.5 ,  2.3],\n",
        "    [-2.8,  1.8],\n",
        "    [-2.8,  2.8],\n",
        "    [-2.8,  1.3]                     \n",
        "])\n",
        "\n",
        "blob_std = np.array([0.4, 0.3, 0.1, 0.1, 0.1])\n",
        "\n",
        "X, y = make_blobs(n_samples=2000, centers=blob_centers, cluster_std=blob_std)"
      ],
      "execution_count": 3,
      "outputs": []
    },
    {
      "cell_type": "code",
      "metadata": {
        "id": "eweEstl2qBIq",
        "outputId": "f37920eb-02eb-4b57-aa16-d9ca5596b81f",
        "colab": {
          "base_uri": "https://localhost:8080/",
          "height": 286
        }
      },
      "source": [
        "# now lets plot them\n",
        "import matplotlib.pyplot as plt\n",
        "\n",
        "def plot_clusters(X, y=None):\n",
        "    plt.scatter(X[:, 0], X[:, 1], c=y, s=1)\n",
        "    plt.xlabel(\"$x_1$\", fontsize=14)\n",
        "    plt.ylabel(\"$x_2$\", fontsize=14, rotation=0)\n",
        "\n",
        "plt.figure(figsize=(8, 4))\n",
        "plot_clusters(X)\n",
        "plt.show()"
      ],
      "execution_count": 5,
      "outputs": [
        {
          "output_type": "display_data",
          "data": {
            "image/png": "[encoded data removed]",
            "text/plain": [
              "<Figure size 576x288 with 1 Axes>"
            ]
          },
          "metadata": {
            "tags": [],
            "needs_background": "light"
          }
        }
      ]
    },
    {
      "cell_type": "code",
      "metadata": {
        "id": "z4HVjRw_mVAs"
      },
      "source": [
        "# now let's train on the clusters\n",
        "from sklearn.cluster import KMeans\n",
        "k = 5\n",
        "kmeans = KMeans(n_clusters=k)\n",
        "y_pred = kmeans.fit_predict(X)\n"
      ],
      "execution_count": 6,
      "outputs": []
    },
    {
      "cell_type": "code",
      "metadata": {
        "id": "WyMOVx_YqiPc",
        "outputId": "ee9f1794-f6cc-4285-fbd4-9c4ed1b1fecf",
        "colab": {
          "base_uri": "https://localhost:8080/",
          "height": 51
        }
      },
      "source": [
        "# KMeans instance saves the label of each instance it was trained on\n",
        "print(kmeans.labels_)\n",
        "print(y_pred)"
      ],
      "execution_count": 7,
      "outputs": [
        {
          "output_type": "stream",
          "text": [
            "[4 4 0 ... 1 0 3]\n",
            "[4 4 0 ... 1 0 3]\n"
          ],
          "name": "stdout"
        }
      ]
    },
    {
      "cell_type": "code",
      "metadata": {
        "id": "7_24-_RMq1a6",
        "outputId": "0709a918-309d-4322-a932-cf7ab93bec13",
        "colab": {
          "base_uri": "https://localhost:8080/",
          "height": 102
        }
      },
      "source": [
        "# it also stores the centroids\n",
        "kmeans.cluster_centers_"
      ],
      "execution_count": 8,
      "outputs": [
        {
          "output_type": "execute_result",
          "data": {
            "text/plain": [
              "array([[-1.43552655,  2.3081184 ],\n",
              "       [-2.78859002,  1.79379472],\n",
              "       [ 0.24574585,  2.29695113],\n",
              "       [-2.80059137,  1.28824705],\n",
              "       [-2.7930894 ,  2.80453375]])"
            ]
          },
          "metadata": {
            "tags": []
          },
          "execution_count": 8
        }
      ]
    },
    {
      "cell_type": "code",
      "metadata": {
        "id": "MRBmIjjtq545",
        "outputId": "0775405b-5cf1-455b-a9f3-64461289fbba",
        "colab": {
          "base_uri": "https://localhost:8080/",
          "height": 34
        }
      },
      "source": [
        "# now you can easily predict new data\n",
        "X_new = np.array([[0, 2], [3, 2], [-3, 3], [-3, 2.5]])\n",
        "kmeans.predict(X_new)"
      ],
      "execution_count": 9,
      "outputs": [
        {
          "output_type": "execute_result",
          "data": {
            "text/plain": [
              "array([2, 2, 4, 4], dtype=int32)"
            ]
          },
          "metadata": {
            "tags": []
          },
          "execution_count": 9
        }
      ]
    },
    {
      "cell_type": "code",
      "metadata": {
        "id": "zYQTOZOQrEX3",
        "outputId": "1bc83e5a-43ba-4883-ffee-f9a1f5e515e1",
        "colab": {
          "base_uri": "https://localhost:8080/",
          "height": 85
        }
      },
      "source": [
        "# you can see the score of each class for data as follows\n",
        "kmeans.transform(X_new)"
      ],
      "execution_count": 10,
      "outputs": [
        {
          "output_type": "execute_result",
          "data": {
            "text/plain": [
              "array([[1.46822117, 2.79620366, 0.38544909, 2.88962009, 2.90665151],\n",
              "       [4.44621555, 5.79226165, 2.77021586, 5.84409552, 5.84868869],\n",
              "       [1.71063653, 1.22459192, 3.32101548, 1.72332875, 0.28463845],\n",
              "       [1.5761966 , 0.73717032, 3.25209086, 1.2280509 , 0.36817496]])"
            ]
          },
          "metadata": {
            "tags": []
          },
          "execution_count": 10
        }
      ]
    },
    {
      "cell_type": "markdown",
      "metadata": {
        "id": "K6X5nUlBsZO3"
      },
      "source": [
        "### Centroid Initialization Methods"
      ]
    },
    {
      "cell_type": "code",
      "metadata": {
        "id": "ELLGUGcorai5"
      },
      "source": [
        "# you can manual set the init if you happen to know roughly where they should be\n",
        "good_init = np.array([[-3, 3], [-3, 2], [-3, 1], [-1, 2], [0, 2]])\n",
        "kmeans = KMeans(n_clusters=5, init=good_init, n_init=1)     # n_inits controls how many times to run the algorithm (default = 10)"
      ],
      "execution_count": 16,
      "outputs": []
    },
    {
      "cell_type": "code",
      "metadata": {
        "id": "WGBHFsijsrSN",
        "outputId": "3bb2df0a-a9af-4fbd-bfca-e7cee2510363",
        "colab": {
          "base_uri": "https://localhost:8080/",
          "height": 34
        }
      },
      "source": [
        "# can view a models performance via its inertia (runs n_init times and picks one with lowest inertia)\n",
        "kmeans.fit(X)\n",
        "kmeans.inertia_"
      ],
      "execution_count": 20,
      "outputs": [
        {
          "output_type": "execute_result",
          "data": {
            "text/plain": [
              "219.9533475159551"
            ]
          },
          "metadata": {
            "tags": []
          },
          "execution_count": 20
        }
      ]
    },
    {
      "cell_type": "code",
      "metadata": {
        "id": "6_9jwdOntKgO",
        "outputId": "e43a4880-0760-470d-f560-7a3b17471f6f",
        "colab": {
          "base_uri": "https://localhost:8080/",
          "height": 34
        }
      },
      "source": [
        "# its score contains the negative inertia\n",
        "kmeans.score(X)"
      ],
      "execution_count": 22,
      "outputs": [
        {
          "output_type": "execute_result",
          "data": {
            "text/plain": [
              "-219.9533475159556"
            ]
          },
          "metadata": {
            "tags": []
          },
          "execution_count": 22
        }
      ]
    },
    {
      "cell_type": "markdown",
      "metadata": {
        "id": "EdOVP4uCt6iM"
      },
      "source": [
        "### Accelerated K-Means and Mini-Batch K-Means"
      ]
    },
    {
      "cell_type": "code",
      "metadata": {
        "id": "peiR3cn6thMh"
      },
      "source": [
        "# sklearn runs accelerated by default"
      ],
      "execution_count": 23,
      "outputs": []
    },
    {
      "cell_type": "code",
      "metadata": {
        "id": "KbDG-vf5uV1B",
        "outputId": "a46a5545-1acc-4dc8-c711-5dbfaa27f6a6",
        "colab": {
          "base_uri": "https://localhost:8080/",
          "height": 85
        }
      },
      "source": [
        "# sklearn implements the mini-batch version as follows\n",
        "from sklearn.cluster import MiniBatchKMeans\n",
        "\n",
        "minibatch_kmeans = MiniBatchKMeans(n_clusters=5)\n",
        "minibatch_kmeans.fit(X)"
      ],
      "execution_count": 24,
      "outputs": [
        {
          "output_type": "execute_result",
          "data": {
            "text/plain": [
              "MiniBatchKMeans(batch_size=100, compute_labels=True, init='k-means++',\n",
              "                init_size=None, max_iter=100, max_no_improvement=10,\n",
              "                n_clusters=5, n_init=3, random_state=None,\n",
              "                reassignment_ratio=0.01, tol=0.0, verbose=0)"
            ]
          },
          "metadata": {
            "tags": []
          },
          "execution_count": 24
        }
      ]
    },
    {
      "cell_type": "code",
      "metadata": {
        "id": "Fd5Dwl4puenH"
      },
      "source": [
        "# if data does not fit in memory you can either use np.memmap (see Chp 8) or just\n",
        "# run partial_fit on each mini-batch "
      ],
      "execution_count": 25,
      "outputs": []
    },
    {
      "cell_type": "markdown",
      "metadata": {
        "id": "D1hrv-gYu5k4"
      },
      "source": [
        "### Finding the Optimal Number of Clusters\n"
      ]
    },
    {
      "cell_type": "code",
      "metadata": {
        "id": "BSqCxaFousOM"
      },
      "source": [
        "TODO"
      ],
      "execution_count": null,
      "outputs": []
    }
  ]
}