{
  "nbformat": 4,
  "nbformat_minor": 0,
  "metadata": {
    "colab": {
      "name": "Ch_09_Unsupervised_Learning.ipynb",
      "provenance": [],
      "toc_visible": true,
      "authorship_tag": "ABX9TyM/uaHhXAEKm3c9Gq4ymoqw"
    },
    "kernelspec": {
      "name": "python3",
      "display_name": "Python 3"
    }
  },
  "cells": [
    {
      "cell_type": "markdown",
      "metadata": {
        "id": "WASVS1VZl_mH"
      },
      "source": [
        "[![Open In Colab](https://colab.research.google.com/assets/colab-badge.svg)](https://colab.research.google.com/github/ncerdan/HandsOnML/blob/master/Ch_09_Unsupervised_Learning.ipynb)"
      ]
    },
    {
      "cell_type": "markdown",
      "metadata": {
        "id": "zIjD8sVzmKVX"
      },
      "source": [
        "# Clustering"
      ]
    },
    {
      "cell_type": "markdown",
      "metadata": {
        "id": "Bh3i5VWimM6B"
      },
      "source": [
        "## K-Means"
      ]
    },
    {
      "cell_type": "code",
      "metadata": {
        "id": "-O2vHzNxpbWl"
      },
      "source": [
        "# make out dataset\n",
        "from sklearn.datasets import make_blobs\n",
        "import numpy as np\n",
        "\n",
        "blob_centers = np.array([\n",
        "    [ 0.2,  2.3],\n",
        "    [-1.5 ,  2.3],\n",
        "    [-2.8,  1.8],\n",
        "    [-2.8,  2.8],\n",
        "    [-2.8,  1.3]                     \n",
        "])\n",
        "\n",
        "blob_std = np.array([0.4, 0.3, 0.1, 0.1, 0.1])\n",
        "\n",
        "X, y = make_blobs(n_samples=2000, centers=blob_centers, cluster_std=blob_std)"
      ],
      "execution_count": 1,
      "outputs": []
    },
    {
      "cell_type": "code",
      "metadata": {
        "id": "eweEstl2qBIq",
        "outputId": "b62c4ffa-0dfd-4f2b-d104-c5094fb52e11",
        "colab": {
          "base_uri": "https://localhost:8080/",
          "height": 284
        }
      },
      "source": [
        "# now lets plot them\n",
        "import matplotlib.pyplot as plt\n",
        "\n",
        "def plot_clusters(X, y=None):\n",
        "    plt.scatter(X[:, 0], X[:, 1], c=y, s=1)\n",
        "    plt.xlabel(\"$x_1$\", fontsize=14)\n",
        "    plt.ylabel(\"$x_2$\", fontsize=14, rotation=0)\n",
        "\n",
        "plt.figure(figsize=(8, 4))\n",
        "plot_clusters(X)\n",
        "plt.show()"
      ],
      "execution_count": 2,
      "outputs": [
        {
          "output_type": "display_data",
          "data": {
            "image/png": "[encoded data removed]",
            "text/plain": [
              "<Figure size 576x288 with 1 Axes>"
            ]
          },
          "metadata": {
            "tags": [],
            "needs_background": "light"
          }
        }
      ]
    },
    {
      "cell_type": "code",
      "metadata": {
        "id": "z4HVjRw_mVAs"
      },
      "source": [
        "# now let's train on the clusters\n",
        "from sklearn.cluster import KMeans\n",
        "k = 5\n",
        "kmeans = KMeans(n_clusters=k)\n",
        "y_pred = kmeans.fit_predict(X)\n"
      ],
      "execution_count": 3,
      "outputs": []
    },
    {
      "cell_type": "code",
      "metadata": {
        "id": "WyMOVx_YqiPc",
        "outputId": "1ed607d7-4696-4aa9-be71-7bcd3fb1df42",
        "colab": {
          "base_uri": "https://localhost:8080/",
          "height": 51
        }
      },
      "source": [
        "# KMeans instance saves the label of each instance it was trained on\n",
        "print(kmeans.labels_)\n",
        "print(y_pred)"
      ],
      "execution_count": 4,
      "outputs": [
        {
          "output_type": "stream",
          "text": [
            "[4 1 2 ... 0 3 0]\n",
            "[4 1 2 ... 0 3 0]\n"
          ],
          "name": "stdout"
        }
      ]
    },
    {
      "cell_type": "code",
      "metadata": {
        "id": "7_24-_RMq1a6",
        "outputId": "8745ef2f-8150-46d9-d900-aa4b9c5fe96c",
        "colab": {
          "base_uri": "https://localhost:8080/",
          "height": 102
        }
      },
      "source": [
        "# it also stores the centroids\n",
        "kmeans.cluster_centers_"
      ],
      "execution_count": 5,
      "outputs": [
        {
          "output_type": "execute_result",
          "data": {
            "text/plain": [
              "array([[-2.79201629,  1.81020694],\n",
              "       [ 0.20494494,  2.30090409],\n",
              "       [-1.45171904,  2.2718239 ],\n",
              "       [-2.794128  ,  2.80311363],\n",
              "       [-2.79983352,  1.30206166]])"
            ]
          },
          "metadata": {
            "tags": []
          },
          "execution_count": 5
        }
      ]
    },
    {
      "cell_type": "code",
      "metadata": {
        "id": "MRBmIjjtq545",
        "outputId": "12b5cd02-b580-47f5-cab3-c01acce9c70b",
        "colab": {
          "base_uri": "https://localhost:8080/",
          "height": 34
        }
      },
      "source": [
        "# now you can easily predict new data\n",
        "X_new = np.array([[0, 2], [3, 2], [-3, 3], [-3, 2.5]])\n",
        "kmeans.predict(X_new)"
      ],
      "execution_count": 6,
      "outputs": [
        {
          "output_type": "execute_result",
          "data": {
            "text/plain": [
              "array([1, 1, 3, 3], dtype=int32)"
            ]
          },
          "metadata": {
            "tags": []
          },
          "execution_count": 6
        }
      ]
    },
    {
      "cell_type": "code",
      "metadata": {
        "id": "zYQTOZOQrEX3",
        "outputId": "d110843d-1660-4755-d6b0-c1af80d5440d",
        "colab": {
          "base_uri": "https://localhost:8080/",
          "height": 85
        }
      },
      "source": [
        "# you can see the score of each class for data as follows\n",
        "kmeans.transform(X_new)"
      ],
      "execution_count": 7,
      "outputs": [
        {
          "output_type": "execute_result",
          "data": {
            "text/plain": [
              "array([[2.79845964, 0.36406826, 1.47694834, 2.90725691, 2.88551307],\n",
              "       [5.79512503, 2.81120544, 4.46001016, 5.84952227, 5.84167671],\n",
              "       [1.20783473, 3.28030596, 1.71096884, 0.28486404, 1.70969623],\n",
              "       [0.7204663 , 3.21112305, 1.56500424, 0.36641664, 1.21454637]])"
            ]
          },
          "metadata": {
            "tags": []
          },
          "execution_count": 7
        }
      ]
    },
    {
      "cell_type": "markdown",
      "metadata": {
        "id": "K6X5nUlBsZO3"
      },
      "source": [
        "### Centroid Initialization Methods"
      ]
    },
    {
      "cell_type": "code",
      "metadata": {
        "id": "ELLGUGcorai5"
      },
      "source": [
        "# you can manual set the init if you happen to know roughly where they should be\n",
        "good_init = np.array([[-3, 3], [-3, 2], [-3, 1], [-1, 2], [0, 2]])\n",
        "kmeans = KMeans(n_clusters=5, init=good_init, n_init=1)     # n_inits controls how many times to run the algorithm (default = 10)"
      ],
      "execution_count": 8,
      "outputs": []
    },
    {
      "cell_type": "code",
      "metadata": {
        "id": "WGBHFsijsrSN",
        "outputId": "c5abd452-d570-458b-df51-ae34fd104f57",
        "colab": {
          "base_uri": "https://localhost:8080/",
          "height": 34
        }
      },
      "source": [
        "# can view a models performance via its inertia (runs n_init times and picks one with lowest inertia)\n",
        "kmeans.fit(X)\n",
        "kmeans.inertia_"
      ],
      "execution_count": 9,
      "outputs": [
        {
          "output_type": "execute_result",
          "data": {
            "text/plain": [
              "223.31845844725484"
            ]
          },
          "metadata": {
            "tags": []
          },
          "execution_count": 9
        }
      ]
    },
    {
      "cell_type": "code",
      "metadata": {
        "id": "6_9jwdOntKgO",
        "outputId": "138b0f82-8caa-46ea-f79a-84d5d6b323d3",
        "colab": {
          "base_uri": "https://localhost:8080/",
          "height": 34
        }
      },
      "source": [
        "# its score contains the negative inertia\n",
        "kmeans.score(X)"
      ],
      "execution_count": 10,
      "outputs": [
        {
          "output_type": "execute_result",
          "data": {
            "text/plain": [
              "-223.31845844725478"
            ]
          },
          "metadata": {
            "tags": []
          },
          "execution_count": 10
        }
      ]
    },
    {
      "cell_type": "markdown",
      "metadata": {
        "id": "EdOVP4uCt6iM"
      },
      "source": [
        "### Accelerated K-Means and Mini-Batch K-Means"
      ]
    },
    {
      "cell_type": "code",
      "metadata": {
        "id": "peiR3cn6thMh"
      },
      "source": [
        "# sklearn runs accelerated by default"
      ],
      "execution_count": 11,
      "outputs": []
    },
    {
      "cell_type": "code",
      "metadata": {
        "id": "KbDG-vf5uV1B",
        "outputId": "c324be83-52da-4bfd-b015-f95696accb3f",
        "colab": {
          "base_uri": "https://localhost:8080/",
          "height": 85
        }
      },
      "source": [
        "# sklearn implements the mini-batch version as follows\n",
        "from sklearn.cluster import MiniBatchKMeans\n",
        "\n",
        "minibatch_kmeans = MiniBatchKMeans(n_clusters=5)\n",
        "minibatch_kmeans.fit(X)"
      ],
      "execution_count": 12,
      "outputs": [
        {
          "output_type": "execute_result",
          "data": {
            "text/plain": [
              "MiniBatchKMeans(batch_size=100, compute_labels=True, init='k-means++',\n",
              "                init_size=None, max_iter=100, max_no_improvement=10,\n",
              "                n_clusters=5, n_init=3, random_state=None,\n",
              "                reassignment_ratio=0.01, tol=0.0, verbose=0)"
            ]
          },
          "metadata": {
            "tags": []
          },
          "execution_count": 12
        }
      ]
    },
    {
      "cell_type": "code",
      "metadata": {
        "id": "Fd5Dwl4puenH"
      },
      "source": [
        "# if data does not fit in memory you can either use np.memmap (see Chp 8) or just\n",
        "# run partial_fit on each mini-batch "
      ],
      "execution_count": 13,
      "outputs": []
    },
    {
      "cell_type": "markdown",
      "metadata": {
        "id": "D1hrv-gYu5k4"
      },
      "source": [
        "### Finding the Optimal Number of Clusters\n"
      ]
    },
    {
      "cell_type": "code",
      "metadata": {
        "id": "BSqCxaFousOM",
        "outputId": "4ba3bdcf-9183-4fb2-dacf-1f45f37c4900",
        "colab": {
          "base_uri": "https://localhost:8080/",
          "height": 34
        }
      },
      "source": [
        "# to see the silhouette score you can use this function\n",
        "from sklearn.metrics import silhouette_score\n",
        "\n",
        "silhouette_score(X, kmeans.labels_)"
      ],
      "execution_count": 14,
      "outputs": [
        {
          "output_type": "execute_result",
          "data": {
            "text/plain": [
              "0.6513127843131803"
            ]
          },
          "metadata": {
            "tags": []
          },
          "execution_count": 14
        }
      ]
    },
    {
      "cell_type": "markdown",
      "metadata": {
        "id": "0E1ZkW2WvEWx"
      },
      "source": [
        "## Using Clustering for Image Segmentation"
      ]
    },
    {
      "cell_type": "code",
      "metadata": {
        "id": "FpA2nNzxpOhP"
      },
      "source": [
        "from matplotlib.image import imread\n",
        "import os\n",
        "\n",
        "image = imread(os.path.join('images', 'ladybug.png'))"
      ],
      "execution_count": null,
      "outputs": []
    },
    {
      "cell_type": "code",
      "metadata": {
        "id": "Zm8NiJ6dvTPf"
      },
      "source": [
        ""
      ],
      "execution_count": null,
      "outputs": []
    }
  ]
}